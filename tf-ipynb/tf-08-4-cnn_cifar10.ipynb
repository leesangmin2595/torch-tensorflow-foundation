{
 "cells": [
  {
   "cell_type": "markdown",
   "metadata": {},
   "source": [
    "## CNN for CIFAR-10"
   ]
  },
  {
   "cell_type": "code",
   "execution_count": 50,
   "metadata": {
    "colab": {},
    "colab_type": "code",
    "id": "VzGWYvR0itwx"
   },
   "outputs": [],
   "source": [
    "import numpy as np\n",
    "import matplotlib.pyplot as plt\n",
    "import tensorflow as tf\n"
   ]
  },
  {
   "cell_type": "markdown",
   "metadata": {},
   "source": [
    "### 1. Data"
   ]
  },
  {
   "cell_type": "code",
   "execution_count": 51,
   "metadata": {
    "colab": {
     "base_uri": "https://localhost:8080/",
     "height": 66
    },
    "colab_type": "code",
    "executionInfo": {
     "elapsed": 7935,
     "status": "ok",
     "timestamp": 1563887691888,
     "user": {
      "displayName": "조현용",
      "photoUrl": "",
      "userId": "06121582825513881890"
     },
     "user_tz": -540
    },
    "id": "I20Y-fcdiyya",
    "outputId": "d262be06-07f8-40fb-f5d8-f668941a27da"
   },
   "outputs": [
    {
     "name": "stdout",
     "output_type": "stream",
     "text": [
      "X_train shape: (50000, 32, 32, 3)\n",
      "50000 train samples\n",
      "10000 test samples\n"
     ]
    }
   ],
   "source": [
    "(X_train, y_train), (X_test, y_test) = tf.keras.datasets.cifar10.load_data() # cifar-10 data load\n",
    "\n",
    "X_train = X_train.astype('float32')\n",
    "X_test = X_test.astype('float32')\n",
    "X_train /= 255 # 데이터가 1~255의 정수로되어있으므로 255로나눠 0~1 사이의 값을 갖도록 만들어 줘야 학습이 가능함. \n",
    "X_test /= 255\n",
    "\n",
    "print('X_train shape:', X_train.shape) # 50000x32x32x3의 4D array로 구성되어있음. 끝의 3은 RGB를 나타냄\n",
    "print(X_train.shape[0], 'train samples') \n",
    "print(X_test.shape[0], 'test samples')"
   ]
  },
  {
   "cell_type": "code",
   "execution_count": 52,
   "metadata": {
    "colab": {},
    "colab_type": "code",
    "id": "Q-BOqEifiz7c"
   },
   "outputs": [],
   "source": [
    "# Y_train, Y_test에 one-hot encoding을 적용함. 총 10개의 클래스가 존재하기 때문에 10개로 적용한 것\n",
    "Y_train = tf.keras.utils.to_categorical(y_train,10) \n",
    "Y_test = tf.keras.utils.to_categorical(y_test,10)\n",
    "\n"
   ]
  },
  {
   "cell_type": "markdown",
   "metadata": {},
   "source": [
    "### 2. Model( input_shape=32x32x3, output=10)"
   ]
  },
  {
   "cell_type": "code",
   "execution_count": 53,
   "metadata": {},
   "outputs": [],
   "source": [
    "batch_size = 256 # 데이터 셋이 크기때문에 batch size도 더 크게해도 됨. 512도 작동하는 것을 확인\n",
    "\n",
    "# input의 image size는 32x32\n",
    "pool_size = (2, 2)  # maxpoling의 크기\n",
    "kernel_size = (3, 3)  # Convolution layer의 크기 "
   ]
  },
  {
   "cell_type": "code",
   "execution_count": 54,
   "metadata": {
    "colab": {},
    "colab_type": "code",
    "id": "F1eB9csxi1vT"
   },
   "outputs": [
    {
     "name": "stdout",
     "output_type": "stream",
     "text": [
      "Model: \"sequential_3\"\n",
      "_________________________________________________________________\n",
      "Layer (type)                 Output Shape              Param #   \n",
      "=================================================================\n",
      "conv2d_18 (Conv2D)           (None, 32, 32, 32)        896       \n",
      "_________________________________________________________________\n",
      "batch_normalization_18 (Batc (None, 32, 32, 32)        128       \n",
      "_________________________________________________________________\n",
      "conv2d_19 (Conv2D)           (None, 32, 32, 32)        9248      \n",
      "_________________________________________________________________\n",
      "batch_normalization_19 (Batc (None, 32, 32, 32)        128       \n",
      "_________________________________________________________________\n",
      "max_pooling2d_9 (MaxPooling2 (None, 16, 16, 32)        0         \n",
      "_________________________________________________________________\n",
      "dropout_12 (Dropout)         (None, 16, 16, 32)        0         \n",
      "_________________________________________________________________\n",
      "conv2d_20 (Conv2D)           (None, 16, 16, 64)        18496     \n",
      "_________________________________________________________________\n",
      "batch_normalization_20 (Batc (None, 16, 16, 64)        256       \n",
      "_________________________________________________________________\n",
      "conv2d_21 (Conv2D)           (None, 16, 16, 64)        36928     \n",
      "_________________________________________________________________\n",
      "batch_normalization_21 (Batc (None, 16, 16, 64)        256       \n",
      "_________________________________________________________________\n",
      "max_pooling2d_10 (MaxPooling (None, 8, 8, 64)          0         \n",
      "_________________________________________________________________\n",
      "dropout_13 (Dropout)         (None, 8, 8, 64)          0         \n",
      "_________________________________________________________________\n",
      "conv2d_22 (Conv2D)           (None, 8, 8, 128)         73856     \n",
      "_________________________________________________________________\n",
      "batch_normalization_22 (Batc (None, 8, 8, 128)         512       \n",
      "_________________________________________________________________\n",
      "conv2d_23 (Conv2D)           (None, 8, 8, 128)         147584    \n",
      "_________________________________________________________________\n",
      "batch_normalization_23 (Batc (None, 8, 8, 128)         512       \n",
      "_________________________________________________________________\n",
      "max_pooling2d_11 (MaxPooling (None, 4, 4, 128)         0         \n",
      "_________________________________________________________________\n",
      "dropout_14 (Dropout)         (None, 4, 4, 128)         0         \n",
      "_________________________________________________________________\n",
      "flatten_3 (Flatten)          (None, 2048)              0         \n",
      "_________________________________________________________________\n",
      "dense_6 (Dense)              (None, 256)               524544    \n",
      "_________________________________________________________________\n",
      "batch_normalization_24 (Batc (None, 256)               1024      \n",
      "_________________________________________________________________\n",
      "dropout_15 (Dropout)         (None, 256)               0         \n",
      "_________________________________________________________________\n",
      "dense_7 (Dense)              (None, 10)                2570      \n",
      "=================================================================\n",
      "Total params: 816,938\n",
      "Trainable params: 815,530\n",
      "Non-trainable params: 1,408\n",
      "_________________________________________________________________\n"
     ]
    }
   ],
   "source": [
    "epoch = 50 \n",
    "\n",
    "model = tf.keras.models.Sequential()\n",
    "\n",
    "#layer 1\n",
    "model.add(tf.keras.layers.Conv2D(32, kernel_size, padding='same', input_shape=(32,32,3),activation='relu')) # padding은 경계부분을 처리하는 방법. same은 입력, 출력이 같은 사이즈\n",
    "model.add(tf.keras.layers.BatchNormalization()) # 각 레이어마다 batchnormalization을 진행함. overfitting을 예방하고, weight가 0으로 내려가는것을 막아줌\n",
    "model.add(tf.keras.layers.Conv2D(32, kernel_size, padding='same',activation='relu'))\n",
    "model.add(tf.keras.layers.BatchNormalization()) \n",
    "model.add(tf.keras.layers.MaxPooling2D(pool_size=pool_size)) # Pooling중 Maxpooling을 사용함. 3x3 커널에서 최대값을 꺼내 2x2로 출력하는 과정\n",
    "model.add(tf.keras.layers.Dropout(0.25)) # Moxpooling과 마찬가지로 dropout을 이용해 매 layer 층마다 overfitting을 조절하였음\n",
    "\n",
    "#layer 2\n",
    "model.add(tf.keras.layers.Conv2D(64, kernel_size, padding='same',activation='relu'))\n",
    "model.add(tf.keras.layers.BatchNormalization())\n",
    "model.add(tf.keras.layers.Conv2D(64, kernel_size, padding='same',activation='relu'))\n",
    "model.add(tf.keras.layers.BatchNormalization())\n",
    "model.add(tf.keras.layers.MaxPooling2D(pool_size=pool_size))\n",
    "model.add(tf.keras.layers.Dropout(0.25))\n",
    "\n",
    "#layer 3\n",
    "model.add(tf.keras.layers.Conv2D(128, kernel_size, padding='same',activation='relu'))\n",
    "model.add(tf.keras.layers.BatchNormalization())\n",
    "model.add(tf.keras.layers.Conv2D(128, kernel_size, padding='same',activation='relu'))\n",
    "model.add(tf.keras.layers.BatchNormalization())\n",
    "model.add(tf.keras.layers.MaxPooling2D(pool_size=pool_size))\n",
    "model.add(tf.keras.layers.Dropout(0.4)) \n",
    "\n",
    "#layer 4\n",
    "model.add(tf.keras.layers.Flatten()) # 레이어와 maxpooling을 거치면 2차원의 자료로 나오는데, 이를 1차원으로 변경해주는 과정 Flatten\n",
    "model.add(tf.keras.layers.Dense(256,activation='relu'))\n",
    "model.add(tf.keras.layers.BatchNormalization())\n",
    "model.add(tf.keras.layers.Dropout(0.5))\n",
    "\n",
    "#layer 5\n",
    "model.add(tf.keras.layers.Dense(10,activation='softmax')) # output=10인 multi-classfication과 같은문제이므로 softmax를 활용\n",
    "\n",
    "\n",
    "model.summary()"
   ]
  },
  {
   "cell_type": "markdown",
   "metadata": {},
   "source": [
    "### 3. Loss and optimizer(loss=categorical CE, optimizer=Adam)"
   ]
  },
  {
   "cell_type": "code",
   "execution_count": 55,
   "metadata": {
    "colab": {},
    "colab_type": "code",
    "id": "NSkASxGXi3Cq"
   },
   "outputs": [],
   "source": [
    "model.compile(loss='categorical_crossentropy',optimizer='Adam',metrics=['accuracy']) "
   ]
  },
  {
   "cell_type": "markdown",
   "metadata": {},
   "source": [
    "### 4. Train (validation=0.2)"
   ]
  },
  {
   "cell_type": "code",
   "execution_count": 56,
   "metadata": {
    "colab": {
     "base_uri": "https://localhost:8080/",
     "height": 520
    },
    "colab_type": "code",
    "executionInfo": {
     "elapsed": 1265760,
     "status": "ok",
     "timestamp": 1563888949732,
     "user": {
      "displayName": "조현용",
      "photoUrl": "",
      "userId": "06121582825513881890"
     },
     "user_tz": -540
    },
    "id": "j1WJlOd1i5Uq",
    "outputId": "c974346a-7bbe-4a65-ca61-d663b4740437"
   },
   "outputs": [
    {
     "name": "stdout",
     "output_type": "stream",
     "text": [
      "Epoch 1/50\n"
     ]
    },
    {
     "name": "stderr",
     "output_type": "stream",
     "text": [
      "2021-12-20 23:12:40.554773: I tensorflow/core/grappler/optimizers/custom_graph_optimizer_registry.cc:112] Plugin optimizer for device_type GPU is enabled.\n"
     ]
    },
    {
     "name": "stdout",
     "output_type": "stream",
     "text": [
      "157/157 [==============================] - ETA: 0s - loss: 1.9181 - accuracy: 0.3835"
     ]
    },
    {
     "name": "stderr",
     "output_type": "stream",
     "text": [
      "2021-12-20 23:13:13.680176: I tensorflow/core/grappler/optimizers/custom_graph_optimizer_registry.cc:112] Plugin optimizer for device_type GPU is enabled.\n"
     ]
    },
    {
     "name": "stdout",
     "output_type": "stream",
     "text": [
      "157/157 [==============================] - 36s 213ms/step - loss: 1.9181 - accuracy: 0.3835 - val_loss: 3.2138 - val_accuracy: 0.0963\n",
      "Epoch 2/50\n",
      "157/157 [==============================] - 34s 217ms/step - loss: 1.3316 - accuracy: 0.5367 - val_loss: 2.9896 - val_accuracy: 0.1976\n",
      "Epoch 3/50\n",
      "157/157 [==============================] - 30s 190ms/step - loss: 1.0918 - accuracy: 0.6160 - val_loss: 1.5627 - val_accuracy: 0.4673\n",
      "Epoch 4/50\n",
      "157/157 [==============================] - 31s 200ms/step - loss: 0.9387 - accuracy: 0.6686 - val_loss: 0.8640 - val_accuracy: 0.6937\n",
      "Epoch 5/50\n",
      "157/157 [==============================] - 30s 193ms/step - loss: 0.8365 - accuracy: 0.7056 - val_loss: 0.7798 - val_accuracy: 0.7269\n",
      "Epoch 6/50\n",
      "157/157 [==============================] - 29s 183ms/step - loss: 0.7665 - accuracy: 0.7290 - val_loss: 0.7532 - val_accuracy: 0.7332\n",
      "Epoch 7/50\n",
      "157/157 [==============================] - 28s 175ms/step - loss: 0.7132 - accuracy: 0.7495 - val_loss: 0.8708 - val_accuracy: 0.6969\n",
      "Epoch 8/50\n",
      "157/157 [==============================] - 28s 180ms/step - loss: 0.6666 - accuracy: 0.7654 - val_loss: 0.6756 - val_accuracy: 0.7689\n",
      "Epoch 9/50\n",
      "157/157 [==============================] - 32s 206ms/step - loss: 0.6276 - accuracy: 0.7800 - val_loss: 0.6652 - val_accuracy: 0.7701\n",
      "Epoch 10/50\n",
      "157/157 [==============================] - 36s 228ms/step - loss: 0.5853 - accuracy: 0.7932 - val_loss: 0.6299 - val_accuracy: 0.7833\n",
      "Epoch 11/50\n",
      "157/157 [==============================] - 29s 182ms/step - loss: 0.5584 - accuracy: 0.8001 - val_loss: 0.5970 - val_accuracy: 0.7907\n",
      "Epoch 12/50\n",
      "157/157 [==============================] - 29s 187ms/step - loss: 0.5282 - accuracy: 0.8145 - val_loss: 0.6279 - val_accuracy: 0.7861\n",
      "Epoch 13/50\n",
      "157/157 [==============================] - 29s 187ms/step - loss: 0.5049 - accuracy: 0.8240 - val_loss: 0.5822 - val_accuracy: 0.8027\n",
      "Epoch 14/50\n",
      "157/157 [==============================] - 28s 177ms/step - loss: 0.4751 - accuracy: 0.8329 - val_loss: 0.6160 - val_accuracy: 0.7966\n",
      "Epoch 15/50\n",
      "157/157 [==============================] - 30s 188ms/step - loss: 0.4527 - accuracy: 0.8409 - val_loss: 0.5859 - val_accuracy: 0.8042\n",
      "Epoch 16/50\n",
      "157/157 [==============================] - 29s 183ms/step - loss: 0.4310 - accuracy: 0.8480 - val_loss: 0.5606 - val_accuracy: 0.8158\n",
      "Epoch 17/50\n",
      "157/157 [==============================] - 28s 181ms/step - loss: 0.4194 - accuracy: 0.8522 - val_loss: 0.5801 - val_accuracy: 0.8096\n",
      "Epoch 18/50\n",
      "157/157 [==============================] - 28s 180ms/step - loss: 0.3989 - accuracy: 0.8579 - val_loss: 0.5394 - val_accuracy: 0.8180\n",
      "Epoch 19/50\n",
      "157/157 [==============================] - 31s 201ms/step - loss: 0.3804 - accuracy: 0.8659 - val_loss: 0.5867 - val_accuracy: 0.8097\n",
      "Epoch 20/50\n",
      "157/157 [==============================] - 34s 216ms/step - loss: 0.3703 - accuracy: 0.8686 - val_loss: 0.5697 - val_accuracy: 0.8136\n",
      "Epoch 21/50\n",
      "157/157 [==============================] - 33s 210ms/step - loss: 0.3506 - accuracy: 0.8771 - val_loss: 0.5258 - val_accuracy: 0.8287\n",
      "Epoch 22/50\n",
      "157/157 [==============================] - 34s 217ms/step - loss: 0.3367 - accuracy: 0.8804 - val_loss: 0.5401 - val_accuracy: 0.8279\n",
      "Epoch 23/50\n",
      "157/157 [==============================] - 34s 216ms/step - loss: 0.3321 - accuracy: 0.8835 - val_loss: 0.5251 - val_accuracy: 0.8343\n",
      "Epoch 24/50\n",
      "157/157 [==============================] - 33s 210ms/step - loss: 0.3167 - accuracy: 0.8871 - val_loss: 0.5105 - val_accuracy: 0.8327\n",
      "Epoch 25/50\n",
      "157/157 [==============================] - 33s 213ms/step - loss: 0.3000 - accuracy: 0.8937 - val_loss: 0.6003 - val_accuracy: 0.8167\n",
      "Epoch 26/50\n",
      "157/157 [==============================] - 34s 216ms/step - loss: 0.2899 - accuracy: 0.8978 - val_loss: 0.5051 - val_accuracy: 0.8394\n",
      "Epoch 27/50\n",
      "157/157 [==============================] - 33s 210ms/step - loss: 0.2837 - accuracy: 0.8998 - val_loss: 0.5269 - val_accuracy: 0.8343\n",
      "Epoch 28/50\n",
      "157/157 [==============================] - 34s 215ms/step - loss: 0.2773 - accuracy: 0.9003 - val_loss: 0.5152 - val_accuracy: 0.8432\n",
      "Epoch 29/50\n",
      "157/157 [==============================] - 37s 238ms/step - loss: 0.2661 - accuracy: 0.9060 - val_loss: 0.5343 - val_accuracy: 0.8394\n",
      "Epoch 30/50\n",
      "157/157 [==============================] - 34s 219ms/step - loss: 0.2596 - accuracy: 0.9080 - val_loss: 0.5061 - val_accuracy: 0.8428\n",
      "Epoch 31/50\n",
      "157/157 [==============================] - 35s 222ms/step - loss: 0.2542 - accuracy: 0.9096 - val_loss: 0.4835 - val_accuracy: 0.8497\n",
      "Epoch 32/50\n",
      "157/157 [==============================] - 35s 223ms/step - loss: 0.2444 - accuracy: 0.9115 - val_loss: 0.5168 - val_accuracy: 0.8414\n",
      "Epoch 33/50\n",
      "157/157 [==============================] - 33s 212ms/step - loss: 0.2393 - accuracy: 0.9139 - val_loss: 0.4764 - val_accuracy: 0.8513\n",
      "Epoch 34/50\n",
      "157/157 [==============================] - 34s 217ms/step - loss: 0.2292 - accuracy: 0.9170 - val_loss: 0.5006 - val_accuracy: 0.8491\n",
      "Epoch 35/50\n",
      "157/157 [==============================] - 32s 202ms/step - loss: 0.2264 - accuracy: 0.9186 - val_loss: 0.5479 - val_accuracy: 0.8385\n",
      "Epoch 36/50\n",
      "157/157 [==============================] - 33s 210ms/step - loss: 0.2248 - accuracy: 0.9210 - val_loss: 0.5610 - val_accuracy: 0.8366\n",
      "Epoch 37/50\n",
      "157/157 [==============================] - 34s 217ms/step - loss: 0.2147 - accuracy: 0.9245 - val_loss: 0.5055 - val_accuracy: 0.8480\n",
      "Epoch 38/50\n",
      "157/157 [==============================] - 34s 215ms/step - loss: 0.2091 - accuracy: 0.9249 - val_loss: 0.5295 - val_accuracy: 0.8440\n",
      "Epoch 39/50\n",
      "157/157 [==============================] - 32s 204ms/step - loss: 0.2064 - accuracy: 0.9263 - val_loss: 0.5526 - val_accuracy: 0.8404\n",
      "Epoch 40/50\n",
      "157/157 [==============================] - 34s 217ms/step - loss: 0.2039 - accuracy: 0.9268 - val_loss: 0.5444 - val_accuracy: 0.8415\n",
      "Epoch 41/50\n",
      "157/157 [==============================] - 32s 203ms/step - loss: 0.1975 - accuracy: 0.9306 - val_loss: 0.5245 - val_accuracy: 0.8495\n",
      "Epoch 42/50\n",
      "157/157 [==============================] - 34s 214ms/step - loss: 0.1929 - accuracy: 0.9317 - val_loss: 0.5083 - val_accuracy: 0.8545\n",
      "Epoch 43/50\n",
      "157/157 [==============================] - 34s 215ms/step - loss: 0.1886 - accuracy: 0.9331 - val_loss: 0.5754 - val_accuracy: 0.8399\n",
      "Epoch 44/50\n",
      "157/157 [==============================] - 36s 229ms/step - loss: 0.1816 - accuracy: 0.9350 - val_loss: 0.5597 - val_accuracy: 0.8427\n",
      "Epoch 45/50\n",
      "157/157 [==============================] - 33s 211ms/step - loss: 0.1859 - accuracy: 0.9336 - val_loss: 0.5287 - val_accuracy: 0.8543\n",
      "Epoch 46/50\n",
      "157/157 [==============================] - 34s 217ms/step - loss: 0.1788 - accuracy: 0.9372 - val_loss: 0.5066 - val_accuracy: 0.8568\n",
      "Epoch 47/50\n",
      "157/157 [==============================] - 33s 210ms/step - loss: 0.1740 - accuracy: 0.9364 - val_loss: 0.5053 - val_accuracy: 0.8552\n",
      "Epoch 48/50\n",
      "157/157 [==============================] - 35s 221ms/step - loss: 0.1756 - accuracy: 0.9371 - val_loss: 0.5659 - val_accuracy: 0.8404\n",
      "Epoch 49/50\n",
      "157/157 [==============================] - 33s 212ms/step - loss: 0.1643 - accuracy: 0.9409 - val_loss: 0.5392 - val_accuracy: 0.8473\n",
      "Epoch 50/50\n",
      "157/157 [==============================] - 35s 226ms/step - loss: 0.1637 - accuracy: 0.9426 - val_loss: 0.5440 - val_accuracy: 0.8515\n"
     ]
    }
   ],
   "source": [
    "history=model.fit(X_train, Y_train, batch_size=batch_size, epochs=epoch, validation_split=0.2)"
   ]
  },
  {
   "cell_type": "markdown",
   "metadata": {},
   "source": [
    "### 5. Test"
   ]
  },
  {
   "cell_type": "code",
   "execution_count": 57,
   "metadata": {
    "colab": {
     "base_uri": "https://localhost:8080/",
     "height": 66
    },
    "colab_type": "code",
    "executionInfo": {
     "elapsed": 1273593,
     "status": "ok",
     "timestamp": 1563888957566,
     "user": {
      "displayName": "조현용",
      "photoUrl": "",
      "userId": "06121582825513881890"
     },
     "user_tz": -540
    },
    "id": "2GuIHGHdi51v",
    "outputId": "c5e46824-c5c1-438e-97a3-28a0a5d79ee9"
   },
   "outputs": [
    {
     "name": "stdout",
     "output_type": "stream",
     "text": [
      "313/313 [==============================] - 5s 14ms/step - loss: 0.5843 - accuracy: 0.8410\n",
      "Test loss: 0.5842612385749817\n",
      "Test accuracy: 0.8410000205039978\n"
     ]
    }
   ],
   "source": [
    "predict = model.evaluate(X_test, Y_test) # test를 하는 함수 = evaluate\n",
    "\n",
    "print('Test loss:', predict[0]) # evaluate를 통해 index 0앤 loss, 1엔 accuracy가 들어가있음 이를 출력\n",
    "print('Test accuracy:', predict[1])"
   ]
  },
  {
   "cell_type": "markdown",
   "metadata": {},
   "source": [
    "### 6. Result"
   ]
  },
  {
   "cell_type": "code",
   "execution_count": 58,
   "metadata": {},
   "outputs": [],
   "source": [
    "## history 함수에 정확도, loss가 모두 저장되어있음. 이를 꺼내옴\n",
    "acc = history.history['accuracy']\n",
    "val_acc = history.history['val_accuracy']\n",
    "loss = history.history['loss']\n",
    "val_loss = history.history['val_loss']"
   ]
  },
  {
   "cell_type": "markdown",
   "metadata": {},
   "source": [
    "### 6-1. loss plot"
   ]
  },
  {
   "cell_type": "code",
   "execution_count": 59,
   "metadata": {
    "colab": {
     "base_uri": "https://localhost:8080/",
     "height": 294
    },
    "colab_type": "code",
    "executionInfo": {
     "elapsed": 1273592,
     "status": "ok",
     "timestamp": 1563888957568,
     "user": {
      "displayName": "조현용",
      "photoUrl": "",
      "userId": "06121582825513881890"
     },
     "user_tz": -540
    },
    "id": "CKgNe6Kpi7Af",
    "outputId": "ed95905e-33ff-41db-8cc2-bb740415adcb"
   },
   "outputs": [
    {
     "data": {
      "image/png": "[encoded data removed]",
      "text/plain": [
       "<Figure size 432x288 with 1 Axes>"
      ]
     },
     "metadata": {
      "needs_background": "light"
     },
     "output_type": "display_data"
    }
   ],
   "source": [
    "epochs = range(1,len(acc)+1)\n",
    "\n",
    "plt.plot(epochs, loss, 'r', label='Training loss')\n",
    "plt.plot(epochs, val_loss, 'b', label='Validation loss')\n",
    "plt.title('Loss')\n",
    "plt.xlabel('Epochs')\n",
    "plt.ylabel('Loss')\n",
    "plt.legend()\n",
    "\n",
    "plt.show()"
   ]
  },
  {
   "cell_type": "markdown",
   "metadata": {},
   "source": [
    "### 6-2. Acc plot"
   ]
  },
  {
   "cell_type": "code",
   "execution_count": 60,
   "metadata": {
    "colab": {
     "base_uri": "https://localhost:8080/",
     "height": 294
    },
    "colab_type": "code",
    "executionInfo": {
     "elapsed": 1273592,
     "status": "ok",
     "timestamp": 1563888957569,
     "user": {
      "displayName": "조현용",
      "photoUrl": "",
      "userId": "06121582825513881890"
     },
     "user_tz": -540
    },
    "id": "kgBieSe0i38x",
    "outputId": "a5c1f636-43b3-4515-81f5-6aa5ffc8dbef"
   },
   "outputs": [
    {
     "data": {
      "image/png": "[encoded data removed]",
      "text/plain": [
       "<Figure size 432x288 with 1 Axes>"
      ]
     },
     "metadata": {
      "needs_background": "light"
     },
     "output_type": "display_data"
    }
   ],
   "source": [
    "plt.plot(epochs, acc, 'r', label='Training acc')\n",
    "plt.plot(epochs, val_acc, 'b', label='Validation acc')\n",
    "plt.title('Acc')\n",
    "plt.xlabel('Epochs')\n",
    "plt.ylabel('Accuracy')\n",
    "plt.legend()\n",
    "\n",
    "plt.show()"
   ]
  },
  {
   "cell_type": "markdown",
   "metadata": {},
   "source": [
    "### 7. Report"
   ]
  },
  {
   "cell_type": "markdown",
   "metadata": {},
   "source": [
    "1. 기본적으로 데이터 전처리 과정으로 class가 0~9에 해당하는 정수 값이므로 Y_train, y_test 데이터에 one-hot encoding을 적용함으로써 각 class(airplane,automobile 등)에 해당하는 index에 1이 출력되도록 만들어주었다. 다른 X들은 기본적으로 dataset 자체에서 전처리가 대부분 진행된 상태이기 때문에 더 진행할 필요가 없었다. \n",
    "\n",
    "2. 모델에선 처음에 input_shape=32x32x3이다. 32x32 사이즈의 image를 rgb로 총 3개의 채널이 존재한다. 기존의 모델을 구현하였을 때 Conv2D layer 1층에 maxpooling 1층씩 해서 모델을 구현하였더니 성능이 약 70%정도에서 더이상 정확도가 오르지 않았을 뿐더러 overfitting이 강하게 일어나 epoch를 매우 낮게(최대 15) 로 진행하여야만 했다. 하지만, Conv2D 층 2 개를 이용하여 하나로 묶는 형태로 dropout의 도입과 각 Conv2D 레이어마다 batchnormalizattion을 집어넣어 overfitting 문제를 잡으면서 더 큰 epoch를 이용 할 수 있게 만들었다. epoch를 더이상 늘려도 val loss와 accuracy가 거이 일정한 수준으로 보이는 것으로 보아 50 이상은 진행하지 않아도 된다고 판단하였다. dropout의 크기도 중요하였는데, 모두를 0.2를 시작으로, 조금씩 늘려가며 잘 나오는 구간을 찾아보니 마지막은 크게 0.5를주고, 처음은 적게주다가 늘려주는 방식이 이 모델을 구현하는데에 있어선 좋은방법 이었다. 그리고, Maxpooling과 Batchnormalization, Dropout의 순서가 이 모델에선 굉장히 중요하였다.  Conv2D 레이어, activation 레이어, maxpooling 레이어, Batchnormalization(BN), Dropout 총 다섯개의 레이어의 순서를 달리하면 또 모델의 정확도가 조금씩 변화하였기 때문이다. activation 레이어는 Conv2D에서 분리도 가능한데, BN 후에 activation을 동작하면 더 좋은 효과를 보여주긴 하였지만, 속도도 느려지고 미미한 차이라 Conv2D 레이어에 붙인 형태로 동작시켰고, Conv2D-activation-BN-Conv2D-activation-BN-Maxpooling-dropout 의 구성으로 진행하다가 #layer 4에서 모델을 Flatten 하여 1차원으로 변경하여 준 후, 마지막에 softmax로 총 10개의 output으로 분류하였다. \n",
    "\n",
    "3. 이 문제는 0~9의 총 10개의 output을 분류하는 softmax를 활용한 문제이기 때문에 loss function은 categorical_crossentropy를 이용하였고, optimizer은 gradient descent방법중 하나인 Adam을 이용하였다. default값의 learning_rate로 사용한 Adam, SGD중엔 Adam이 더 정확도가 높았기 때문에 이를 이용하였다. learning_rate를 변화시켜가며 모델을 개선시키기엔 학습 속도가 매우 느렸기 때문에 전부 다 해보진 못했지만, 미미한 차이가 있을 것이라고 예상된다.\n",
    "\n",
    "4. 트레인은 총 256의 batch size로 50번의 epoch, 그리고 20%의 데이터를 validation 데이터로 활용하여 진행하였다. validation loss 데이터로 overfitting을 예측 할 수 있고, validation accuracy로 test의 정확도를 예측해볼 수 있다. 여기서 batch size는 더 키워서 진행하여도 된다. 512로 진행하여도 잘 나오는 것을 확인하였다. 하지만, epoch는 더이상 늘려도 학습이 더이상 진행되진 않았다. validation loss가 감소하지도 않고, validation acc가 증가하지도 않고 거이 일정하였기 때문에 더 늘리지 않고 50번만 진행하였다.\n",
    "\n",
    "5. 테스트는 총 tensorflow에 내장된 evaluate 함수를 통해 X_test, Y_test를 이용하여 loss와 accuracy를 출력하였고, 약 84.1%의 정확도를 보였다.\n",
    "\n",
    "6. 결과 그래프를 통해 validation 데이터와 train 데이터를 epoch에 대해서 loss와 accuracy를 볼 수 있다. loss는 validation loss가 최대한 떨어지는 구간까지 진행하였고, loss가 위로 증가하진 않아 overfitting이 일어나진 않았다고 볼 수 있으며, accuracy를 보았을 때도 validation loss가 약 84~85% 구간에서 유지되는 것을 알 수 있었다.\n",
    "\n",
    "이를 정리하면, mnist, fashion-mnist와는 다르게 CNN을 활용한 복잡한 분류 문제에선 모델을 어떻게 구성하느냐에 따라 정확도가 천차만별 임을 알 수 있었다. 따라서 더 좋은 정확도를 얻기 위해선 모델을 어떻게 구성해야 할 지, Pooling, BN, activation, dropout등과 Conv2D에서의 padding값 들을 최대한 활용하여 최적의 모델을 구현하기 위해 노력해야하고, 다른 사람의 코드를 활용 하는 것도 매우 중요하지만, 어떤 방식으로 구현되는지 순서와 의미들, 즉 이론을 알고있어야 더 좋고 나은 모델을 구현할 수 있다는 점을 알 수 있었다."
   ]
  },
  {
   "cell_type": "markdown",
   "metadata": {},
   "source": []
  }
 ],
 "metadata": {
  "accelerator": "GPU",
  "colab": {
   "collapsed_sections": [],
   "name": "tf2-08-4-cifar10_cnn.ipynb",
   "provenance": [],
   "version": "0.3.2"
  },
  "kernelspec": {
   "display_name": "Python 3",
   "language": "python",
   "name": "python3"
  },
  "language_info": {
   "codemirror_mode": {
    "name": "ipython",
    "version": 3
   },
   "file_extension": ".py",
   "mimetype": "text/x-python",
   "name": "python",
   "nbconvert_exporter": "python",
   "pygments_lexer": "ipython3",
   "version": "3.8.12"
  }
 },
 "nbformat": 4,
 "nbformat_minor": 1
}

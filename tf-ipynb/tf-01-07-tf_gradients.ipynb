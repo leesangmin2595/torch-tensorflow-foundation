{
 "cells": [
  {
   "cell_type": "markdown",
   "source": [
    "### TensorFlow를 이용하여 자동미분 계산하기\n",
    "1. Deep learning model을 학습시키기 위해서는 gradient descent 방법을 사용하고, 이를 위해서는 gradient 즉 미분을 계산해야 합니다. (Loss 를 weight로 미분)\n",
    "2. TensorFlow에서 자동으로 미분을 계산하는 방법을 알아보겠습니다\n",
    "3. TensorFlow는 자동 미분을 위한 tf.GradientTape API를 제공합니다."
   ],
   "metadata": {}
  },
  {
   "cell_type": "code",
   "execution_count": 3,
   "source": [
    "import tensorflow as tf"
   ],
   "outputs": [],
   "metadata": {}
  },
  {
   "cell_type": "markdown",
   "source": [
    "### z = f(w1, w2) = 3*W1^2 + 2*W1*W2 함수 정의"
   ],
   "metadata": {}
  },
  {
   "cell_type": "code",
   "execution_count": 4,
   "source": [
    "def f(w1, w2):\n",
    "    return 3*w1**2 + 2*w1*w2"
   ],
   "outputs": [],
   "metadata": {}
  },
  {
   "cell_type": "markdown",
   "source": [
    "### w1 = 5., w2 = 3. 할당\n",
    "### tf.GradientTape는 컨텍스트(context) 안에서 실행된 모든 연산을 테이프(tape)에 \"기록\"합니다."
   ],
   "metadata": {}
  },
  {
   "cell_type": "code",
   "execution_count": 5,
   "source": [
    "w1, w2 = tf.Variable(5.), tf.Variable(3.)\n",
    "with tf.GradientTape() as tape:\n",
    "    z = f(w1, w2)"
   ],
   "outputs": [],
   "metadata": {}
  },
  {
   "cell_type": "markdown",
   "source": [
    "### 그 다음 TensorFlow는 후진 방식 자동 미분(reverse mode differentiation)을 사용해 테이프에 \"기록된\" 연산의 그래디언트를 계산합니다."
   ],
   "metadata": {}
  },
  {
   "cell_type": "code",
   "execution_count": 29,
   "source": [
    "gradients = tape.gradient(z, [w1, w2])\n",
    "print(gradients)"
   ],
   "outputs": [
    {
     "output_type": "stream",
     "name": "stdout",
     "text": [
      "[<tf.Tensor: id=293, shape=(), dtype=float32, numpy=36.0>, <tf.Tensor: id=285, shape=(), dtype=float32, numpy=10.0>]\n"
     ]
    }
   ],
   "metadata": {}
  },
  {
   "cell_type": "markdown",
   "source": [
    "### GradientTape를 열게되면, 그때부턴 tape.watch()를 통해 tensor를 확인하고, 이 tensor를 입력으로써 사용하는 미분을 자동으로 계산하는것이 가능합니다."
   ],
   "metadata": {}
  },
  {
   "cell_type": "code",
   "execution_count": 30,
   "source": [
    "c1, c2 = tf.constant(5.), tf.constant(3.)\n",
    "with tf.GradientTape() as tape:\n",
    "    tape.watch(c1)\n",
    "    tape.watch(c2)\n",
    "    z = f(c1, c2)"
   ],
   "outputs": [],
   "metadata": {}
  },
  {
   "cell_type": "markdown",
   "source": [
    "### c1, c2에 대한 미분 계산"
   ],
   "metadata": {}
  },
  {
   "cell_type": "code",
   "execution_count": 31,
   "source": [
    "gradients = tape.gradient(z, [c1, c2])\n",
    "print(gradients)"
   ],
   "outputs": [
    {
     "output_type": "stream",
     "name": "stdout",
     "text": [
      "[<tf.Tensor: id=316, shape=(), dtype=float32, numpy=36.0>, <tf.Tensor: id=308, shape=(), dtype=float32, numpy=10.0>]\n"
     ]
    }
   ],
   "metadata": {}
  },
  {
   "cell_type": "code",
   "execution_count": 32,
   "source": [
    "x = tf.ones((2, 2))\n",
    "print(x)"
   ],
   "outputs": [
    {
     "output_type": "stream",
     "name": "stdout",
     "text": [
      "tf.Tensor(\n",
      "[[1. 1.]\n",
      " [1. 1.]], shape=(2, 2), dtype=float32)\n"
     ]
    }
   ],
   "metadata": {}
  },
  {
   "cell_type": "code",
   "execution_count": 33,
   "source": [
    "with tf.GradientTape() as t:\n",
    "    t.watch(x)    \n",
    "    y = tf.reduce_sum(x)\n",
    "    z = tf.multiply(y, y)"
   ],
   "outputs": [],
   "metadata": {}
  },
  {
   "cell_type": "code",
   "execution_count": 34,
   "source": [
    "dz_dx = t.gradient(z, x)\n",
    "print(dz_dx)"
   ],
   "outputs": [
    {
     "output_type": "stream",
     "name": "stdout",
     "text": [
      "tf.Tensor(\n",
      "[[8. 8.]\n",
      " [8. 8.]], shape=(2, 2), dtype=float32)\n"
     ]
    }
   ],
   "metadata": {}
  },
  {
   "cell_type": "code",
   "execution_count": 35,
   "source": [
    "x = tf.Variable(x)\n",
    "with tf.GradientTape() as t:   \n",
    "    y = tf.reduce_sum(x)\n",
    "    z = tf.multiply(y, y)"
   ],
   "outputs": [],
   "metadata": {}
  },
  {
   "cell_type": "code",
   "execution_count": 36,
   "source": [
    "dz_dx = t.gradient(z, x)\n",
    "print(dz_dx)"
   ],
   "outputs": [
    {
     "output_type": "stream",
     "name": "stdout",
     "text": [
      "tf.Tensor(\n",
      "[[8. 8.]\n",
      " [8. 8.]], shape=(2, 2), dtype=float32)\n"
     ]
    }
   ],
   "metadata": {}
  },
  {
   "cell_type": "code",
   "execution_count": null,
   "source": [],
   "outputs": [],
   "metadata": {}
  },
  {
   "cell_type": "code",
   "execution_count": null,
   "source": [],
   "outputs": [],
   "metadata": {}
  }
 ],
 "metadata": {
  "kernelspec": {
   "name": "python3",
   "display_name": "Python 3.8.11 64-bit ('tf25': conda)"
  },
  "language_info": {
   "codemirror_mode": {
    "name": "ipython",
    "version": 3
   },
   "file_extension": ".py",
   "mimetype": "text/x-python",
   "name": "python",
   "nbconvert_exporter": "python",
   "pygments_lexer": "ipython3",
   "version": "3.8.11"
  },
  "interpreter": {
   "hash": "5f0bfe02fba3a9f333ee5973088cb3f971a7c1d19c2e60e79ea8ff7eeb2eaaee"
  }
 },
 "nbformat": 4,
 "nbformat_minor": 4
}
{
 "cells": [
  {
   "cell_type": "code",
   "execution_count": 2,
   "metadata": {
    "colab": {},
    "colab_type": "code",
    "id": "Jof1_xWYHRv4"
   },
   "outputs": [],
   "source": [
    "import tensorflow as tf"
   ]
  },
  {
   "cell_type": "markdown",
   "metadata": {},
   "source": [
    "### Load Boston data"
   ]
  },
  {
   "cell_type": "code",
   "execution_count": 3,
   "metadata": {
    "colab": {
     "base_uri": "https://localhost:8080/",
     "height": 66
    },
    "colab_type": "code",
    "executionInfo": {
     "elapsed": 619,
     "status": "ok",
     "timestamp": 1563839781351,
     "user": {
      "displayName": "조현용",
      "photoUrl": "",
      "userId": "06121582825513881890"
     },
     "user_tz": -540
    },
    "id": "XYibId_bHUbV",
    "outputId": "19527730-4f39-45bb-cf0c-89da893f57a5"
   },
   "outputs": [
    {
     "name": "stdout",
     "output_type": "stream",
     "text": [
      "Training Data : X_train (404, 13) y_train (404,) \n",
      " Test Data : X_test (102, 13) y_test (102,)\n"
     ]
    }
   ],
   "source": [
    "(X_train, y_train),(X_test,y_test) = tf.keras.datasets.boston_housing.load_data()\n",
    "print(\"Training Data :\",\"X_train\",X_train.shape,\"y_train\", y_train.shape, \"\\n\",\n",
    "      \"Test Data :\",\"X_test\", X_test.shape,\"y_test\", y_test.shape)"
   ]
  },
  {
   "cell_type": "markdown",
   "metadata": {},
   "source": [
    "### Boston data & target Display"
   ]
  },
  {
   "cell_type": "code",
   "execution_count": 4,
   "metadata": {
    "colab": {
     "base_uri": "https://localhost:8080/",
     "height": 316
    },
    "colab_type": "code",
    "executionInfo": {
     "elapsed": 682,
     "status": "ok",
     "timestamp": 1563839787655,
     "user": {
      "displayName": "조현용",
      "photoUrl": "",
      "userId": "06121582825513881890"
     },
     "user_tz": -540
    },
    "id": "T9xos4Y8HVc-",
    "outputId": "1fecf5c5-eba5-4561-d7bb-0a110cd475f8"
   },
   "outputs": [
    {
     "name": "stdout",
     "output_type": "stream",
     "text": [
      "[  1.23247   0.        8.14      0.        0.538     6.142    91.7\n",
      "   3.9769    4.      307.       21.      396.9      18.72   ] 15.2\n",
      "[2.1770e-02 8.2500e+01 2.0300e+00 0.0000e+00 4.1500e-01 7.6100e+00\n",
      " 1.5700e+01 6.2700e+00 2.0000e+00 3.4800e+02 1.4700e+01 3.9538e+02\n",
      " 3.1100e+00] 42.3\n",
      "[4.89822e+00 0.00000e+00 1.81000e+01 0.00000e+00 6.31000e-01 4.97000e+00\n",
      " 1.00000e+02 1.33250e+00 2.40000e+01 6.66000e+02 2.02000e+01 3.75520e+02\n",
      " 3.26000e+00] 50.0\n",
      "[3.9610e-02 0.0000e+00 5.1900e+00 0.0000e+00 5.1500e-01 6.0370e+00\n",
      " 3.4500e+01 5.9853e+00 5.0000e+00 2.2400e+02 2.0200e+01 3.9690e+02\n",
      " 8.0100e+00] 21.1\n",
      "[  3.69311   0.       18.1       0.        0.713     6.376    88.4\n",
      "   2.5671   24.      666.       20.2     391.43     14.65   ] 17.7\n",
      "\n",
      "crim : 1.23247 zn : 0.0 indus : 8.14 chas : 0.0\n",
      "nox : 0.538 rm : 6.142 age : 91.7 dis : 3.9769\n",
      "rad : 4.0 tax : 307.0 ptratio : 21.0 black : 396.9 lstat : 18.72\n",
      "medv : 15.2\n"
     ]
    }
   ],
   "source": [
    "for i in range(5):\n",
    "    print(X_train[i,:], y_train[i])\n",
    "    \n",
    "print()\n",
    "print('crim :',X_train[0,0], 'zn :',X_train[0,1], 'indus :',X_train[0,2],'chas :',X_train[0,3])\n",
    "print('nox :',X_train[0,4], 'rm :',X_train[0,5], 'age :',X_train[0,6],'dis :',X_train[0,7])\n",
    "print('rad :',X_train[0,8], 'tax :',X_train[0,9], 'ptratio :',X_train[0,10],'black :',X_train[0,11],'lstat :',X_train[0,12])\n",
    "print('medv :',y_train[0])\n",
    "\n"
   ]
  },
  {
   "cell_type": "code",
   "execution_count": null,
   "metadata": {},
   "outputs": [],
   "source": []
  }
 ],
 "metadata": {
  "colab": {
   "collapsed_sections": [],
   "name": "tf2-01-13-keras_boston_display.ipynb",
   "provenance": [],
   "version": "0.3.2"
  },
  "kernelspec": {
   "display_name": "Python 3",
   "language": "python",
   "name": "python3"
  },
  "language_info": {
   "codemirror_mode": {
    "name": "ipython",
    "version": 3
   },
   "file_extension": ".py",
   "mimetype": "text/x-python",
   "name": "python",
   "nbconvert_exporter": "python",
   "pygments_lexer": "ipython3",
   "version": "3.7.6"
  }
 },
 "nbformat": 4,
 "nbformat_minor": 1
}

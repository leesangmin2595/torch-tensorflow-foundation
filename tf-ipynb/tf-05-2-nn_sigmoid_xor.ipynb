{
 "cells": [
  {
   "cell_type": "markdown",
   "metadata": {},
   "source": [
    "## Multi-Layer Neural Network with Sigmoid Activation Functions"
   ]
  },
  {
   "cell_type": "code",
   "execution_count": 4,
   "metadata": {
    "colab": {},
    "colab_type": "code",
    "id": "Zzme8IdFaKbT"
   },
   "outputs": [],
   "source": [
    "import tensorflow as tf\n",
    "import numpy as np\n",
    "import matplotlib.pyplot as plt"
   ]
  },
  {
   "cell_type": "markdown",
   "metadata": {},
   "source": [
    "### sigmoid function"
   ]
  },
  {
   "cell_type": "code",
   "execution_count": 5,
   "metadata": {
    "colab": {},
    "colab_type": "code",
    "id": "f3D2yKJpaNgP"
   },
   "outputs": [],
   "source": [
    "def sigmoid(x):\n",
    "    return(1. / (1. + np.exp(-x)))"
   ]
  },
  {
   "cell_type": "markdown",
   "metadata": {},
   "source": [
    "### Step 1. Data -  target : 0, 1 binary"
   ]
  },
  {
   "cell_type": "code",
   "execution_count": 6,
   "metadata": {
    "colab": {},
    "colab_type": "code",
    "id": "wj0BWZU3aOS5"
   },
   "outputs": [],
   "source": [
    "x_data = np.array([[0., 0.],\n",
    "          [0., 1.],\n",
    "          [1., 0.],\n",
    "          [1., 1.]])\n",
    "y_data = np.array([[0.],\n",
    "          [1.],\n",
    "          [1.],\n",
    "          [0.]])"
   ]
  },
  {
   "cell_type": "markdown",
   "metadata": {},
   "source": [
    "### Step 2. 2-layer Neural Network Model with fixed weights and bias & sigmoid activation functions"
   ]
  },
  {
   "cell_type": "code",
   "execution_count": 7,
   "metadata": {},
   "outputs": [],
   "source": [
    "W1 = np.array([[5., 5.], [-7.,-7.]])\n",
    "b1 = np.array([[-8., 3.]])\n",
    "W2 = np.array([[-11., -11.]])\n",
    "b2 = np.array([[6.]])\n",
    "\n",
    "a1 = np.add(np.matmul(x_data, np.transpose(W1)), b1)\n",
    "z1 = sigmoid(a1)\n",
    "a2 = np.add(np.matmul(z1, np.transpose(W2)), b2)\n",
    "y = sigmoid(a2)\n",
    "\n",
    "y_pred = np.array(y>0.5, dtype=np.int32)"
   ]
  },
  {
   "cell_type": "markdown",
   "metadata": {},
   "source": [
    "### print the hidden and output results"
   ]
  },
  {
   "cell_type": "code",
   "execution_count": 12,
   "metadata": {
    "colab": {
     "base_uri": "https://localhost:8080/",
     "height": 350
    },
    "colab_type": "code",
    "executionInfo": {
     "elapsed": 31782,
     "status": "ok",
     "timestamp": 1563878328243,
     "user": {
      "displayName": "조현용",
      "photoUrl": "",
      "userId": "06121582825513881890"
     },
     "user_tz": -540
    },
    "id": "2EBMu-4NaPw1",
    "outputId": "8e5ae31d-6dbc-4adf-9be6-974da6661bf3"
   },
   "outputs": [
    {
     "name": "stdout",
     "output_type": "stream",
     "text": [
      "[[ -8.   3.]\n",
      " [ -3.  -4.]\n",
      " [ -3.  -4.]\n",
      " [  2. -11.]]\n",
      "[[3.35350130e-04 9.52574127e-01]\n",
      " [4.74258732e-02 1.79862100e-02]\n",
      " [4.74258732e-02 1.79862100e-02]\n",
      " [8.80797078e-01 1.67014218e-05]]\n",
      "[[-4.48200425]\n",
      " [ 5.28046709]\n",
      " [ 5.28046709]\n",
      " [-3.68895157]]\n",
      "[[0.01118422]\n",
      " [0.99493572]\n",
      " [0.99493572]\n",
      " [0.02438853]]\n",
      "[[0]\n",
      " [1]\n",
      " [1]\n",
      " [0]]\n"
     ]
    }
   ],
   "source": [
    "print(a1)\n",
    "print(z1)  # hidden layer results\n",
    "print(a2)\n",
    "print(y)   # output layer results\n",
    "print(y_pred)"
   ]
  },
  {
   "cell_type": "markdown",
   "metadata": {},
   "source": [
    "### plot the hidden and output results"
   ]
  },
  {
   "cell_type": "code",
   "execution_count": 15,
   "metadata": {
    "colab": {
     "base_uri": "https://localhost:8080/",
     "height": 294
    },
    "colab_type": "code",
    "executionInfo": {
     "elapsed": 23344,
     "status": "ok",
     "timestamp": 1563878328547,
     "user": {
      "displayName": "조현용",
      "photoUrl": "",
      "userId": "06121582825513881890"
     },
     "user_tz": -540
    },
    "id": "crP-UXksaQtM",
    "outputId": "b777e3e3-1445-4ab0-9158-64f1267fae1e"
   },
   "outputs": [
    {
     "data": {
      "image/png": "[encoded data removed]",
      "text/plain": [
       "<Figure size 432x288 with 3 Axes>"
      ]
     },
     "metadata": {
      "needs_background": "light"
     },
     "output_type": "display_data"
    }
   ],
   "source": [
    "plt.subplot(1,3,1)\n",
    "plt.scatter(x_data[0, 0], x_data[0, 1], s=300, color='red', marker='o', label='0')\n",
    "plt.scatter(x_data[3, 0], x_data[3, 1], s=300, color='red', marker='o')\n",
    "plt.scatter(x_data[1, 0], x_data[1, 1], s=300, color='blue', marker='x', label='1')\n",
    "plt.scatter(x_data[2, 0], x_data[2, 1], s=300, color='blue', marker='x')\n",
    "plt.xlabel('x1')\n",
    "plt.ylabel('x2')\n",
    "plt.legend(loc='lower center')\n",
    "plt.title('x data')\n",
    "plt.subplot(1,3,2)\n",
    "plt.scatter(z1[0, 0], z1[0, 1], s=300, color='red', marker='o', label='0')\n",
    "plt.scatter(z1[3, 0], z1[3, 1], s=300, color='red', marker='o')\n",
    "plt.scatter(z1[1, 0], z1[1, 1], s=300, color='blue', marker='x', label='1')\n",
    "plt.scatter(z1[2, 0], z1[2, 1], s=300, color='blue', marker='x')\n",
    "plt.xlabel('z1')\n",
    "plt.ylabel('z2')\n",
    "#plt.legend(loc='lower center')\n",
    "plt.title('z data after sigmoid')\n",
    "plt.subplot(1,3,3)\n",
    "plt.scatter(y[0], 0, s=300, color='red', marker='o', label='0')\n",
    "plt.scatter(y[3], 0, s=300, color='red', marker='o')\n",
    "plt.scatter(y[1], 0, s=300, color='blue', marker='x', label='1')\n",
    "plt.scatter(y[2], 0, s=300, color='blue', marker='x')\n",
    "plt.xlabel('y')\n",
    "plt.yticks([0])\n",
    "#plt.legend(loc='lower center')\n",
    "plt.title('y data after sigmoid')\n",
    "\n",
    "\n",
    "plt.show()"
   ]
  }
 ],
 "metadata": {
  "colab": {
   "collapsed_sections": [],
   "name": "tf2-05-2-xor_sigmoid.ipynb",
   "provenance": [],
   "version": "0.3.2"
  },
  "kernelspec": {
   "display_name": "Python 3",
   "language": "python",
   "name": "python3"
  },
  "language_info": {
   "codemirror_mode": {
    "name": "ipython",
    "version": 3
   },
   "file_extension": ".py",
   "mimetype": "text/x-python",
   "name": "python",
   "nbconvert_exporter": "python",
   "pygments_lexer": "ipython3",
   "version": "3.6.9"
  }
 },
 "nbformat": 4,
 "nbformat_minor": 1
}

{
 "cells": [
  {
   "cell_type": "markdown",
   "metadata": {},
   "source": [
    "## Keras Model Load & Save"
   ]
  },
  {
   "cell_type": "code",
   "execution_count": null,
   "metadata": {
    "colab": {},
    "colab_type": "code",
    "id": "oaa0mUJ-JdaK"
   },
   "outputs": [],
   "source": [
    "import tensorflow as tf\n",
    "import numpy as np\n",
    "import matplotlib.pyplot as plt"
   ]
  },
  {
   "cell_type": "code",
   "execution_count": null,
   "metadata": {
    "colab": {},
    "colab_type": "code",
    "id": "PeTsRJEkJeSd"
   },
   "outputs": [],
   "source": [
    "np.random.seed(0)"
   ]
  },
  {
   "cell_type": "markdown",
   "metadata": {},
   "source": [
    "### Step 1. Make random data"
   ]
  },
  {
   "cell_type": "code",
   "execution_count": null,
   "metadata": {
    "colab": {},
    "colab_type": "code",
    "id": "xLe7sG8RJfrB"
   },
   "outputs": [],
   "source": [
    "def make_random_data():\n",
    "    x = np.random.uniform(low=-2, high=2, size=200)\n",
    "    y = []\n",
    "    for t in x:\n",
    "        r = np.random.normal(loc=0.0, scale=(0.5 + t*t/3), size=None)\n",
    "        y.append(r)\n",
    "    return  x, 1.726*x -0.84 + np.array(y)"
   ]
  },
  {
   "cell_type": "markdown",
   "metadata": {},
   "source": [
    "### Display data"
   ]
  },
  {
   "cell_type": "code",
   "execution_count": null,
   "metadata": {
    "colab": {
     "base_uri": "https://localhost:8080/",
     "height": 268
    },
    "colab_type": "code",
    "executionInfo": {
     "elapsed": 640,
     "status": "ok",
     "timestamp": 1563840354570,
     "user": {
      "displayName": "조현용",
      "photoUrl": "",
      "userId": "06121582825513881890"
     },
     "user_tz": -540
    },
    "id": "tA5HVsiqJgmX",
    "outputId": "9328e9d7-7674-4761-db8e-934888f832e2"
   },
   "outputs": [],
   "source": [
    "x, y = make_random_data() \n",
    "\n",
    "plt.plot(x, y, 'o')\n",
    "plt.show()\n"
   ]
  },
  {
   "cell_type": "markdown",
   "metadata": {},
   "source": [
    "### Make training and test data"
   ]
  },
  {
   "cell_type": "code",
   "execution_count": null,
   "metadata": {
    "colab": {},
    "colab_type": "code",
    "id": "HHz5Qf27JhZD"
   },
   "outputs": [],
   "source": [
    "epoch=100\n",
    "x_train, y_train = x[:150], y[:150]\n",
    "x_test, y_test = x[150:], y[150:]"
   ]
  },
  {
   "cell_type": "markdown",
   "metadata": {},
   "source": [
    "### Step 2-3. Sequential Model, Loss, Optimizer"
   ]
  },
  {
   "cell_type": "code",
   "execution_count": 7,
   "metadata": {
    "colab": {
     "base_uri": "https://localhost:8080/",
     "height": 183
    },
    "colab_type": "code",
    "executionInfo": {
     "elapsed": 647,
     "status": "ok",
     "timestamp": 1563840364131,
     "user": {
      "displayName": "조현용",
      "photoUrl": "",
      "userId": "06121582825513881890"
     },
     "user_tz": -540
    },
    "id": "qxgCzg55Jiju",
    "outputId": "e829ed07-d086-4015-e6ab-bce7c7dafe3d"
   },
   "outputs": [
    {
     "name": "stdout",
     "output_type": "stream",
     "text": [
      "Model: \"sequential\"\n",
      "_________________________________________________________________\n",
      "Layer (type)                 Output Shape              Param #   \n",
      "=================================================================\n",
      "dense (Dense)                (None, 1)                 2         \n",
      "=================================================================\n",
      "Total params: 2\n",
      "Trainable params: 2\n",
      "Non-trainable params: 0\n",
      "_________________________________________________________________\n"
     ]
    }
   ],
   "source": [
    "model = tf.keras.Sequential()\n",
    "model.add(tf.keras.layers.Dense(units=1, input_dim=1))\n",
    "model.summary()\n",
    "\n",
    "model.compile(optimizer='sgd', loss='mse')"
   ]
  },
  {
   "cell_type": "markdown",
   "metadata": {},
   "source": [
    "### Step 4. Training the Model"
   ]
  },
  {
   "cell_type": "code",
   "execution_count": 8,
   "metadata": {
    "colab": {
     "base_uri": "https://localhost:8080/",
     "height": 1000
    },
    "colab_type": "code",
    "executionInfo": {
     "elapsed": 2175,
     "status": "ok",
     "timestamp": 1563840369708,
     "user": {
      "displayName": "조현용",
      "photoUrl": "",
      "userId": "06121582825513881890"
     },
     "user_tz": -540
    },
    "id": "JMcgWzqsJjua",
    "outputId": "9ec9c7df-02c1-47d2-ab5c-0a7d9371a12d"
   },
   "outputs": [
    {
     "name": "stdout",
     "output_type": "stream",
     "text": [
      "Train on 105 samples, validate on 45 samples\n",
      "Epoch 1/100\n",
      "105/105 [==============================] - 0s 1ms/sample - loss: 2.0283 - val_loss: 1.4465\n",
      "Epoch 2/100\n",
      "105/105 [==============================] - 0s 127us/sample - loss: 1.8064 - val_loss: 1.3446\n",
      "Epoch 3/100\n",
      "105/105 [==============================] - 0s 94us/sample - loss: 1.6310 - val_loss: 1.2555\n",
      "Epoch 4/100\n",
      "105/105 [==============================] - 0s 92us/sample - loss: 1.4811 - val_loss: 1.1809\n",
      "Epoch 5/100\n",
      "105/105 [==============================] - 0s 109us/sample - loss: 1.3547 - val_loss: 1.1192\n",
      "Epoch 6/100\n",
      "105/105 [==============================] - 0s 87us/sample - loss: 1.2488 - val_loss: 1.0747\n",
      "Epoch 7/100\n",
      "105/105 [==============================] - 0s 85us/sample - loss: 1.1759 - val_loss: 1.0384\n",
      "Epoch 8/100\n",
      "105/105 [==============================] - 0s 87us/sample - loss: 1.1095 - val_loss: 1.0065\n",
      "Epoch 9/100\n",
      "105/105 [==============================] - 0s 89us/sample - loss: 1.0535 - val_loss: 0.9785\n",
      "Epoch 10/100\n",
      "105/105 [==============================] - 0s 92us/sample - loss: 1.0032 - val_loss: 0.9562\n",
      "Epoch 11/100\n",
      "105/105 [==============================] - 0s 95us/sample - loss: 0.9629 - val_loss: 0.9400\n",
      "Epoch 12/100\n",
      "105/105 [==============================] - 0s 89us/sample - loss: 0.9348 - val_loss: 0.9279\n",
      "Epoch 13/100\n",
      "105/105 [==============================] - 0s 91us/sample - loss: 0.9082 - val_loss: 0.9183\n",
      "Epoch 14/100\n",
      "105/105 [==============================] - 0s 88us/sample - loss: 0.8839 - val_loss: 0.9071\n",
      "Epoch 15/100\n",
      "105/105 [==============================] - 0s 94us/sample - loss: 0.8585 - val_loss: 0.8955\n",
      "Epoch 16/100\n",
      "105/105 [==============================] - 0s 83us/sample - loss: 0.8370 - val_loss: 0.8912\n",
      "Epoch 17/100\n",
      "105/105 [==============================] - 0s 77us/sample - loss: 0.8262 - val_loss: 0.8864\n",
      "Epoch 18/100\n",
      "105/105 [==============================] - 0s 92us/sample - loss: 0.8152 - val_loss: 0.8817\n",
      "Epoch 19/100\n",
      "105/105 [==============================] - 0s 96us/sample - loss: 0.8047 - val_loss: 0.8788\n",
      "Epoch 20/100\n",
      "105/105 [==============================] - 0s 87us/sample - loss: 0.7974 - val_loss: 0.8791\n",
      "Epoch 21/100\n",
      "105/105 [==============================] - 0s 109us/sample - loss: 0.7918 - val_loss: 0.8782\n",
      "Epoch 22/100\n",
      "105/105 [==============================] - 0s 99us/sample - loss: 0.7837 - val_loss: 0.8771\n",
      "Epoch 23/100\n",
      "105/105 [==============================] - 0s 110us/sample - loss: 0.7807 - val_loss: 0.8777\n",
      "Epoch 24/100\n",
      "105/105 [==============================] - 0s 79us/sample - loss: 0.7774 - val_loss: 0.8766\n",
      "Epoch 25/100\n",
      "105/105 [==============================] - 0s 90us/sample - loss: 0.7747 - val_loss: 0.8768\n",
      "Epoch 26/100\n",
      "105/105 [==============================] - 0s 83us/sample - loss: 0.7747 - val_loss: 0.8751\n",
      "Epoch 27/100\n",
      "105/105 [==============================] - 0s 111us/sample - loss: 0.7719 - val_loss: 0.8726\n",
      "Epoch 28/100\n",
      "105/105 [==============================] - 0s 99us/sample - loss: 0.7707 - val_loss: 0.8741\n",
      "Epoch 29/100\n",
      "105/105 [==============================] - 0s 88us/sample - loss: 0.7678 - val_loss: 0.8753\n",
      "Epoch 30/100\n",
      "105/105 [==============================] - 0s 96us/sample - loss: 0.7659 - val_loss: 0.8754\n",
      "Epoch 31/100\n",
      "105/105 [==============================] - 0s 99us/sample - loss: 0.7648 - val_loss: 0.8764\n",
      "Epoch 32/100\n",
      "105/105 [==============================] - 0s 133us/sample - loss: 0.7636 - val_loss: 0.8771\n",
      "Epoch 33/100\n",
      "105/105 [==============================] - 0s 95us/sample - loss: 0.7633 - val_loss: 0.8770\n",
      "Epoch 34/100\n",
      "105/105 [==============================] - 0s 93us/sample - loss: 0.7631 - val_loss: 0.8824\n",
      "Epoch 35/100\n",
      "105/105 [==============================] - 0s 95us/sample - loss: 0.7606 - val_loss: 0.8838\n",
      "Epoch 36/100\n",
      "105/105 [==============================] - 0s 90us/sample - loss: 0.7597 - val_loss: 0.8842\n",
      "Epoch 37/100\n",
      "105/105 [==============================] - 0s 96us/sample - loss: 0.7605 - val_loss: 0.8848\n",
      "Epoch 38/100\n",
      "105/105 [==============================] - 0s 96us/sample - loss: 0.7603 - val_loss: 0.8893\n",
      "Epoch 39/100\n",
      "105/105 [==============================] - 0s 79us/sample - loss: 0.7593 - val_loss: 0.8889\n",
      "Epoch 40/100\n",
      "105/105 [==============================] - 0s 83us/sample - loss: 0.7583 - val_loss: 0.8898\n",
      "Epoch 41/100\n",
      "105/105 [==============================] - 0s 85us/sample - loss: 0.7581 - val_loss: 0.8940\n",
      "Epoch 42/100\n",
      "105/105 [==============================] - 0s 118us/sample - loss: 0.7572 - val_loss: 0.8985\n",
      "Epoch 43/100\n",
      "105/105 [==============================] - 0s 124us/sample - loss: 0.7573 - val_loss: 0.8961\n",
      "Epoch 44/100\n",
      "105/105 [==============================] - 0s 94us/sample - loss: 0.7578 - val_loss: 0.8982\n",
      "Epoch 45/100\n",
      "105/105 [==============================] - 0s 99us/sample - loss: 0.7595 - val_loss: 0.8992\n",
      "Epoch 46/100\n",
      "105/105 [==============================] - 0s 93us/sample - loss: 0.7584 - val_loss: 0.8963\n",
      "Epoch 47/100\n",
      "105/105 [==============================] - 0s 88us/sample - loss: 0.7586 - val_loss: 0.8950\n",
      "Epoch 48/100\n",
      "105/105 [==============================] - 0s 87us/sample - loss: 0.7582 - val_loss: 0.8924\n",
      "Epoch 49/100\n",
      "105/105 [==============================] - 0s 93us/sample - loss: 0.7575 - val_loss: 0.8936\n",
      "Epoch 50/100\n",
      "105/105 [==============================] - 0s 100us/sample - loss: 0.7582 - val_loss: 0.8936\n",
      "Epoch 51/100\n",
      "105/105 [==============================] - 0s 148us/sample - loss: 0.7576 - val_loss: 0.8949\n",
      "Epoch 52/100\n",
      "105/105 [==============================] - 0s 85us/sample - loss: 0.7578 - val_loss: 0.8947\n",
      "Epoch 53/100\n",
      "105/105 [==============================] - 0s 89us/sample - loss: 0.7575 - val_loss: 0.8961\n",
      "Epoch 54/100\n",
      "105/105 [==============================] - 0s 105us/sample - loss: 0.7572 - val_loss: 0.8946\n",
      "Epoch 55/100\n",
      "105/105 [==============================] - 0s 96us/sample - loss: 0.7584 - val_loss: 0.8927\n",
      "Epoch 56/100\n",
      "105/105 [==============================] - 0s 111us/sample - loss: 0.7570 - val_loss: 0.8940\n",
      "Epoch 57/100\n",
      "105/105 [==============================] - 0s 137us/sample - loss: 0.7578 - val_loss: 0.8909\n",
      "Epoch 58/100\n",
      "105/105 [==============================] - 0s 94us/sample - loss: 0.7579 - val_loss: 0.8974\n",
      "Epoch 59/100\n",
      "105/105 [==============================] - 0s 104us/sample - loss: 0.7567 - val_loss: 0.9002\n",
      "Epoch 60/100\n",
      "105/105 [==============================] - 0s 97us/sample - loss: 0.7565 - val_loss: 0.9019\n",
      "Epoch 61/100\n",
      "105/105 [==============================] - 0s 107us/sample - loss: 0.7587 - val_loss: 0.9029\n",
      "Epoch 62/100\n",
      "105/105 [==============================] - 0s 90us/sample - loss: 0.7568 - val_loss: 0.9014\n",
      "Epoch 63/100\n",
      "105/105 [==============================] - 0s 86us/sample - loss: 0.7587 - val_loss: 0.9110\n",
      "Epoch 64/100\n",
      "105/105 [==============================] - 0s 89us/sample - loss: 0.7569 - val_loss: 0.9074\n",
      "Epoch 65/100\n",
      "105/105 [==============================] - 0s 94us/sample - loss: 0.7561 - val_loss: 0.9089\n",
      "Epoch 66/100\n",
      "105/105 [==============================] - 0s 98us/sample - loss: 0.7572 - val_loss: 0.9091\n",
      "Epoch 67/100\n",
      "105/105 [==============================] - 0s 92us/sample - loss: 0.7568 - val_loss: 0.9099\n",
      "Epoch 68/100\n",
      "105/105 [==============================] - 0s 95us/sample - loss: 0.7562 - val_loss: 0.9052\n",
      "Epoch 69/100\n",
      "105/105 [==============================] - 0s 89us/sample - loss: 0.7564 - val_loss: 0.9086\n",
      "Epoch 70/100\n",
      "105/105 [==============================] - 0s 97us/sample - loss: 0.7567 - val_loss: 0.9140\n",
      "Epoch 71/100\n",
      "105/105 [==============================] - 0s 99us/sample - loss: 0.7579 - val_loss: 0.9086\n",
      "Epoch 72/100\n",
      "105/105 [==============================] - 0s 102us/sample - loss: 0.7577 - val_loss: 0.9100\n",
      "Epoch 73/100\n",
      "105/105 [==============================] - 0s 84us/sample - loss: 0.7578 - val_loss: 0.9085\n",
      "Epoch 74/100\n",
      "105/105 [==============================] - 0s 92us/sample - loss: 0.7565 - val_loss: 0.9059\n",
      "Epoch 75/100\n",
      "105/105 [==============================] - 0s 113us/sample - loss: 0.7568 - val_loss: 0.9043\n",
      "Epoch 76/100\n",
      "105/105 [==============================] - 0s 81us/sample - loss: 0.7560 - val_loss: 0.9050\n",
      "Epoch 77/100\n",
      "105/105 [==============================] - 0s 68us/sample - loss: 0.7575 - val_loss: 0.9078\n",
      "Epoch 78/100\n",
      "105/105 [==============================] - 0s 65us/sample - loss: 0.7556 - val_loss: 0.9090\n",
      "Epoch 79/100\n",
      "105/105 [==============================] - 0s 60us/sample - loss: 0.7564 - val_loss: 0.9092\n",
      "Epoch 80/100\n",
      "105/105 [==============================] - 0s 63us/sample - loss: 0.7582 - val_loss: 0.9082\n",
      "Epoch 81/100\n",
      "105/105 [==============================] - 0s 95us/sample - loss: 0.7562 - val_loss: 0.9076\n",
      "Epoch 82/100\n",
      "105/105 [==============================] - 0s 113us/sample - loss: 0.7563 - val_loss: 0.9086\n",
      "Epoch 83/100\n",
      "105/105 [==============================] - 0s 91us/sample - loss: 0.7565 - val_loss: 0.9100\n",
      "Epoch 84/100\n",
      "105/105 [==============================] - 0s 99us/sample - loss: 0.7569 - val_loss: 0.9105\n",
      "Epoch 85/100\n",
      "105/105 [==============================] - 0s 118us/sample - loss: 0.7565 - val_loss: 0.9066\n",
      "Epoch 86/100\n",
      "105/105 [==============================] - 0s 124us/sample - loss: 0.7558 - val_loss: 0.9065\n",
      "Epoch 87/100\n",
      "105/105 [==============================] - 0s 99us/sample - loss: 0.7557 - val_loss: 0.9089\n",
      "Epoch 88/100\n",
      "105/105 [==============================] - 0s 92us/sample - loss: 0.7564 - val_loss: 0.9077\n",
      "Epoch 89/100\n",
      "105/105 [==============================] - 0s 102us/sample - loss: 0.7562 - val_loss: 0.9032\n",
      "Epoch 90/100\n",
      "105/105 [==============================] - 0s 102us/sample - loss: 0.7562 - val_loss: 0.9044\n",
      "Epoch 91/100\n",
      "105/105 [==============================] - 0s 92us/sample - loss: 0.7562 - val_loss: 0.9030\n",
      "Epoch 92/100\n",
      "105/105 [==============================] - 0s 97us/sample - loss: 0.7564 - val_loss: 0.9058\n",
      "Epoch 93/100\n",
      "105/105 [==============================] - 0s 145us/sample - loss: 0.7564 - val_loss: 0.9090\n",
      "Epoch 94/100\n",
      "105/105 [==============================] - 0s 128us/sample - loss: 0.7559 - val_loss: 0.9094\n",
      "Epoch 95/100\n",
      "105/105 [==============================] - 0s 94us/sample - loss: 0.7572 - val_loss: 0.9067\n",
      "Epoch 96/100\n",
      "105/105 [==============================] - 0s 87us/sample - loss: 0.7564 - val_loss: 0.9034\n",
      "Epoch 97/100\n",
      "105/105 [==============================] - 0s 123us/sample - loss: 0.7559 - val_loss: 0.9032\n",
      "Epoch 98/100\n",
      "105/105 [==============================] - 0s 116us/sample - loss: 0.7557 - val_loss: 0.9049\n",
      "Epoch 99/100\n",
      "105/105 [==============================] - 0s 113us/sample - loss: 0.7558 - val_loss: 0.9076\n",
      "Epoch 100/100\n",
      "105/105 [==============================] - 0s 102us/sample - loss: 0.7561 - val_loss: 0.9071\n"
     ]
    }
   ],
   "source": [
    "history = model.fit(x_train, y_train, epochs=epoch, \n",
    "                    validation_split=0.3)"
   ]
  },
  {
   "cell_type": "markdown",
   "metadata": {},
   "source": [
    "### Step 5. Test the Model"
   ]
  },
  {
   "cell_type": "code",
   "execution_count": 9,
   "metadata": {
    "colab": {
     "base_uri": "https://localhost:8080/",
     "height": 50
    },
    "colab_type": "code",
    "executionInfo": {
     "elapsed": 633,
     "status": "ok",
     "timestamp": 1563840374465,
     "user": {
      "displayName": "조현용",
      "photoUrl": "",
      "userId": "06121582825513881890"
     },
     "user_tz": -540
    },
    "id": "u8TQ9v-QJktj",
    "outputId": "1a037acb-7984-4cc6-d300-3badb438ddae"
   },
   "outputs": [
    {
     "name": "stdout",
     "output_type": "stream",
     "text": [
      "50/50 [==============================] - 0s 611us/sample - loss: 0.9468\n"
     ]
    },
    {
     "data": {
      "text/plain": [
       "0.9468251371383667"
      ]
     },
     "execution_count": 9,
     "metadata": {
      "tags": []
     },
     "output_type": "execute_result"
    }
   ],
   "source": [
    "test_loss = model.evaluate(x_test, y_test, verbose=2)\n",
    "print('test_loss = ', test_loss)"
   ]
  },
  {
   "cell_type": "markdown",
   "metadata": {},
   "source": [
    "###  Display Training & Validataion Losses"
   ]
  },
  {
   "cell_type": "code",
   "execution_count": 10,
   "metadata": {
    "colab": {
     "base_uri": "https://localhost:8080/",
     "height": 282
    },
    "colab_type": "code",
    "executionInfo": {
     "elapsed": 735,
     "status": "ok",
     "timestamp": 1563840379395,
     "user": {
      "displayName": "조현용",
      "photoUrl": "",
      "userId": "06121582825513881890"
     },
     "user_tz": -540
    },
    "id": "7yUl-1S-JmQI",
    "outputId": "9c0f73dd-b977-4729-90a8-d8bb150253f9"
   },
   "outputs": [
    {
     "data": {
      "image/png": "[encoded data removed]",
      "text/plain": [
       "<Figure size 432x288 with 1 Axes>"
      ]
     },
     "metadata": {
      "tags": []
     },
     "output_type": "display_data"
    }
   ],
   "source": [
    "epochs = np.arange(1, epoch+1)\n",
    "plt.plot(epochs, history.history['loss'], label='Training loss')\n",
    "plt.plot(epochs, history.history['val_loss'], label='Validation loss')\n",
    "plt.xlabel('Epochs')\n",
    "plt.ylabel('Loss')\n",
    "plt.legend()\n",
    "plt.show()"
   ]
  },
  {
   "cell_type": "markdown",
   "metadata": {},
   "source": [
    "### Display the Regression Result"
   ]
  },
  {
   "cell_type": "code",
   "execution_count": 11,
   "metadata": {
    "colab": {
     "base_uri": "https://localhost:8080/",
     "height": 268
    },
    "colab_type": "code",
    "executionInfo": {
     "elapsed": 669,
     "status": "ok",
     "timestamp": 1563840384132,
     "user": {
      "displayName": "조현용",
      "photoUrl": "",
      "userId": "06121582825513881890"
     },
     "user_tz": -540
    },
    "id": "wi5-Li6LJnba",
    "outputId": "843acd18-5985-4aa1-858b-c54736cefef0"
   },
   "outputs": [
    {
     "data": {
      "image/png": "[encoded data removed]",
      "text/plain": [
       "<Figure size 432x288 with 1 Axes>"
      ]
     },
     "metadata": {
      "tags": []
     },
     "output_type": "display_data"
    }
   ],
   "source": [
    "x_arr = np.arange(-2, 2, 0.1)\n",
    "y_arr = model.predict(x_arr)\n",
    "\n",
    "plt.figure()\n",
    "plt.plot(x_train, y_train, 'bo')\n",
    "plt.plot(x_test, y_test, 'bo', alpha=0.3)\n",
    "plt.plot(x_arr, y_arr, '-r', lw=3)\n",
    "plt.show()"
   ]
  },
  {
   "cell_type": "markdown",
   "metadata": {},
   "source": [
    "### Save  Model weights"
   ]
  },
  {
   "cell_type": "code",
   "execution_count": 0,
   "metadata": {
    "colab": {},
    "colab_type": "code",
    "id": "P3P2vjz5Jomm"
   },
   "outputs": [],
   "source": [
    "model.save_weights('simple_weights.h5')"
   ]
  },
  {
   "cell_type": "markdown",
   "metadata": {},
   "source": [
    "### Load  Model weights"
   ]
  },
  {
   "cell_type": "code",
   "execution_count": 13,
   "metadata": {
    "colab": {
     "base_uri": "https://localhost:8080/",
     "height": 50
    },
    "colab_type": "code",
    "executionInfo": {
     "elapsed": 655,
     "status": "ok",
     "timestamp": 1563840409223,
     "user": {
      "displayName": "조현용",
      "photoUrl": "",
      "userId": "06121582825513881890"
     },
     "user_tz": -540
    },
    "id": "eP-JZKLXJq7E",
    "outputId": "b22818c2-dde5-479c-d86b-af71ebe098e8"
   },
   "outputs": [
    {
     "name": "stdout",
     "output_type": "stream",
     "text": [
      "50/50 [==============================] - 0s 388us/sample - loss: 0.9468\n"
     ]
    },
    {
     "data": {
      "text/plain": [
       "0.9468251371383667"
      ]
     },
     "execution_count": 13,
     "metadata": {
      "tags": []
     },
     "output_type": "execute_result"
    }
   ],
   "source": [
    "model = tf.keras.Sequential()\n",
    "model.add(tf.keras.layers.Dense(units=1, input_dim=1))\n",
    "model.compile(optimizer='sgd', loss='mse')\n",
    "\n",
    "model.load_weights('simple_weights.h5')\n",
    "model.evaluate(x_test, y_test)"
   ]
  },
  {
   "cell_type": "markdown",
   "metadata": {},
   "source": [
    "### Save  Model"
   ]
  },
  {
   "cell_type": "code",
   "execution_count": 0,
   "metadata": {
    "colab": {},
    "colab_type": "code",
    "id": "piWwuRGrJ2_C"
   },
   "outputs": [],
   "source": [
    "model.save('simple_model.h5')"
   ]
  },
  {
   "cell_type": "markdown",
   "metadata": {},
   "source": [
    "### Load  Model"
   ]
  },
  {
   "cell_type": "code",
   "execution_count": 15,
   "metadata": {
    "colab": {
     "base_uri": "https://localhost:8080/",
     "height": 50
    },
    "colab_type": "code",
    "executionInfo": {
     "elapsed": 746,
     "status": "ok",
     "timestamp": 1563840447384,
     "user": {
      "displayName": "조현용",
      "photoUrl": "",
      "userId": "06121582825513881890"
     },
     "user_tz": -540
    },
    "id": "E2zMIBR6Juu0",
    "outputId": "a9cc3a38-4aa6-47bf-dcc1-99ac2f3f7985"
   },
   "outputs": [
    {
     "name": "stdout",
     "output_type": "stream",
     "text": [
      "50/50 [==============================] - 0s 414us/sample - loss: 0.9468\n"
     ]
    },
    {
     "data": {
      "text/plain": [
       "0.9468251371383667"
      ]
     },
     "execution_count": 15,
     "metadata": {
      "tags": []
     },
     "output_type": "execute_result"
    }
   ],
   "source": [
    "model = tf.keras.models.load_model('simple_model.h5')\n",
    "model.evaluate(x_test, y_test)"
   ]
  }
 ],
 "metadata": {
  "colab": {
   "collapsed_sections": [],
   "name": "tf2-01-19-keras_load_save.ipynb",
   "provenance": [],
   "version": "0.3.2"
  },
  "kernelspec": {
   "display_name": "Python 3",
   "language": "python",
   "name": "python3"
  },
  "language_info": {
   "codemirror_mode": {
    "name": "ipython",
    "version": 3
   },
   "file_extension": ".py",
   "mimetype": "text/x-python",
   "name": "python",
   "nbconvert_exporter": "python",
   "pygments_lexer": "ipython3",
   "version": "3.7.6"
  }
 },
 "nbformat": 4,
 "nbformat_minor": 1
}

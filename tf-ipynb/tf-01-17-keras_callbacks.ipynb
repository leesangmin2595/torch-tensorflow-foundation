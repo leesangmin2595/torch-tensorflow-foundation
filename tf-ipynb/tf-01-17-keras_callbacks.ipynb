{
 "cells": [
  {
   "cell_type": "markdown",
   "metadata": {
    "colab_type": "text",
    "id": "ACI5GGoul8aP"
   },
   "source": [
    "## Keras Linear Regression with Callbacks"
   ]
  },
  {
   "cell_type": "code",
   "execution_count": null,
   "metadata": {
    "colab": {},
    "colab_type": "code",
    "executionInfo": {
     "elapsed": 715,
     "status": "ok",
     "timestamp": 1596093659002,
     "user": {
      "displayName": "DongKook Kim",
      "photoUrl": "",
      "userId": "16012652025153581659"
     },
     "user_tz": -540
    },
    "id": "GucPohVHIjul"
   },
   "outputs": [],
   "source": [
    "import tensorflow as tf\n",
    "import numpy as np\n",
    "import matplotlib.pyplot as plt"
   ]
  },
  {
   "cell_type": "code",
   "execution_count": null,
   "metadata": {
    "colab": {},
    "colab_type": "code",
    "executionInfo": {
     "elapsed": 705,
     "status": "ok",
     "timestamp": 1596093659003,
     "user": {
      "displayName": "DongKook Kim",
      "photoUrl": "",
      "userId": "16012652025153581659"
     },
     "user_tz": -540
    },
    "id": "Eaa-6_0UIksJ"
   },
   "outputs": [],
   "source": [
    "np.random.seed(0)"
   ]
  },
  {
   "cell_type": "markdown",
   "metadata": {
    "colab_type": "text",
    "id": "CNLsPNi1l8aa"
   },
   "source": [
    "### Step 1. Make random data"
   ]
  },
  {
   "cell_type": "code",
   "execution_count": null,
   "metadata": {
    "colab": {},
    "colab_type": "code",
    "executionInfo": {
     "elapsed": 688,
     "status": "ok",
     "timestamp": 1596093659005,
     "user": {
      "displayName": "DongKook Kim",
      "photoUrl": "",
      "userId": "16012652025153581659"
     },
     "user_tz": -540
    },
    "id": "wb6pG9upIlan"
   },
   "outputs": [],
   "source": [
    "def make_random_data():\n",
    "    x = np.random.uniform(low=-2, high=2, size=200)\n",
    "    y = []\n",
    "    for t in x:\n",
    "        r = np.random.normal(loc=0.0, scale=(0.5 + t*t/3), size=None)\n",
    "        y.append(r)\n",
    "    return  x, 1.726*x -0.84 + np.array(y)"
   ]
  },
  {
   "cell_type": "markdown",
   "metadata": {
    "colab_type": "text",
    "id": "wJWs_jM3l8ae"
   },
   "source": [
    "### Display data"
   ]
  },
  {
   "cell_type": "code",
   "execution_count": null,
   "metadata": {
    "colab": {
     "base_uri": "https://localhost:8080/",
     "height": 265
    },
    "colab_type": "code",
    "executionInfo": {
     "elapsed": 964,
     "status": "ok",
     "timestamp": 1596093659291,
     "user": {
      "displayName": "DongKook Kim",
      "photoUrl": "",
      "userId": "16012652025153581659"
     },
     "user_tz": -540
    },
    "id": "qwyLuiIJImTq",
    "outputId": "31863311-7c62-4184-fd61-3e02e0548956"
   },
   "outputs": [],
   "source": [
    "x, y = make_random_data() \n",
    "\n",
    "plt.plot(x, y, 'o')\n",
    "plt.show()"
   ]
  },
  {
   "cell_type": "markdown",
   "metadata": {
    "colab_type": "text",
    "id": "HqNE6bobl8ak"
   },
   "source": [
    "### Make training and test data"
   ]
  },
  {
   "cell_type": "code",
   "execution_count": 16,
   "metadata": {
    "colab": {},
    "colab_type": "code",
    "executionInfo": {
     "elapsed": 950,
     "status": "ok",
     "timestamp": 1596093659293,
     "user": {
      "displayName": "DongKook Kim",
      "photoUrl": "",
      "userId": "16012652025153581659"
     },
     "user_tz": -540
    },
    "id": "9xbG5aM0InEe"
   },
   "outputs": [],
   "source": [
    "epoch=100\n",
    "x_train, y_train = x[:150], y[:150]\n",
    "x_test, y_test = x[150:], y[150:]"
   ]
  },
  {
   "cell_type": "markdown",
   "metadata": {
    "colab_type": "text",
    "id": "T3RXWKf0l8ao"
   },
   "source": [
    "### Step 2-3. Sequential Model, Loss, Optimizer"
   ]
  },
  {
   "cell_type": "code",
   "execution_count": 1,
   "metadata": {
    "colab": {
     "base_uri": "https://localhost:8080/",
     "height": 197
    },
    "colab_type": "code",
    "executionInfo": {
     "elapsed": 940,
     "status": "ok",
     "timestamp": 1596093659294,
     "user": {
      "displayName": "DongKook Kim",
      "photoUrl": "",
      "userId": "16012652025153581659"
     },
     "user_tz": -540
    },
    "id": "UfpBcnE0IoFN",
    "outputId": "1dfa2ab8-9e7f-4019-f980-2a394b7f45f4"
   },
   "outputs": [
    {
     "ename": "NameError",
     "evalue": "name 'tf' is not defined",
     "output_type": "error",
     "traceback": [
      "\u001b[1;31m---------------------------------------------------------------------------\u001b[0m",
      "\u001b[1;31mNameError\u001b[0m                                 Traceback (most recent call last)",
      "\u001b[1;32m<ipython-input-1-4006bcbaeff2>\u001b[0m in \u001b[0;36m<module>\u001b[1;34m\u001b[0m\n\u001b[1;32m----> 1\u001b[1;33m \u001b[0mmodel\u001b[0m \u001b[1;33m=\u001b[0m \u001b[0mtf\u001b[0m\u001b[1;33m.\u001b[0m\u001b[0mkeras\u001b[0m\u001b[1;33m.\u001b[0m\u001b[0mSequential\u001b[0m\u001b[1;33m(\u001b[0m\u001b[1;33m)\u001b[0m\u001b[1;33m\u001b[0m\u001b[1;33m\u001b[0m\u001b[0m\n\u001b[0m\u001b[0;32m      2\u001b[0m \u001b[0mmodel\u001b[0m\u001b[1;33m.\u001b[0m\u001b[0madd\u001b[0m\u001b[1;33m(\u001b[0m\u001b[0mtf\u001b[0m\u001b[1;33m.\u001b[0m\u001b[0mkeras\u001b[0m\u001b[1;33m.\u001b[0m\u001b[0mlayers\u001b[0m\u001b[1;33m.\u001b[0m\u001b[0mDense\u001b[0m\u001b[1;33m(\u001b[0m\u001b[0munits\u001b[0m\u001b[1;33m=\u001b[0m\u001b[1;36m1\u001b[0m\u001b[1;33m,\u001b[0m \u001b[0minput_dim\u001b[0m\u001b[1;33m=\u001b[0m\u001b[1;36m1\u001b[0m\u001b[1;33m)\u001b[0m\u001b[1;33m)\u001b[0m\u001b[1;33m\u001b[0m\u001b[1;33m\u001b[0m\u001b[0m\n\u001b[0;32m      3\u001b[0m \u001b[0mmodel\u001b[0m\u001b[1;33m.\u001b[0m\u001b[0msummary\u001b[0m\u001b[1;33m(\u001b[0m\u001b[1;33m)\u001b[0m\u001b[1;33m\u001b[0m\u001b[1;33m\u001b[0m\u001b[0m\n\u001b[0;32m      4\u001b[0m \u001b[0mmodel\u001b[0m\u001b[1;33m.\u001b[0m\u001b[0mcompile\u001b[0m\u001b[1;33m(\u001b[0m\u001b[0moptimizer\u001b[0m\u001b[1;33m=\u001b[0m\u001b[1;34m'sgd'\u001b[0m\u001b[1;33m,\u001b[0m \u001b[0mloss\u001b[0m\u001b[1;33m=\u001b[0m\u001b[1;34m'mse'\u001b[0m\u001b[1;33m)\u001b[0m\u001b[1;33m\u001b[0m\u001b[1;33m\u001b[0m\u001b[0m\n",
      "\u001b[1;31mNameError\u001b[0m: name 'tf' is not defined"
     ]
    }
   ],
   "source": [
    "model = tf.keras.Sequential()\n",
    "model.add(tf.keras.layers.Dense(units=1, input_dim=1))\n",
    "model.summary()\n",
    "model.compile(optimizer='sgd', loss='mse')"
   ]
  },
  {
   "cell_type": "markdown",
   "metadata": {},
   "source": [
    "### Callback setup"
   ]
  },
  {
   "cell_type": "code",
   "execution_count": null,
   "metadata": {},
   "outputs": [],
   "source": [
    "callback_list = [tf.keras.callbacks.ModelCheckpoint(filepath='my_model.h5', \n",
    "                    monitor='val_loss', save_best_only=True),\n",
    "                 tf.keras.callbacks.EarlyStopping(patience=5)]"
   ]
  },
  {
   "cell_type": "markdown",
   "metadata": {
    "colab_type": "text",
    "id": "9WL75lDHl8au"
   },
   "source": [
    "### Step 4. Training the Model with  Callbacks"
   ]
  },
  {
   "cell_type": "code",
   "execution_count": 18,
   "metadata": {
    "colab": {
     "base_uri": "https://localhost:8080/",
     "height": 1000
    },
    "colab_type": "code",
    "executionInfo": {
     "elapsed": 2464,
     "status": "ok",
     "timestamp": 1596093660832,
     "user": {
      "displayName": "DongKook Kim",
      "photoUrl": "",
      "userId": "16012652025153581659"
     },
     "user_tz": -540
    },
    "id": "arSgvUL6IqAx",
    "outputId": "03094009-1f14-43f4-9279-426e2e5d3ebe"
   },
   "outputs": [
    {
     "name": "stdout",
     "output_type": "stream",
     "text": [
      "Epoch 1/100\n",
      "4/4 [==============================] - 0s 20ms/step - loss: 10.9325 - val_loss: 6.0695\n",
      "Epoch 2/100\n",
      "4/4 [==============================] - 0s 11ms/step - loss: 9.0268 - val_loss: 4.9821\n",
      "Epoch 3/100\n",
      "4/4 [==============================] - 0s 10ms/step - loss: 7.4905 - val_loss: 4.1158\n",
      "Epoch 4/100\n",
      "4/4 [==============================] - 0s 10ms/step - loss: 6.2374 - val_loss: 3.4229\n",
      "Epoch 5/100\n",
      "4/4 [==============================] - 0s 9ms/step - loss: 5.2241 - val_loss: 2.8699\n",
      "Epoch 6/100\n",
      "4/4 [==============================] - 0s 10ms/step - loss: 4.4002 - val_loss: 2.4222\n",
      "Epoch 7/100\n",
      "4/4 [==============================] - 0s 10ms/step - loss: 3.7243 - val_loss: 2.0660\n",
      "Epoch 8/100\n",
      "4/4 [==============================] - 0s 13ms/step - loss: 3.1836 - val_loss: 1.7869\n",
      "Epoch 9/100\n",
      "4/4 [==============================] - 0s 9ms/step - loss: 2.7433 - val_loss: 1.5592\n",
      "Epoch 10/100\n",
      "4/4 [==============================] - 0s 10ms/step - loss: 2.3760 - val_loss: 1.3782\n",
      "Epoch 11/100\n",
      "4/4 [==============================] - 0s 9ms/step - loss: 2.0799 - val_loss: 1.2375\n",
      "Epoch 12/100\n",
      "4/4 [==============================] - 0s 10ms/step - loss: 1.8380 - val_loss: 1.1251\n",
      "Epoch 13/100\n",
      "4/4 [==============================] - 0s 11ms/step - loss: 1.6414 - val_loss: 1.0400\n",
      "Epoch 14/100\n",
      "4/4 [==============================] - 0s 11ms/step - loss: 1.4860 - val_loss: 0.9687\n",
      "Epoch 15/100\n",
      "4/4 [==============================] - 0s 10ms/step - loss: 1.3498 - val_loss: 0.9180\n",
      "Epoch 16/100\n",
      "4/4 [==============================] - 0s 9ms/step - loss: 1.2445 - val_loss: 0.8789\n",
      "Epoch 17/100\n",
      "4/4 [==============================] - 0s 9ms/step - loss: 1.1598 - val_loss: 0.8501\n",
      "Epoch 18/100\n",
      "4/4 [==============================] - 0s 10ms/step - loss: 1.0918 - val_loss: 0.8278\n",
      "Epoch 19/100\n",
      "4/4 [==============================] - 0s 10ms/step - loss: 1.0348 - val_loss: 0.8114\n",
      "Epoch 20/100\n",
      "4/4 [==============================] - 0s 10ms/step - loss: 0.9870 - val_loss: 0.8006\n",
      "Epoch 21/100\n",
      "4/4 [==============================] - 0s 10ms/step - loss: 0.9534 - val_loss: 0.7936\n",
      "Epoch 22/100\n",
      "4/4 [==============================] - 0s 9ms/step - loss: 0.9246 - val_loss: 0.7884\n",
      "Epoch 23/100\n",
      "4/4 [==============================] - 0s 11ms/step - loss: 0.8982 - val_loss: 0.7852\n",
      "Epoch 24/100\n",
      "4/4 [==============================] - 0s 9ms/step - loss: 0.8779 - val_loss: 0.7840\n",
      "Epoch 25/100\n",
      "4/4 [==============================] - 0s 9ms/step - loss: 0.8629 - val_loss: 0.7840\n",
      "Epoch 26/100\n",
      "4/4 [==============================] - 0s 9ms/step - loss: 0.8481 - val_loss: 0.7850\n",
      "Epoch 27/100\n",
      "4/4 [==============================] - 0s 8ms/step - loss: 0.8384 - val_loss: 0.7867\n",
      "Epoch 28/100\n",
      "4/4 [==============================] - 0s 9ms/step - loss: 0.8288 - val_loss: 0.7890\n",
      "Epoch 29/100\n",
      "4/4 [==============================] - 0s 9ms/step - loss: 0.8233 - val_loss: 0.7914\n",
      "Epoch 30/100\n",
      "4/4 [==============================] - 0s 8ms/step - loss: 0.8169 - val_loss: 0.7937\n"
     ]
    }
   ],
   "source": [
    "history = model.fit(x_train, y_train, epochs=100,\n",
    "                    validation_split=0.2, callbacks=callback_list)"
   ]
  },
  {
   "cell_type": "markdown",
   "metadata": {
    "colab_type": "text",
    "id": "td7tZTzkl8ay"
   },
   "source": [
    "### Step 5. Test the Model"
   ]
  },
  {
   "cell_type": "code",
   "execution_count": 19,
   "metadata": {
    "colab": {
     "base_uri": "https://localhost:8080/",
     "height": 53
    },
    "colab_type": "code",
    "executionInfo": {
     "elapsed": 2446,
     "status": "ok",
     "timestamp": 1596093660833,
     "user": {
      "displayName": "DongKook Kim",
      "photoUrl": "",
      "userId": "16012652025153581659"
     },
     "user_tz": -540
    },
    "id": "e5PPJ0AeIrS5",
    "outputId": "abea9694-b699-433b-919c-425c1cd76273"
   },
   "outputs": [
    {
     "name": "stdout",
     "output_type": "stream",
     "text": [
      "2/2 - 0s - loss: 0.9569\n",
      "test_loss =  0.9569001197814941\n"
     ]
    }
   ],
   "source": [
    "test_loss = model.evaluate(x_test, y_test, verbose=2)\n",
    "print('test_loss = ', test_loss)"
   ]
  },
  {
   "cell_type": "markdown",
   "metadata": {},
   "source": [
    "###  Display Training & Validataion Losses"
   ]
  },
  {
   "cell_type": "code",
   "execution_count": 20,
   "metadata": {
    "colab": {
     "base_uri": "https://localhost:8080/",
     "height": 279
    },
    "colab_type": "code",
    "executionInfo": {
     "elapsed": 2891,
     "status": "ok",
     "timestamp": 1596093661292,
     "user": {
      "displayName": "DongKook Kim",
      "photoUrl": "",
      "userId": "16012652025153581659"
     },
     "user_tz": -540
    },
    "id": "ltizfj-tIsL4",
    "outputId": "8b5b332a-bb2b-4a8e-ec67-8b7f6855ecac"
   },
   "outputs": [
    {
     "data": {
      "image/png": "[encoded data removed]",
      "text/plain": [
       "<Figure size 432x288 with 1 Axes>"
      ]
     },
     "metadata": {
      "needs_background": "light",
      "tags": []
     },
     "output_type": "display_data"
    }
   ],
   "source": [
    "epochs = np.arange(1, len(history.history['loss'])+1)\n",
    "plt.plot(epochs, history.history['loss'], label='Training loss')\n",
    "plt.plot(epochs, history.history['val_loss'], label='Validation loss')\n",
    "plt.xlabel('Epochs')\n",
    "plt.ylabel('Loss')\n",
    "plt.legend()\n",
    "plt.show()"
   ]
  },
  {
   "cell_type": "markdown",
   "metadata": {},
   "source": [
    "### Display the Regression Result"
   ]
  },
  {
   "cell_type": "code",
   "execution_count": 21,
   "metadata": {
    "colab": {
     "base_uri": "https://localhost:8080/",
     "height": 265
    },
    "colab_type": "code",
    "executionInfo": {
     "elapsed": 2877,
     "status": "ok",
     "timestamp": 1596093661293,
     "user": {
      "displayName": "DongKook Kim",
      "photoUrl": "",
      "userId": "16012652025153581659"
     },
     "user_tz": -540
    },
    "id": "VH84ky_KIt2F",
    "outputId": "51f2839c-04b2-46e7-96a7-6ff6dff3ae9f"
   },
   "outputs": [
    {
     "data": {
      "image/png": "[encoded data removed]",
      "text/plain": [
       "<Figure size 432x288 with 1 Axes>"
      ]
     },
     "metadata": {
      "needs_background": "light",
      "tags": []
     },
     "output_type": "display_data"
    }
   ],
   "source": [
    "x_arr = np.arange(-2, 2, 0.1)\n",
    "y_arr = model.predict(x_arr)\n",
    "\n",
    "plt.figure()\n",
    "plt.plot(x_train, y_train, 'bo')\n",
    "plt.plot(x_test, y_test, 'bo', alpha=0.3)\n",
    "plt.plot(x_arr, y_arr, '-r', lw=3)\n",
    "plt.show()\n"
   ]
  }
 ],
 "metadata": {
  "accelerator": "GPU",
  "colab": {
   "collapsed_sections": [],
   "name": "tf2-01-17-keras_callbacks.ipynb",
   "provenance": []
  },
  "kernelspec": {
   "display_name": "Python 3",
   "language": "python",
   "name": "python3"
  },
  "language_info": {
   "codemirror_mode": {
    "name": "ipython",
    "version": 3
   },
   "file_extension": ".py",
   "mimetype": "text/x-python",
   "name": "python",
   "nbconvert_exporter": "python",
   "pygments_lexer": "ipython3",
   "version": "3.7.6"
  }
 },
 "nbformat": 4,
 "nbformat_minor": 1
}

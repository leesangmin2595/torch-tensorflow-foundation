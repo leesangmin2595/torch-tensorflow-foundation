{
 "cells": [
  {
   "cell_type": "markdown",
   "metadata": {},
   "source": [
    "# Simple RNN for IMDB"
   ]
  },
  {
   "cell_type": "code",
   "execution_count": 2,
   "metadata": {
    "colab": {},
    "colab_type": "code",
    "id": "1YdpdnH_mxh4"
   },
   "outputs": [],
   "source": [
    "import matplotlib.pyplot as plt\n",
    "\n",
    "from tensorflow.keras.layers import Embedding, SimpleRNN\n",
    "from tensorflow.keras.models import Sequential\n",
    "from tensorflow.keras.datasets import imdb\n",
    "from tensorflow.keras.preprocessing import sequence\n",
    "from tensorflow.keras.layers import Dense"
   ]
  },
  {
   "cell_type": "markdown",
   "metadata": {},
   "source": [
    "### Parameters Setting"
   ]
  },
  {
   "cell_type": "code",
   "execution_count": 3,
   "metadata": {
    "colab": {},
    "colab_type": "code",
    "id": "i_ZF4WSEm4nX"
   },
   "outputs": [],
   "source": [
    "max_features = 10000  # 특성으로 사용할 단어의 수\n",
    "maxlen = 500  # 사용할 텍스트의 길이(가장 빈번한 max_features 개의 단어만 사용합니다)\n",
    "batch_size = 32"
   ]
  },
  {
   "cell_type": "markdown",
   "metadata": {},
   "source": [
    "### Step 1. Data"
   ]
  },
  {
   "cell_type": "code",
   "execution_count": 4,
   "metadata": {
    "colab": {
     "base_uri": "https://localhost:8080/",
     "height": 150
    },
    "colab_type": "code",
    "executionInfo": {
     "elapsed": 57398,
     "status": "ok",
     "timestamp": 1563881686946,
     "user": {
      "displayName": "조현용",
      "photoUrl": "",
      "userId": "06121582825513881890"
     },
     "user_tz": -540
    },
    "id": "SyEcka37m9Mp",
    "outputId": "4abffcf2-bf67-43c4-c18c-5f9c83959ecb"
   },
   "outputs": [
    {
     "name": "stdout",
     "output_type": "stream",
     "text": [
      "데이터 로딩...\n",
      "Downloading data from https://storage.googleapis.com/tensorflow/tf-keras-datasets/imdb.npz\n",
      "17465344/17464789 [==============================] - 5s 0us/step\n",
      "25000 훈련 시퀀스\n",
      "25000 테스트 시퀀스\n",
      "시퀀스 패딩 (samples x time)\n",
      "input_train 크기: (25000, 500)\n",
      "input_test 크기: (25000, 500)\n"
     ]
    }
   ],
   "source": [
    "print('데이터 로딩...')\n",
    "(x_train, y_train), (x_test, y_test) = imdb.load_data(num_words=max_features)\n",
    "print(len(x_train), '훈련 시퀀스')\n",
    "print(len(x_test), '테스트 시퀀스')\n",
    "\n",
    "print('시퀀스 패딩 (samples x time)')\n",
    "x_train = sequence.pad_sequences(x_train, maxlen=maxlen)\n",
    "x_test = sequence.pad_sequences(x_test, maxlen=maxlen)\n",
    "print('input_train 크기:', x_train.shape)\n",
    "print('input_test 크기:', x_test.shape)"
   ]
  },
  {
   "cell_type": "markdown",
   "metadata": {},
   "source": [
    "### Step 2. RNN Model"
   ]
  },
  {
   "cell_type": "code",
   "execution_count": 5,
   "metadata": {
    "colab": {
     "base_uri": "https://localhost:8080/",
     "height": 250
    },
    "colab_type": "code",
    "executionInfo": {
     "elapsed": 54959,
     "status": "ok",
     "timestamp": 1563881688803,
     "user": {
      "displayName": "조현용",
      "photoUrl": "",
      "userId": "06121582825513881890"
     },
     "user_tz": -540
    },
    "id": "NezHNclFm-cm",
    "outputId": "4cf71e76-23b1-4591-e9ca-d75c627e5816"
   },
   "outputs": [
    {
     "name": "stdout",
     "output_type": "stream",
     "text": [
      "Model: \"sequential\"\n",
      "_________________________________________________________________\n",
      "Layer (type)                 Output Shape              Param #   \n",
      "=================================================================\n",
      "embedding (Embedding)        (None, None, 32)          320000    \n",
      "_________________________________________________________________\n",
      "simple_rnn (SimpleRNN)       (None, 32)                2080      \n",
      "_________________________________________________________________\n",
      "dense (Dense)                (None, 1)                 33        \n",
      "=================================================================\n",
      "Total params: 322,113\n",
      "Trainable params: 322,113\n",
      "Non-trainable params: 0\n",
      "_________________________________________________________________\n"
     ]
    }
   ],
   "source": [
    "model = Sequential()\n",
    "model.add(Embedding(max_features, 32))\n",
    "model.add(SimpleRNN(32))\n",
    "model.add(Dense(1, activation='sigmoid'))\n",
    "model.summary()"
   ]
  },
  {
   "cell_type": "markdown",
   "metadata": {},
   "source": [
    "### Step 3. Loss,Optimizer, Metric"
   ]
  },
  {
   "cell_type": "code",
   "execution_count": null,
   "metadata": {},
   "outputs": [],
   "source": [
    "model.compile(optimizer='rmsprop', loss='binary_crossentropy', metrics=['acc'])"
   ]
  },
  {
   "cell_type": "markdown",
   "metadata": {},
   "source": [
    "### Step 4. Train the model"
   ]
  },
  {
   "cell_type": "code",
   "execution_count": 0,
   "metadata": {
    "colab": {
     "base_uri": "https://localhost:8080/",
     "height": 453
    },
    "colab_type": "code",
    "executionInfo": {
     "elapsed": 1450432,
     "status": "ok",
     "timestamp": 1563883093635,
     "user": {
      "displayName": "조현용",
      "photoUrl": "",
      "userId": "06121582825513881890"
     },
     "user_tz": -540
    },
    "id": "GVfxo18jm_fn",
    "outputId": "c6d4a5b1-d9dc-4fc7-dcbe-d59c7b14a084"
   },
   "outputs": [
    {
     "name": "stderr",
     "output_type": "stream",
     "text": [
      "WARNING: Logging before flag parsing goes to stderr.\n",
      "W0723 11:34:50.078574 140190010161024 deprecation.py:323] From /usr/local/lib/python3.6/dist-packages/tensorflow/python/ops/math_grad.py:1250: add_dispatch_support.<locals>.wrapper (from tensorflow.python.ops.array_ops) is deprecated and will be removed in a future version.\n",
      "Instructions for updating:\n",
      "Use tf.where in 2.0, which has the same broadcast rule as np.where\n"
     ]
    },
    {
     "name": "stdout",
     "output_type": "stream",
     "text": [
      "Train on 20000 samples, validate on 5000 samples\n",
      "Epoch 1/10\n",
      "20000/20000 - 144s - loss: 0.5711 - acc: 0.6823 - val_loss: 0.5226 - val_acc: 0.7350\n",
      "Epoch 2/10\n",
      "20000/20000 - 151s - loss: 0.3631 - acc: 0.8475 - val_loss: 0.4150 - val_acc: 0.8442\n",
      "Epoch 3/10\n",
      "20000/20000 - 149s - loss: 0.2808 - acc: 0.8872 - val_loss: 0.3497 - val_acc: 0.8608\n",
      "Epoch 4/10\n",
      "20000/20000 - 137s - loss: 0.2228 - acc: 0.9172 - val_loss: 0.3706 - val_acc: 0.8406\n",
      "Epoch 5/10\n",
      "20000/20000 - 137s - loss: 0.1857 - acc: 0.9318 - val_loss: 0.3847 - val_acc: 0.8354\n",
      "Epoch 6/10\n",
      "20000/20000 - 136s - loss: 0.1387 - acc: 0.9512 - val_loss: 0.3831 - val_acc: 0.8588\n",
      "Epoch 7/10\n",
      "20000/20000 - 135s - loss: 0.0929 - acc: 0.9689 - val_loss: 0.4281 - val_acc: 0.8630\n",
      "Epoch 8/10\n",
      "20000/20000 - 136s - loss: 0.0637 - acc: 0.9805 - val_loss: 0.5262 - val_acc: 0.8630\n",
      "Epoch 9/10\n",
      "20000/20000 - 136s - loss: 0.0414 - acc: 0.9873 - val_loss: 0.4951 - val_acc: 0.8444\n",
      "Epoch 10/10\n",
      "20000/20000 - 136s - loss: 0.0484 - acc: 0.9862 - val_loss: 0.5518 - val_acc: 0.8538\n"
     ]
    }
   ],
   "source": [
    "history = model.fit(x_train, y_train, epochs=10, batch_size=128,\n",
    "                    verbose=2, validation_split=0.2)"
   ]
  },
  {
   "cell_type": "markdown",
   "metadata": {},
   "source": [
    "### Step 5. Test the Model"
   ]
  },
  {
   "cell_type": "code",
   "execution_count": 0,
   "metadata": {
    "colab": {
     "base_uri": "https://localhost:8080/",
     "height": 50
    },
    "colab_type": "code",
    "executionInfo": {
     "elapsed": 1612834,
     "status": "ok",
     "timestamp": 1563883260786,
     "user": {
      "displayName": "조현용",
      "photoUrl": "",
      "userId": "06121582825513881890"
     },
     "user_tz": -540
    },
    "id": "mG_XE-JsnBx7",
    "outputId": "dfbfaad1-b3e7-4985-80a5-5653dfe863f9"
   },
   "outputs": [
    {
     "name": "stdout",
     "output_type": "stream",
     "text": [
      "25000/25000 [==============================] - 168s 7ms/sample - loss: 0.5740 - acc: 0.8388\n",
      "test_loss =  0.5739502579116821 test_acc =  0.83884\n"
     ]
    }
   ],
   "source": [
    "test_loss, test_acc = model.evaluate(x_test, y_test)\n",
    "print('test_loss = ',test_loss, 'test_acc = ',test_acc)"
   ]
  },
  {
   "cell_type": "markdown",
   "metadata": {},
   "source": [
    "### Plot the Training/Validation Accuracy and Loss"
   ]
  },
  {
   "cell_type": "code",
   "execution_count": 0,
   "metadata": {
    "colab": {
     "base_uri": "https://localhost:8080/",
     "height": 545
    },
    "colab_type": "code",
    "executionInfo": {
     "elapsed": 1604890,
     "status": "ok",
     "timestamp": 1563883264696,
     "user": {
      "displayName": "조현용",
      "photoUrl": "",
      "userId": "06121582825513881890"
     },
     "user_tz": -540
    },
    "id": "2Jl9xlsdnC8F",
    "outputId": "b74ec298-db50-496b-a84b-12adf3d54d94"
   },
   "outputs": [
    {
     "data": {
      "image/png": "[encoded data removed]",
      "text/plain": [
       "<Figure size 432x288 with 1 Axes>"
      ]
     },
     "metadata": {
      "tags": []
     },
     "output_type": "display_data"
    },
    {
     "data": {
      "image/png": "[encoded data removed]",
      "text/plain": [
       "<Figure size 432x288 with 1 Axes>"
      ]
     },
     "metadata": {
      "tags": []
     },
     "output_type": "display_data"
    }
   ],
   "source": [
    "acc = history.history['acc']\n",
    "val_acc = history.history['val_acc']\n",
    "loss = history.history['loss']\n",
    "val_loss = history.history['val_loss']\n",
    "\n",
    "epochs = range(1, len(acc) + 1)\n",
    "\n",
    "plt.plot(epochs, acc, 'b', label='Training acc')\n",
    "plt.plot(epochs, val_acc, 'r', label='Validation acc')\n",
    "plt.title('Training and validation accuracy')\n",
    "plt.legend()\n",
    "\n",
    "plt.figure()\n",
    "\n",
    "plt.plot(epochs, loss, 'b', label='Training loss')\n",
    "plt.plot(epochs, val_loss, 'r', label='Validation loss')\n",
    "plt.title('Training and validation loss')\n",
    "plt.legend()\n",
    "\n",
    "plt.show()"
   ]
  }
 ],
 "metadata": {
  "accelerator": "GPU",
  "colab": {
   "collapsed_sections": [],
   "name": "tf2-09-1-imdb_simpleRNN.ipynb",
   "provenance": [],
   "version": "0.3.2"
  },
  "kernelspec": {
   "display_name": "Python 3",
   "language": "python",
   "name": "python3"
  },
  "language_info": {
   "codemirror_mode": {
    "name": "ipython",
    "version": 3
   },
   "file_extension": ".py",
   "mimetype": "text/x-python",
   "name": "python",
   "nbconvert_exporter": "python",
   "pygments_lexer": "ipython3",
   "version": "3.6.9"
  }
 },
 "nbformat": 4,
 "nbformat_minor": 1
}

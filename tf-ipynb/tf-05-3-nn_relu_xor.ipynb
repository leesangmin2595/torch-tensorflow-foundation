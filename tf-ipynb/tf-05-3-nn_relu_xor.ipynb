{
 "cells": [
  {
   "cell_type": "markdown",
   "metadata": {},
   "source": [
    "## Multi-Layer Neural Network with ReLU Activation Functions"
   ]
  },
  {
   "cell_type": "code",
   "execution_count": 8,
   "metadata": {
    "colab": {},
    "colab_type": "code",
    "id": "UmL1dtTzafvd"
   },
   "outputs": [],
   "source": [
    "import tensorflow as tf\n",
    "import numpy as np\n",
    "import matplotlib.pyplot as plt"
   ]
  },
  {
   "cell_type": "markdown",
   "metadata": {},
   "source": [
    "### ReLU function"
   ]
  },
  {
   "cell_type": "code",
   "execution_count": 9,
   "metadata": {
    "colab": {},
    "colab_type": "code",
    "id": "La9uOodZaigM"
   },
   "outputs": [],
   "source": [
    "def relu(x):\n",
    "    return np.maximum(x, 0)"
   ]
  },
  {
   "cell_type": "markdown",
   "metadata": {},
   "source": [
    "### Step 1. Data -  target : 0, 1 binary"
   ]
  },
  {
   "cell_type": "code",
   "execution_count": 10,
   "metadata": {
    "colab": {},
    "colab_type": "code",
    "id": "6DikTY8Wai2n"
   },
   "outputs": [],
   "source": [
    "x_data = np.array([[0., 0.],\n",
    "          [0., 1.],\n",
    "          [1., 0.],\n",
    "          [1., 1.]])\n",
    "y_data = np.array([[0.],\n",
    "          [1.],\n",
    "          [1.],\n",
    "          [0.]])"
   ]
  },
  {
   "cell_type": "markdown",
   "metadata": {},
   "source": [
    "### Step 2. 2-layer Neural Network Model with fixed weights and bias & ReLU activation functions"
   ]
  },
  {
   "cell_type": "code",
   "execution_count": 11,
   "metadata": {},
   "outputs": [],
   "source": [
    "W1 = np.array([[1., 1.], [1.,1.]])\n",
    "b1 = np.array([[0., -1.]])\n",
    "W2 = np.array([[1., -2.]])\n",
    "b2 = np.array([[0.]])\n",
    "\n",
    "a1 = np.add(np.matmul(x_data, np.transpose(W1)), b1)\n",
    "z1 = relu(a1)\n",
    "a2 = np.add(np.matmul(z1, np.transpose(W2)), b2)\n",
    "y = a2\n",
    "\n",
    "y_pred = np.array(y>0.5, dtype=np.int32)"
   ]
  },
  {
   "cell_type": "markdown",
   "metadata": {},
   "source": [
    "### print the hidden and output results"
   ]
  },
  {
   "cell_type": "code",
   "execution_count": 12,
   "metadata": {
    "colab": {
     "base_uri": "https://localhost:8080/",
     "height": 350
    },
    "colab_type": "code",
    "executionInfo": {
     "elapsed": 702,
     "status": "ok",
     "timestamp": 1563878380906,
     "user": {
      "displayName": "조현용",
      "photoUrl": "",
      "userId": "06121582825513881890"
     },
     "user_tz": -540
    },
    "id": "21ueEvz3akPs",
    "outputId": "7c5c20db-b301-4fa7-d1a2-2706e290a2df"
   },
   "outputs": [
    {
     "name": "stdout",
     "output_type": "stream",
     "text": [
      "[[ 0. -1.]\n",
      " [ 1.  0.]\n",
      " [ 1.  0.]\n",
      " [ 2.  1.]]\n",
      "[[0. 0.]\n",
      " [1. 0.]\n",
      " [1. 0.]\n",
      " [2. 1.]]\n",
      "[[0.]\n",
      " [1.]\n",
      " [1.]\n",
      " [0.]]\n",
      "[[0.]\n",
      " [1.]\n",
      " [1.]\n",
      " [0.]]\n",
      "[[0]\n",
      " [1]\n",
      " [1]\n",
      " [0]]\n"
     ]
    }
   ],
   "source": [
    "print(a1)\n",
    "print(z1)   # hidden layer results\n",
    "print(a2)\n",
    "print(y)    # output layer results\n",
    "print(y_pred)"
   ]
  },
  {
   "cell_type": "code",
   "execution_count": 14,
   "metadata": {
    "colab": {
     "base_uri": "https://localhost:8080/",
     "height": 294
    },
    "colab_type": "code",
    "executionInfo": {
     "elapsed": 1037,
     "status": "ok",
     "timestamp": 1563878386519,
     "user": {
      "displayName": "조현용",
      "photoUrl": "",
      "userId": "06121582825513881890"
     },
     "user_tz": -540
    },
    "id": "arMAYJ3-ah14",
    "outputId": "b2e93f0f-a6bc-4032-9af1-ccc1e9bd0612"
   },
   "outputs": [
    {
     "data": {
      "image/png": "[encoded data removed]",
      "text/plain": [
       "<Figure size 432x288 with 3 Axes>"
      ]
     },
     "metadata": {
      "needs_background": "light"
     },
     "output_type": "display_data"
    }
   ],
   "source": [
    "plt.subplot(1,3,1)\n",
    "plt.scatter(x_data[0, 0], x_data[0, 1], s=300, color='red', marker='o', label='0')\n",
    "plt.scatter(x_data[3, 0], x_data[3, 1], s=300, color='red', marker='o')\n",
    "plt.scatter(x_data[1, 0], x_data[1, 1], s=300, color='blue', marker='x', label='1')\n",
    "plt.scatter(x_data[2, 0], x_data[2, 1], s=300, color='blue', marker='x')\n",
    "plt.xlabel('x1')\n",
    "plt.ylabel('x2')\n",
    "plt.legend(loc='lower center')\n",
    "plt.title('x data')\n",
    "plt.subplot(1,3,2)\n",
    "plt.scatter(z1[0, 0], z1[0, 1], s=300, color='red', marker='o', label='0')\n",
    "plt.scatter(z1[3, 0], z1[3, 1], s=300, color='red', marker='o')\n",
    "plt.scatter(z1[1, 0], z1[1, 1], s=300, color='blue', marker='x', label='1')\n",
    "plt.scatter(z1[2, 0], z1[2, 1], s=300, color='blue', marker='x')\n",
    "plt.xlabel('z1')\n",
    "plt.ylabel('z2')\n",
    "#plt.legend(loc='lower center')\n",
    "plt.title('z data after ReLU')\n",
    "plt.subplot(1,3,3)\n",
    "plt.scatter(y[0], 0, s=300, color='red', marker='o', label='0')\n",
    "plt.scatter(y[3], 0, s=300, color='red', marker='o')\n",
    "plt.scatter(y[1], 0, s=300, color='blue', marker='x', label='1')\n",
    "plt.scatter(y[2], 0, s=300, color='blue', marker='x')\n",
    "plt.xlabel('y')\n",
    "plt.yticks([0])\n",
    "#plt.legend(loc='lower center')\n",
    "plt.title('y data')\n",
    "\n",
    "\n",
    "plt.show()"
   ]
  },
  {
   "cell_type": "code",
   "execution_count": null,
   "metadata": {},
   "outputs": [],
   "source": []
  }
 ],
 "metadata": {
  "colab": {
   "collapsed_sections": [],
   "name": "tf2-05-3-xor_relu.ipynb",
   "provenance": [],
   "version": "0.3.2"
  },
  "kernelspec": {
   "display_name": "Python 3",
   "language": "python",
   "name": "python3"
  },
  "language_info": {
   "codemirror_mode": {
    "name": "ipython",
    "version": 3
   },
   "file_extension": ".py",
   "mimetype": "text/x-python",
   "name": "python",
   "nbconvert_exporter": "python",
   "pygments_lexer": "ipython3",
   "version": "3.6.9"
  }
 },
 "nbformat": 4,
 "nbformat_minor": 1
}

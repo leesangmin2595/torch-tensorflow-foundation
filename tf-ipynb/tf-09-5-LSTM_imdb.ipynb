{
 "cells": [
  {
   "cell_type": "markdown",
   "metadata": {},
   "source": [
    "# LSTM for IMDB"
   ]
  },
  {
   "cell_type": "code",
   "execution_count": 0,
   "metadata": {
    "colab": {},
    "colab_type": "code",
    "id": "__kXw1pPnPlU"
   },
   "outputs": [],
   "source": [
    "import matplotlib.pyplot as plt\n",
    "\n",
    "from tensorflow.keras.layers import Embedding, LSTM\n",
    "from tensorflow.keras.models import Sequential\n",
    "from tensorflow.keras.datasets import imdb\n",
    "from tensorflow.keras.preprocessing import sequence\n",
    "from tensorflow.keras.layers import Dense"
   ]
  },
  {
   "cell_type": "markdown",
   "metadata": {},
   "source": [
    "### Parameters Setting"
   ]
  },
  {
   "cell_type": "code",
   "execution_count": 0,
   "metadata": {
    "colab": {},
    "colab_type": "code",
    "id": "d3x77o3MnP9m"
   },
   "outputs": [],
   "source": [
    "max_features = 10000  # 특성으로 사용할 단어의 수\n",
    "maxlen = 500  # 사용할 텍스트의 길이(가장 빈번한 max_features 개의 단어만 사용합니다)\n",
    "batch_size = 32"
   ]
  },
  {
   "cell_type": "markdown",
   "metadata": {},
   "source": [
    "### Step 1. Data"
   ]
  },
  {
   "cell_type": "code",
   "execution_count": 0,
   "metadata": {
    "colab": {
     "base_uri": "https://localhost:8080/",
     "height": 116
    },
    "colab_type": "code",
    "executionInfo": {
     "elapsed": 27259,
     "status": "ok",
     "timestamp": 1563885186560,
     "user": {
      "displayName": "조현용",
      "photoUrl": "",
      "userId": "06121582825513881890"
     },
     "user_tz": -540
    },
    "id": "8vlWZS_knQ2M",
    "outputId": "b33b54ad-b9eb-41f7-a33f-5774f5b738a8"
   },
   "outputs": [
    {
     "name": "stdout",
     "output_type": "stream",
     "text": [
      "데이터 로딩...\n",
      "25000 훈련 시퀀스\n",
      "25000 테스트 시퀀스\n",
      "시퀀스 패딩 (samples x time)\n",
      "input_train 크기: (25000, 500)\n",
      "input_test 크기: (25000, 500)\n"
     ]
    }
   ],
   "source": [
    "print('데이터 로딩...')\n",
    "(x_train, y_train), (x_test, y_test) = imdb.load_data(num_words=max_features)\n",
    "print(len(x_train), '훈련 시퀀스')\n",
    "print(len(x_test), '테스트 시퀀스')\n",
    "\n",
    "print('시퀀스 패딩 (samples x time)')\n",
    "x_train = sequence.pad_sequences(x_train, maxlen=maxlen)\n",
    "x_test = sequence.pad_sequences(x_test, maxlen=maxlen)\n",
    "print('input_train 크기:', x_train.shape)\n",
    "print('input_test 크기:', x_test.shape)"
   ]
  },
  {
   "cell_type": "markdown",
   "metadata": {},
   "source": [
    "### Step 2. LSTM Model"
   ]
  },
  {
   "cell_type": "code",
   "execution_count": 0,
   "metadata": {
    "colab": {
     "base_uri": "https://localhost:8080/",
     "height": 250
    },
    "colab_type": "code",
    "executionInfo": {
     "elapsed": 30114,
     "status": "ok",
     "timestamp": 1563885189427,
     "user": {
      "displayName": "조현용",
      "photoUrl": "",
      "userId": "06121582825513881890"
     },
     "user_tz": -540
    },
    "id": "9SXoO6D9nSDl",
    "outputId": "d6e7ccd9-8dfe-41e1-db77-ea69c298d317"
   },
   "outputs": [
    {
     "name": "stdout",
     "output_type": "stream",
     "text": [
      "Model: \"sequential\"\n",
      "_________________________________________________________________\n",
      "Layer (type)                 Output Shape              Param #   \n",
      "=================================================================\n",
      "embedding (Embedding)        (None, None, 32)          320000    \n",
      "_________________________________________________________________\n",
      "lstm (LSTM)                  (None, 32)                8320      \n",
      "_________________________________________________________________\n",
      "dense (Dense)                (None, 1)                 33        \n",
      "=================================================================\n",
      "Total params: 328,353\n",
      "Trainable params: 328,353\n",
      "Non-trainable params: 0\n",
      "_________________________________________________________________\n"
     ]
    }
   ],
   "source": [
    "model = Sequential()\n",
    "model.add(Embedding(max_features, 32))\n",
    "model.add(LSTM(32))\n",
    "model.add(Dense(1, activation='sigmoid'))\n",
    "model.summary()"
   ]
  },
  {
   "cell_type": "markdown",
   "metadata": {},
   "source": [
    "### Step 3. Loss,Optimizer, Metric"
   ]
  },
  {
   "cell_type": "code",
   "execution_count": null,
   "metadata": {},
   "outputs": [],
   "source": [
    "model.compile(optimizer='rmsprop', loss='binary_crossentropy', metrics=['acc'])"
   ]
  },
  {
   "cell_type": "markdown",
   "metadata": {},
   "source": [
    "### Step 4. Train the model"
   ]
  },
  {
   "cell_type": "code",
   "execution_count": 0,
   "metadata": {
    "colab": {
     "base_uri": "https://localhost:8080/",
     "height": 453
    },
    "colab_type": "code",
    "executionInfo": {
     "elapsed": 1291880,
     "status": "ok",
     "timestamp": 1563886451204,
     "user": {
      "displayName": "조현용",
      "photoUrl": "",
      "userId": "06121582825513881890"
     },
     "user_tz": -540
    },
    "id": "tQeN_Sy4nLxW",
    "outputId": "91b08692-37a4-47e8-e854-497bcd54c12f"
   },
   "outputs": [
    {
     "name": "stderr",
     "output_type": "stream",
     "text": [
      "WARNING: Logging before flag parsing goes to stderr.\n",
      "W0723 12:33:10.160011 139979309627264 deprecation.py:323] From /usr/local/lib/python3.6/dist-packages/tensorflow/python/ops/math_grad.py:1250: add_dispatch_support.<locals>.wrapper (from tensorflow.python.ops.array_ops) is deprecated and will be removed in a future version.\n",
      "Instructions for updating:\n",
      "Use tf.where in 2.0, which has the same broadcast rule as np.where\n"
     ]
    },
    {
     "name": "stdout",
     "output_type": "stream",
     "text": [
      "Train on 20000 samples, validate on 5000 samples\n",
      "Epoch 1/10\n",
      "20000/20000 - 128s - loss: 0.5017 - acc: 0.7642 - val_loss: 0.3289 - val_acc: 0.8706\n",
      "Epoch 2/10\n",
      "20000/20000 - 127s - loss: 0.2903 - acc: 0.8873 - val_loss: 0.3219 - val_acc: 0.8794\n",
      "Epoch 3/10\n",
      "20000/20000 - 127s - loss: 0.2339 - acc: 0.9121 - val_loss: 0.2748 - val_acc: 0.8902\n",
      "Epoch 4/10\n",
      "20000/20000 - 126s - loss: 0.2024 - acc: 0.9272 - val_loss: 0.2830 - val_acc: 0.8932\n",
      "Epoch 5/10\n",
      "20000/20000 - 125s - loss: 0.1703 - acc: 0.9396 - val_loss: 0.3113 - val_acc: 0.8730\n",
      "Epoch 6/10\n",
      "20000/20000 - 126s - loss: 0.1548 - acc: 0.9453 - val_loss: 0.2986 - val_acc: 0.8820\n",
      "Epoch 7/10\n",
      "20000/20000 - 127s - loss: 0.1428 - acc: 0.9499 - val_loss: 0.3216 - val_acc: 0.8792\n",
      "Epoch 8/10\n",
      "20000/20000 - 124s - loss: 0.1271 - acc: 0.9551 - val_loss: 0.4204 - val_acc: 0.8360\n",
      "Epoch 9/10\n",
      "20000/20000 - 125s - loss: 0.1167 - acc: 0.9589 - val_loss: 0.3359 - val_acc: 0.8834\n",
      "Epoch 10/10\n",
      "20000/20000 - 124s - loss: 0.1114 - acc: 0.9621 - val_loss: 0.3404 - val_acc: 0.8818\n"
     ]
    }
   ],
   "source": [
    "history = model.fit(x_train, y_train, epochs=10, batch_size=128,\n",
    "                    verbose=2, validation_split=0.2)"
   ]
  },
  {
   "cell_type": "markdown",
   "metadata": {},
   "source": [
    "### Step 5. Test the Model"
   ]
  },
  {
   "cell_type": "code",
   "execution_count": 0,
   "metadata": {
    "colab": {
     "base_uri": "https://localhost:8080/",
     "height": 50
    },
    "colab_type": "code",
    "executionInfo": {
     "elapsed": 1422491,
     "status": "ok",
     "timestamp": 1563886581824,
     "user": {
      "displayName": "조현용",
      "photoUrl": "",
      "userId": "06121582825513881890"
     },
     "user_tz": -540
    },
    "id": "-M6fyGjZnUxv",
    "outputId": "8d81900e-0d76-4101-abae-ea3bb4076a1c"
   },
   "outputs": [
    {
     "name": "stdout",
     "output_type": "stream",
     "text": [
      "25000/25000 [==============================] - 131s 5ms/sample - loss: 0.3948 - acc: 0.8625\n",
      "test_loss =  0.39483398577213286 test_acc =  0.86252\n"
     ]
    }
   ],
   "source": [
    "test_loss, test_acc = model.evaluate(x_test, y_test)\n",
    "print('test_loss = ',test_loss, 'test_acc = ',test_acc)"
   ]
  },
  {
   "cell_type": "markdown",
   "metadata": {},
   "source": [
    "### Plot the Training/Validation Accuracy and Loss"
   ]
  },
  {
   "cell_type": "code",
   "execution_count": 0,
   "metadata": {
    "colab": {
     "base_uri": "https://localhost:8080/",
     "height": 545
    },
    "colab_type": "code",
    "executionInfo": {
     "elapsed": 1423823,
     "status": "ok",
     "timestamp": 1563886583164,
     "user": {
      "displayName": "조현용",
      "photoUrl": "",
      "userId": "06121582825513881890"
     },
     "user_tz": -540
    },
    "id": "HIkvZKBknVye",
    "outputId": "100dd0b0-69de-496e-97cb-4bee49aea937"
   },
   "outputs": [
    {
     "data": {
      "image/png": "[encoded data removed]",
      "text/plain": [
       "<Figure size 432x288 with 1 Axes>"
      ]
     },
     "metadata": {
      "tags": []
     },
     "output_type": "display_data"
    },
    {
     "data": {
      "image/png": "[encoded data removed]",
      "text/plain": [
       "<Figure size 432x288 with 1 Axes>"
      ]
     },
     "metadata": {
      "tags": []
     },
     "output_type": "display_data"
    }
   ],
   "source": [
    "acc = history.history['acc']\n",
    "val_acc = history.history['val_acc']\n",
    "loss = history.history['loss']\n",
    "val_loss = history.history['val_loss']\n",
    "\n",
    "epochs = range(1, len(acc) + 1)\n",
    "\n",
    "plt.plot(epochs, acc, 'b', label='Training acc')\n",
    "plt.plot(epochs, val_acc, 'r', label='Validation acc')\n",
    "plt.title('Training and validation accuracy')\n",
    "plt.legend()\n",
    "\n",
    "plt.figure()\n",
    "\n",
    "plt.plot(epochs, loss, 'b', label='Training loss')\n",
    "plt.plot(epochs, val_loss, 'r', label='Validation loss')\n",
    "plt.title('Training and validation loss')\n",
    "plt.legend()\n",
    "\n",
    "plt.show()"
   ]
  }
 ],
 "metadata": {
  "accelerator": "GPU",
  "colab": {
   "collapsed_sections": [],
   "name": "tf2-09-2-imdb_lstm.ipynb",
   "provenance": [],
   "version": "0.3.2"
  },
  "kernelspec": {
   "display_name": "Python 3",
   "language": "python",
   "name": "python3"
  },
  "language_info": {
   "codemirror_mode": {
    "name": "ipython",
    "version": 3
   },
   "file_extension": ".py",
   "mimetype": "text/x-python",
   "name": "python",
   "nbconvert_exporter": "python",
   "pygments_lexer": "ipython3",
   "version": "3.6.9"
  }
 },
 "nbformat": 4,
 "nbformat_minor": 1
}

{
 "cells": [
  {
   "cell_type": "markdown",
   "source": [
    "## Keras FunctionalAPI Example"
   ],
   "metadata": {}
  },
  {
   "cell_type": "code",
   "execution_count": 1,
   "source": [
    "import tensorflow as tf"
   ],
   "outputs": [],
   "metadata": {
    "colab": {},
    "colab_type": "code",
    "id": "MYnih9SmHvuT"
   }
  },
  {
   "cell_type": "markdown",
   "source": [
    "### Step 1. Data Load"
   ],
   "metadata": {}
  },
  {
   "cell_type": "code",
   "execution_count": 2,
   "source": [
    "(train_x,train_y), (test_x, test_y) = tf.keras.datasets.mnist.load_data()"
   ],
   "outputs": [],
   "metadata": {
    "colab": {},
    "colab_type": "code",
    "id": "9X2tTJexHycF"
   }
  },
  {
   "cell_type": "markdown",
   "source": [
    "### Step 1. Data Preprocessing"
   ],
   "metadata": {}
  },
  {
   "cell_type": "code",
   "execution_count": 3,
   "source": [
    "train_x = train_x.reshape(len(train_x), -1).astype('float32') / 255\n",
    "test_x = test_x.reshape(len(test_x), -1).astype('float32') / 255\n",
    "train_y = tf.keras.utils.to_categorical(train_y)\n",
    "test_y = tf.keras.utils.to_categorical(test_y)"
   ],
   "outputs": [],
   "metadata": {
    "colab": {},
    "colab_type": "code",
    "id": "97nVNnNWH0tL"
   }
  },
  {
   "cell_type": "markdown",
   "source": [
    "### Step 2. Functional API Model"
   ],
   "metadata": {}
  },
  {
   "cell_type": "code",
   "execution_count": 4,
   "source": [
    "# This returns a tensor \n",
    "inputs = tf.keras.layers.Input(shape=(784,)) \n",
    "\n",
    "# a layer instance is callable on a tensor, and returns a tensor \n",
    "x = tf.keras.layers.Dense(64, activation='relu')(inputs) \n",
    "x = tf.keras.layers.Dense(64, activation='relu')(x) \n",
    "predictions = tf.keras.layers.Dense(10, activation='softmax')(x) \n",
    "\n",
    "# This creates a model that includes the Input layer and three Dense layers \n",
    "model = tf.keras.models.Model(inputs=inputs, outputs=predictions) \n"
   ],
   "outputs": [],
   "metadata": {
    "colab": {},
    "colab_type": "code",
    "id": "Meip1LhjH2_g"
   }
  },
  {
   "cell_type": "markdown",
   "source": [
    "### Step 3. Loss,Optimizer, Metric"
   ],
   "metadata": {}
  },
  {
   "cell_type": "code",
   "execution_count": 5,
   "source": [
    "model.compile (optimizer= 'rmsprop', \n",
    "                loss='categorical_crossentropy', metrics = ['accuracy'])"
   ],
   "outputs": [],
   "metadata": {
    "colab": {},
    "colab_type": "code",
    "id": "qn05QLmaH4II"
   }
  },
  {
   "cell_type": "markdown",
   "source": [
    "### Step 4. Train the model"
   ],
   "metadata": {}
  },
  {
   "cell_type": "code",
   "execution_count": 8,
   "source": [
    "model.fit(train_x, train_y, batch_size=100, epochs=10)\n",
    "print(model.summary())"
   ],
   "outputs": [
    {
     "output_type": "stream",
     "name": "stdout",
     "text": [
      "Epoch 1/10\n",
      "600/600 [==============================] - 6s 10ms/step - loss: 0.0371 - accuracy: 0.9888\n",
      "Epoch 2/10\n",
      "600/600 [==============================] - 5s 8ms/step - loss: 0.0331 - accuracy: 0.9897\n",
      "Epoch 3/10\n",
      "600/600 [==============================] - 4s 7ms/step - loss: 0.0291 - accuracy: 0.9909\n",
      "Epoch 4/10\n",
      "600/600 [==============================] - 4s 7ms/step - loss: 0.0258 - accuracy: 0.9921\n",
      "Epoch 5/10\n",
      "600/600 [==============================] - 6s 11ms/step - loss: 0.0232 - accuracy: 0.9928\n",
      "Epoch 6/10\n",
      "600/600 [==============================] - 4s 7ms/step - loss: 0.0209 - accuracy: 0.9938\n",
      "Epoch 7/10\n",
      "600/600 [==============================] - 5s 8ms/step - loss: 0.0184 - accuracy: 0.9942\n",
      "Epoch 8/10\n",
      "600/600 [==============================] - 4s 7ms/step - loss: 0.0169 - accuracy: 0.9944\n",
      "Epoch 9/10\n",
      "600/600 [==============================] - 5s 8ms/step - loss: 0.0149 - accuracy: 0.9953\n",
      "Epoch 10/10\n",
      "600/600 [==============================] - 5s 9ms/step - loss: 0.0136 - accuracy: 0.9958\n",
      "Model: \"model\"\n",
      "_________________________________________________________________\n",
      "Layer (type)                 Output Shape              Param #   \n",
      "=================================================================\n",
      "input_1 (InputLayer)         [(None, 784)]             0         \n",
      "_________________________________________________________________\n",
      "dense (Dense)                (None, 64)                50240     \n",
      "_________________________________________________________________\n",
      "dense_1 (Dense)              (None, 64)                4160      \n",
      "_________________________________________________________________\n",
      "dense_2 (Dense)              (None, 10)                650       \n",
      "=================================================================\n",
      "Total params: 55,050\n",
      "Trainable params: 55,050\n",
      "Non-trainable params: 0\n",
      "_________________________________________________________________\n",
      "None\n"
     ]
    }
   ],
   "metadata": {
    "colab": {
     "base_uri": "https://localhost:8080/",
     "height": 736
    },
    "colab_type": "code",
    "executionInfo": {
     "elapsed": 14632,
     "status": "ok",
     "timestamp": 1563839957686,
     "user": {
      "displayName": "조현용",
      "photoUrl": "",
      "userId": "06121582825513881890"
     },
     "user_tz": -540
    },
    "id": "Q8vL98IdH8Or",
    "outputId": "9d5bc858-d864-47e6-d443-c509ab03c1e5"
   }
  },
  {
   "cell_type": "markdown",
   "source": [
    "### Step 5. Test the model"
   ],
   "metadata": {}
  },
  {
   "cell_type": "code",
   "execution_count": 7,
   "source": [
    "test_loss, test_acc = model.evaluate(test_x, test_y, verbose=2)\n",
    "print('test_loss = ', test_loss, 'test_acc = ', test_acc)"
   ],
   "outputs": [
    {
     "output_type": "stream",
     "name": "stdout",
     "text": [
      "313/313 - 1s - loss: 0.0894 - accuracy: 0.9744\n",
      "test_loss =  0.0894404947757721 test_acc =  0.9744000434875488\n"
     ]
    }
   ],
   "metadata": {
    "colab": {
     "base_uri": "https://localhost:8080/",
     "height": 50
    },
    "colab_type": "code",
    "executionInfo": {
     "elapsed": 796,
     "status": "ok",
     "timestamp": 1563839961712,
     "user": {
      "displayName": "조현용",
      "photoUrl": "",
      "userId": "06121582825513881890"
     },
     "user_tz": -540
    },
    "id": "YdanYyrAH9FO",
    "outputId": "4745b8b2-5d08-428f-ca66-795491dbf9cc"
   }
  },
  {
   "cell_type": "code",
   "execution_count": null,
   "source": [],
   "outputs": [],
   "metadata": {}
  }
 ],
 "metadata": {
  "accelerator": "GPU",
  "colab": {
   "collapsed_sections": [],
   "name": "tf2-01-15-keras_functionalAPI.ipynb",
   "provenance": [],
   "version": "0.3.2"
  },
  "kernelspec": {
   "name": "python3",
   "display_name": "Python 3.8.11 64-bit ('tf25': conda)"
  },
  "language_info": {
   "codemirror_mode": {
    "name": "ipython",
    "version": 3
   },
   "file_extension": ".py",
   "mimetype": "text/x-python",
   "name": "python",
   "nbconvert_exporter": "python",
   "pygments_lexer": "ipython3",
   "version": "3.8.11"
  },
  "interpreter": {
   "hash": "5f0bfe02fba3a9f333ee5973088cb3f971a7c1d19c2e60e79ea8ff7eeb2eaaee"
  }
 },
 "nbformat": 4,
 "nbformat_minor": 1
}
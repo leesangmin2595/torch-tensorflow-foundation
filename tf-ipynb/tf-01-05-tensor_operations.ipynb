{
 "cells": [
  {
   "cell_type": "code",
   "execution_count": 2,
   "source": [
    "import tensorflow as tf\n",
    "import numpy as np\n",
    "from tensorflow import keras"
   ],
   "outputs": [],
   "metadata": {
    "colab": {},
    "colab_type": "code",
    "id": "RZpQ7HZtFKki"
   }
  },
  {
   "cell_type": "code",
   "execution_count": 44,
   "source": [
    "## TensorFlow와 Keras의 version을 확인해봅시다\n",
    "print(tf.__version__)\n",
    "print(keras.__version__)"
   ],
   "outputs": [
    {
     "output_type": "stream",
     "name": "stdout",
     "text": [
      "2.0.0\n",
      "2.2.4-tf\n"
     ]
    }
   ],
   "metadata": {}
  },
  {
   "cell_type": "markdown",
   "source": [
    "## rank 1 numpy array"
   ],
   "metadata": {}
  },
  {
   "cell_type": "code",
   "execution_count": 9,
   "source": [
    "print(\"********** rank 1 - Numpy ****************\")\n",
    "t1 = np.array([0., 1., 2., 3., 4., 5., 6.])\n",
    "print(t1)\n",
    "print(\"rank = \", t1.ndim) # rank\n",
    "print(\"shape = \", t1.shape) # shape"
   ],
   "outputs": [
    {
     "output_type": "stream",
     "name": "stdout",
     "text": [
      "********** rank 1 - Numpy ****************\n",
      "[0. 1. 2. 3. 4. 5. 6.]\n",
      "rank =  1\n",
      "shape =  (7,)\n"
     ]
    }
   ],
   "metadata": {
    "colab": {
     "base_uri": "https://localhost:8080/",
     "height": 150
    },
    "colab_type": "code",
    "executionInfo": {
     "elapsed": 668,
     "status": "ok",
     "timestamp": 1563839225857,
     "user": {
      "displayName": "조현용",
      "photoUrl": "",
      "userId": "06121582825513881890"
     },
     "user_tz": -540
    },
    "id": "AiSxW-uvDLIP",
    "outputId": "b34b5cf9-0931-4526-d91e-897a52790c3c"
   }
  },
  {
   "cell_type": "markdown",
   "source": [
    "## indexing and slicing"
   ],
   "metadata": {}
  },
  {
   "cell_type": "code",
   "execution_count": 10,
   "source": [
    "print(t1[0], t1[1], t1[-1])\n",
    "print(t1[2:5], t1[4:-1])\n",
    "print(t1[:2], t1[3:])"
   ],
   "outputs": [
    {
     "output_type": "stream",
     "name": "stdout",
     "text": [
      "0.0 1.0 6.0\n",
      "[2. 3. 4.] [4. 5.]\n",
      "[0. 1.] [3. 4. 5. 6.]\n"
     ]
    }
   ],
   "metadata": {}
  },
  {
   "cell_type": "markdown",
   "source": [
    "## rank 2 numpy array : rank & shape"
   ],
   "metadata": {}
  },
  {
   "cell_type": "code",
   "execution_count": 7,
   "source": [
    "print(\"********** rank 2 - Numpy ****************\")\n",
    "t2 = np.array([[1., 2., 3.], [4., 5., 6.], [7., 8., 9.], [10., 11., 12.]])\n",
    "print(t2)\n",
    "print('rank = ', t2.ndim) # rank\n",
    "print('shape = ', t2.shape) # shape"
   ],
   "outputs": [
    {
     "output_type": "stream",
     "name": "stdout",
     "text": [
      "********** rank 2 - Numpy ****************\n",
      "[[ 1.  2.  3.]\n",
      " [ 4.  5.  6.]\n",
      " [ 7.  8.  9.]\n",
      " [10. 11. 12.]]\n",
      "rank =  2\n",
      "shape =  (4, 3)\n"
     ]
    }
   ],
   "metadata": {
    "colab": {
     "base_uri": "https://localhost:8080/",
     "height": 150
    },
    "colab_type": "code",
    "executionInfo": {
     "elapsed": 414,
     "status": "ok",
     "timestamp": 1563839236489,
     "user": {
      "displayName": "조현용",
      "photoUrl": "",
      "userId": "06121582825513881890"
     },
     "user_tz": -540
    },
    "id": "l2J2645SFN0c",
    "outputId": "22d6ec02-984e-48cf-f386-cc7b429552e0"
   }
  },
  {
   "cell_type": "markdown",
   "source": [
    "## rank 1 tensor : rank & shape"
   ],
   "metadata": {}
  },
  {
   "cell_type": "code",
   "execution_count": 11,
   "source": [
    "print(\"********** rank 1 - Tensor ****************\")\n",
    "t1_1 = tf.constant([1,2,3,4])\n",
    "print(t1_1)\n",
    "print('rank = ', tf.rank(t1_1).numpy())\n",
    "print('shape = ', t1_1.shape)"
   ],
   "outputs": [
    {
     "output_type": "stream",
     "name": "stdout",
     "text": [
      "********** rank 1 - Tensor ****************\n",
      "tf.Tensor([1 2 3 4], shape=(4,), dtype=int32)\n",
      "rank =  1\n",
      "shape =  (4,)\n",
      "\n"
     ]
    }
   ],
   "metadata": {
    "colab": {
     "base_uri": "https://localhost:8080/",
     "height": 100
    },
    "colab_type": "code",
    "executionInfo": {
     "elapsed": 730,
     "status": "ok",
     "timestamp": 1563839244609,
     "user": {
      "displayName": "조현용",
      "photoUrl": "",
      "userId": "06121582825513881890"
     },
     "user_tz": -540
    },
    "id": "dzOQrLZ_FQeG",
    "outputId": "280596f0-1367-437f-f0f2-e64b2a220c87"
   }
  },
  {
   "cell_type": "markdown",
   "source": [
    "## rank 2 tensor : rank & shape"
   ],
   "metadata": {}
  },
  {
   "cell_type": "code",
   "execution_count": 15,
   "source": [
    "print(\"********** rank 2 - Tensor ****************\")\n",
    "t2_1 = tf.constant([[1,2,3,4], [5,6,7,8], [9,10,11,12]])\n",
    "print(t2_1)\n",
    "print('rank = ', tf.rank(t2_1).numpy())\n",
    "print('shape = ', t2_1.shape)"
   ],
   "outputs": [
    {
     "output_type": "stream",
     "name": "stdout",
     "text": [
      "********** rank 2 - Tensor ****************\n",
      "tf.Tensor(\n",
      "[[ 1  2  3  4]\n",
      " [ 5  6  7  8]\n",
      " [ 9 10 11 12]], shape=(3, 4), dtype=int32)\n",
      "rank =  2\n",
      "shape =  (3, 4)\n"
     ]
    }
   ],
   "metadata": {
    "colab": {
     "base_uri": "https://localhost:8080/",
     "height": 133
    },
    "colab_type": "code",
    "executionInfo": {
     "elapsed": 657,
     "status": "ok",
     "timestamp": 1563839251227,
     "user": {
      "displayName": "조현용",
      "photoUrl": "",
      "userId": "06121582825513881890"
     },
     "user_tz": -540
    },
    "id": "MuGB5f2AFSmJ",
    "outputId": "e0b59a33-b19b-438c-d05b-60e3ba92fc41"
   }
  },
  {
   "cell_type": "markdown",
   "source": [
    "## tensor indexing"
   ],
   "metadata": {}
  },
  {
   "cell_type": "code",
   "execution_count": 16,
   "source": [
    "## indexing - indexing을 사용하면 항상 차원이 감소합니다\n",
    "print(t2_1[0])\n",
    "print(t2_1[1])\n",
    "print(t2_1[2])\n",
    "print(t2_1[0, 1])\n",
    "print(t2_1[1, 2])\n",
    "print(t2_1[2, 3])"
   ],
   "outputs": [
    {
     "output_type": "stream",
     "name": "stdout",
     "text": [
      "tf.Tensor([1 2 3 4], shape=(4,), dtype=int32)\n",
      "tf.Tensor([5 6 7 8], shape=(4,), dtype=int32)\n",
      "tf.Tensor([ 9 10 11 12], shape=(4,), dtype=int32)\n",
      "tf.Tensor(2, shape=(), dtype=int32)\n",
      "tf.Tensor(7, shape=(), dtype=int32)\n",
      "tf.Tensor(12, shape=(), dtype=int32)\n"
     ]
    }
   ],
   "metadata": {}
  },
  {
   "cell_type": "markdown",
   "source": [
    "## tensor slicing"
   ],
   "metadata": {}
  },
  {
   "cell_type": "code",
   "execution_count": 18,
   "source": [
    "## slicing\n",
    "print(t2_1[1:3, 1:3])\n",
    "print(t2_1[:2, 1:3])\n",
    "print(t2_1[1:3, 3:])"
   ],
   "outputs": [
    {
     "output_type": "stream",
     "name": "stdout",
     "text": [
      "tf.Tensor(\n",
      "[[ 6  7]\n",
      " [10 11]], shape=(2, 2), dtype=int32)\n",
      "tf.Tensor(\n",
      "[[2 3]\n",
      " [6 7]], shape=(2, 2), dtype=int32)\n",
      "tf.Tensor(\n",
      "[[ 8]\n",
      " [12]], shape=(2, 1), dtype=int32)\n"
     ]
    }
   ],
   "metadata": {}
  },
  {
   "cell_type": "markdown",
   "source": [
    "## rank 3 tensor : rank & shape"
   ],
   "metadata": {}
  },
  {
   "cell_type": "code",
   "execution_count": 9,
   "source": [
    "print(\"********** rank 3 - Tensor ****************\")\n",
    "t3 = tf.constant([[[[1, 2, 3, 4], [5, 6, 7, 8], [9, 10, 11, 12]],[[13, 14, 15, 16], [17, 18, 19, 20], [21, 22, 23, 24]]]])\n",
    "print(t3)\n",
    "print('rank = ', tf.rank(t3).numpy())\n",
    "print('shape = ', t3.shape)"
   ],
   "outputs": [
    {
     "output_type": "stream",
     "name": "stdout",
     "text": [
      "********** rank 3 - Tensor ****************\n",
      "tf.Tensor(\n",
      "[[[[ 1  2  3  4]\n",
      "   [ 5  6  7  8]\n",
      "   [ 9 10 11 12]]\n",
      "\n",
      "  [[13 14 15 16]\n",
      "   [17 18 19 20]\n",
      "   [21 22 23 24]]]], shape=(1, 2, 3, 4), dtype=int32)\n",
      "rank =  4\n",
      "shape =  (1, 2, 3, 4)\n",
      "\n"
     ]
    }
   ],
   "metadata": {
    "colab": {
     "base_uri": "https://localhost:8080/",
     "height": 216
    },
    "colab_type": "code",
    "executionInfo": {
     "elapsed": 664,
     "status": "ok",
     "timestamp": 1563839257991,
     "user": {
      "displayName": "조현용",
      "photoUrl": "",
      "userId": "06121582825513881890"
     },
     "user_tz": -540
    },
    "id": "2vx8_fS6FUBG",
    "outputId": "1ecfa350-1dcb-4c6f-a743-04902ca8b7c7"
   }
  },
  {
   "cell_type": "markdown",
   "source": [
    "## rank 4 tensor : rank & shape"
   ],
   "metadata": {}
  },
  {
   "cell_type": "code",
   "execution_count": 14,
   "source": [
    "print(\"********** rank 4 - Tensor ****************\")\n",
    "t4 = tf.constant([\n",
    "    [\n",
    "        [\n",
    "            [1,2,3,4], \n",
    "            [5,6,7,8],\n",
    "            [9,10,11,12]\n",
    "        ],\n",
    "        [\n",
    "            [13,14,15,16],\n",
    "            [17,18,19,20], \n",
    "            [21,22,23,24]\n",
    "        ]\n",
    "    ]\n",
    "])\n",
    "print(t4)\n",
    "print('rank = ', tf.rank(t4).numpy())\n",
    "print('shape = ', t4.shape)"
   ],
   "outputs": [
    {
     "output_type": "stream",
     "name": "stdout",
     "text": [
      "********** rank 4 - Tensor ****************\n",
      "tf.Tensor(\n",
      "[[[[ 1  2  3  4]\n",
      "   [ 5  6  7  8]\n",
      "   [ 9 10 11 12]]\n",
      "\n",
      "  [[13 14 15 16]\n",
      "   [17 18 19 20]\n",
      "   [21 22 23 24]]]], shape=(1, 2, 3, 4), dtype=int32)\n",
      "rank =  4\n",
      "shape =  (1, 2, 3, 4)\n"
     ]
    }
   ],
   "metadata": {
    "colab": {
     "base_uri": "https://localhost:8080/",
     "height": 216
    },
    "colab_type": "code",
    "executionInfo": {
     "elapsed": 665,
     "status": "ok",
     "timestamp": 1563839267678,
     "user": {
      "displayName": "조현용",
      "photoUrl": "",
      "userId": "06121582825513881890"
     },
     "user_tz": -540
    },
    "id": "96JiKv5CFVqo",
    "outputId": "aa1c7062-c1d2-4552-cacb-870d391ae2df"
   }
  },
  {
   "cell_type": "markdown",
   "source": [
    "## tensor generation : ones & zeros"
   ],
   "metadata": {}
  },
  {
   "cell_type": "code",
   "execution_count": 45,
   "source": [
    "## 상수형 tensor를 생성하는 방법으로 아래와 같은 방법이 많이 사용됩니다\n",
    "print(tf.ones(shape=(2,2)))\n",
    "print(tf.zeros(shape=(2,2)))"
   ],
   "outputs": [
    {
     "output_type": "stream",
     "name": "stdout",
     "text": [
      "tf.Tensor(\n",
      "[[1. 1.]\n",
      " [1. 1.]], shape=(2, 2), dtype=float32)\n",
      "tf.Tensor(\n",
      "[[0. 0.]\n",
      " [0. 0.]], shape=(2, 2), dtype=float32)\n"
     ]
    }
   ],
   "metadata": {}
  },
  {
   "cell_type": "markdown",
   "source": [
    "## matrix multiplication"
   ],
   "metadata": {}
  },
  {
   "cell_type": "code",
   "execution_count": 23,
   "source": [
    "print(\"********** matmul ****************\")\n",
    "matrix1 = tf.constant([[1., 2.], [3., 4.]])\n",
    "matrix2 = tf.constant([[1.],[2.]])\n",
    "matmul = tf.matmul(matrix1, matrix2)\n",
    "print(matrix1)\n",
    "print(matrix2)\n",
    "print(matmul)"
   ],
   "outputs": [
    {
     "output_type": "stream",
     "name": "stdout",
     "text": [
      "********** matmul ****************\n",
      "tf.Tensor(\n",
      "[[1. 2.]\n",
      " [3. 4.]], shape=(2, 2), dtype=float32)\n",
      "tf.Tensor(\n",
      "[[1.]\n",
      " [2.]], shape=(2, 1), dtype=float32)\n",
      "tf.Tensor(\n",
      "[[ 5.]\n",
      " [11.]], shape=(2, 1), dtype=float32)\n"
     ]
    }
   ],
   "metadata": {
    "colab": {
     "base_uri": "https://localhost:8080/",
     "height": 200
    },
    "colab_type": "code",
    "executionInfo": {
     "elapsed": 638,
     "status": "ok",
     "timestamp": 1563839280570,
     "user": {
      "displayName": "조현용",
      "photoUrl": "",
      "userId": "06121582825513881890"
     },
     "user_tz": -540
    },
    "id": "srqsdLGTFYCG",
    "outputId": "648f51a4-99af-4029-c8b4-ba3aae28d3e1"
   }
  },
  {
   "cell_type": "markdown",
   "source": [
    "## matrix multiply & broadcasting"
   ],
   "metadata": {}
  },
  {
   "cell_type": "code",
   "execution_count": 24,
   "source": [
    "print(\"********** multiply & Broadcasting ****************\")\n",
    "multiply1 = matrix1*matrix2\n",
    "print(multiply1)\n",
    "multiply2 = tf.multiply(matrix1, matrix2)\n",
    "print(multiply2)"
   ],
   "outputs": [
    {
     "output_type": "stream",
     "name": "stdout",
     "text": [
      "********** multiply & Broadcasting ****************\n",
      "tf.Tensor(\n",
      "[[1. 2.]\n",
      " [6. 8.]], shape=(2, 2), dtype=float32)\n",
      "tf.Tensor(\n",
      "[[1. 2.]\n",
      " [6. 8.]], shape=(2, 2), dtype=float32)\n"
     ]
    }
   ],
   "metadata": {
    "colab": {
     "base_uri": "https://localhost:8080/",
     "height": 150
    },
    "colab_type": "code",
    "executionInfo": {
     "elapsed": 676,
     "status": "ok",
     "timestamp": 1563839285545,
     "user": {
      "displayName": "조현용",
      "photoUrl": "",
      "userId": "06121582825513881890"
     },
     "user_tz": -540
    },
    "id": "JQM4jhoyFbL5",
    "outputId": "d65579a8-5723-4319-892a-051327a94345"
   }
  },
  {
   "cell_type": "markdown",
   "source": [
    "#### Broadcasting 규칙\n",
    "\n",
    "두 개의 배열을 브로드캐스팅하는 것은 다음 규칙을 따릅니다.\n",
    "\n",
    "1. 배열의 랭크가 같지 않으면 두 모양이 같은 길이가 될 때까지 배열의 낮은 랭크쪽에 1을 붙입니다.\n",
    "2. 두 배열은 차원에서 크기가 같거나 배열 중 하나의 차원에 크기가 1 인 경우 차원에서 호환 가능하다고 합니다.\n",
    "3. 배열은 모든 차원에서 호환되면 함께 브로드캐스트 될 수 있습니다.\n",
    "4. 브로드캐스트 후 각 배열은 두 개의 입력 배열의 요소 모양 최대 개수와 동일한 모양을 가진 것처럼 동작합니다.\n",
    "5. 한 배열의 크기가 1이고 다른 배열의 크기가 1보다 큰 차원에서 첫 번째 배열은 마치 해당 차원을 따라 복사 된 것처럼 작동합니다\n",
    "\n",
    "실제로 동작하는 방식을 생각해 봅시다.\n",
    "\n",
    "1. A와 B의 모양을 생각합니다.\n",
    "2. 두 배열이 len(A.shape) == len(B.shape)인지 확인을 합니다.\n",
    "3. 같지 않은 경우에는 두 배열의 모양 길이가 같아질때까지 적은 쪽의 shape 앞에 1 을 추가해 줍니다.\n",
    "- 예: (5,3)–>(1,5,3)\n",
    "4. shape이 1인 곳은 복사가 됩니다.\n",
    "- 예: shape의 변화는 아래와 같게 될겁니다.\n",
    "- (5, 3)+(3,)\n",
    "- (5, 3)+(1, 3)\n",
    "- (5, 3) + (5, 3)\n",
    "- (5, 3)"
   ],
   "metadata": {}
  },
  {
   "cell_type": "markdown",
   "source": [
    "## matrix addition"
   ],
   "metadata": {}
  },
  {
   "cell_type": "code",
   "execution_count": 25,
   "source": [
    "print(\"********** Add ****************\")\n",
    "matrix1 = tf.constant([[3., 3.]])\n",
    "matrix2 = tf.constant([[2., 2.]])\n",
    "matadd2 = matrix1+matrix2\n",
    "print(matadd2)"
   ],
   "outputs": [
    {
     "output_type": "stream",
     "name": "stdout",
     "text": [
      "********** Add ****************\n",
      "tf.Tensor([[5. 5.]], shape=(1, 2), dtype=float32)\n"
     ]
    }
   ],
   "metadata": {
    "colab": {
     "base_uri": "https://localhost:8080/",
     "height": 66
    },
    "colab_type": "code",
    "executionInfo": {
     "elapsed": 657,
     "status": "ok",
     "timestamp": 1563839291195,
     "user": {
      "displayName": "조현용",
      "photoUrl": "",
      "userId": "06121582825513881890"
     },
     "user_tz": -540
    },
    "id": "aC1m5y3-FcY7",
    "outputId": "469e0483-3262-4aa8-81c9-ae84000eb095"
   }
  },
  {
   "cell_type": "markdown",
   "source": [
    "## matrix addition & broadcasting"
   ],
   "metadata": {}
  },
  {
   "cell_type": "code",
   "execution_count": 26,
   "source": [
    "print(\"********** Add & Broadcasting ****************\")\n",
    "# Broadcasting\n",
    "matrix1 = tf.constant([[3., 3.]])\n",
    "matrix2 = tf.constant([[2.],[2.]])\n",
    "matadd1 = matrix1+matrix2\n",
    "print(matadd1)"
   ],
   "outputs": [
    {
     "output_type": "stream",
     "name": "stdout",
     "text": [
      "********** Add & Broadcasting ****************\n",
      "tf.Tensor(\n",
      "[[5. 5.]\n",
      " [5. 5.]], shape=(2, 2), dtype=float32)\n"
     ]
    }
   ],
   "metadata": {
    "colab": {
     "base_uri": "https://localhost:8080/",
     "height": 100
    },
    "colab_type": "code",
    "executionInfo": {
     "elapsed": 627,
     "status": "ok",
     "timestamp": 1563839301336,
     "user": {
      "displayName": "조현용",
      "photoUrl": "",
      "userId": "06121582825513881890"
     },
     "user_tz": -540
    },
    "id": "4g9nuSShFdxp",
    "outputId": "f5df22d2-c0ba-4aa0-9cc8-11727a6187c9"
   }
  },
  {
   "cell_type": "markdown",
   "source": [
    "## range"
   ],
   "metadata": {}
  },
  {
   "cell_type": "code",
   "execution_count": 30,
   "source": [
    "print(\"********** range ****************\")\n",
    "start=3\n",
    "limit=18\n",
    "steps=3\n",
    "print(tf.range(start, limit, steps)) # [3, 6, 9, 12, 15]\n",
    "\n",
    "start=3\n",
    "limit=1\n",
    "steps=-0.5\n",
    "print(tf.range(start, limit, steps)) # [3, 2.5, 2, 1.5]\n",
    "\n",
    "limit=5\n",
    "print(tf.range(limit)) # [0, 1, 2, 3, 4]"
   ],
   "outputs": [
    {
     "output_type": "stream",
     "name": "stdout",
     "text": [
      "********** range ****************\n",
      "tf.Tensor([ 3  6  9 12 15], shape=(5,), dtype=int32)\n",
      "tf.Tensor([3.  2.5 2.  1.5], shape=(4,), dtype=float32)\n",
      "tf.Tensor([0 1 2 3 4], shape=(5,), dtype=int32)\n"
     ]
    }
   ],
   "metadata": {
    "colab": {
     "base_uri": "https://localhost:8080/",
     "height": 100
    },
    "colab_type": "code",
    "executionInfo": {
     "elapsed": 642,
     "status": "ok",
     "timestamp": 1563839342310,
     "user": {
      "displayName": "조현용",
      "photoUrl": "",
      "userId": "06121582825513881890"
     },
     "user_tz": -540
    },
    "id": "LUdl4L35FgQf",
    "outputId": "24765087-6587-4c1f-d81f-7de9260f79af"
   }
  },
  {
   "cell_type": "markdown",
   "source": [
    "## random number generation : Gaussian & uniform distribution"
   ],
   "metadata": {}
  },
  {
   "cell_type": "code",
   "execution_count": 31,
   "source": [
    "print(\"********** random number generation ****************\")\n",
    "#%%\n",
    "\n",
    "print(tf.random.normal([3]).numpy())\n",
    "print(tf.random.uniform([2]))\n",
    "print(tf.random.uniform([2, 3]))"
   ],
   "outputs": [
    {
     "output_type": "stream",
     "name": "stdout",
     "text": [
      "********** random number generation ****************\n",
      "[-2.0582135  -0.58706146  1.5852553 ]\n",
      "tf.Tensor([0.24344611 0.8562622 ], shape=(2,), dtype=float32)\n",
      "tf.Tensor(\n",
      "[[0.58736074 0.0210669  0.84322035]\n",
      " [0.32359016 0.43640697 0.81725156]], shape=(2, 3), dtype=float32)\n"
     ]
    }
   ],
   "metadata": {
    "colab": {
     "base_uri": "https://localhost:8080/",
     "height": 133
    },
    "colab_type": "code",
    "executionInfo": {
     "elapsed": 651,
     "status": "ok",
     "timestamp": 1563839347692,
     "user": {
      "displayName": "조현용",
      "photoUrl": "",
      "userId": "06121582825513881890"
     },
     "user_tz": -540
    },
    "id": "sMsy-4zoFqQh",
    "outputId": "b8ff2536-7161-4e93-900f-bc59024905ce"
   }
  },
  {
   "cell_type": "markdown",
   "source": [
    "## reduce mean/sum & axis"
   ],
   "metadata": {}
  },
  {
   "cell_type": "code",
   "execution_count": 53,
   "source": [
    "print(\"********** reduce mean & axis ****************\")\n",
    "\n",
    "x = [[1., 2.],\n",
    "     [3., 4.]]\n",
    "\n",
    "print(tf.reduce_mean(x))\n",
    "print(tf.reduce_mean(x, axis=0)) # axis=0으로 reduce mean\n",
    "print(tf.reduce_mean(x, axis=1)) # axis=1로 reduce mean\n",
    "print(tf.reduce_mean(x, axis=-1))\n",
    "print(tf.reduce_mean(tf.reduce_mean(x, axis=-1)))"
   ],
   "outputs": [
    {
     "output_type": "stream",
     "name": "stdout",
     "text": [
      "********** reduce mean & axis ****************\n",
      "tf.Tensor(2.5, shape=(), dtype=float32)\n",
      "tf.Tensor([2. 3.], shape=(2,), dtype=float32)\n",
      "tf.Tensor([1.5 3.5], shape=(2,), dtype=float32)\n",
      "tf.Tensor([1.5 3.5], shape=(2,), dtype=float32)\n",
      "tf.Tensor(2.5, shape=(), dtype=float32)\n"
     ]
    }
   ],
   "metadata": {
    "colab": {
     "base_uri": "https://localhost:8080/",
     "height": 100
    },
    "colab_type": "code",
    "executionInfo": {
     "elapsed": 644,
     "status": "ok",
     "timestamp": 1563839352932,
     "user": {
      "displayName": "조현용",
      "photoUrl": "",
      "userId": "06121582825513881890"
     },
     "user_tz": -540
    },
    "id": "aPP4WwprFrkb",
    "outputId": "12457d6c-b866-4b50-d3b0-3ee8ee66a142"
   }
  },
  {
   "cell_type": "markdown",
   "source": [
    "여기서 축(axis)은 각 배열의 차원에 해당되는 인덱스입니다. 위의 예를 설명하면\n",
    "\n",
    "- x.shape 은 (2, 2) 입니다.\n",
    "- tf.reduce_mean(x, axis=0) 은\n",
    "- x.shape[axis]: x.shape[0] 에 대하여 연산을 하라는 의미\n",
    "입니다.\n",
    "\n",
    "X.shape == (5, 3, 2) 인 경우를 생각해봅시다. 이 경우 tf.reduce_mean(X, axis=1) 의 결과값은\n",
    "\n",
    "1. X.shape[axis] => X.shape[1] 에 대해서 연산을 하기 때문에\n",
    "2. tf.reduce_mean(X, axis=1).shape 은 (5, 3, 2) -> (5, 2) 가 됩니다."
   ],
   "metadata": {}
  },
  {
   "cell_type": "code",
   "execution_count": 54,
   "source": [
    "print(tf.reduce_sum(x))\n",
    "print(tf.reduce_sum(x, axis=0))\n",
    "print(tf.reduce_sum(x, axis=-1))\n",
    "print(tf.reduce_mean(tf.reduce_sum(x, axis=-1)))"
   ],
   "outputs": [
    {
     "output_type": "stream",
     "name": "stdout",
     "text": [
      "tf.Tensor(10.0, shape=(), dtype=float32)\n",
      "tf.Tensor([4. 6.], shape=(2,), dtype=float32)\n",
      "tf.Tensor([3. 7.], shape=(2,), dtype=float32)\n",
      "tf.Tensor(5.0, shape=(), dtype=float32)\n"
     ]
    }
   ],
   "metadata": {}
  },
  {
   "cell_type": "markdown",
   "source": [
    "## argmax"
   ],
   "metadata": {}
  },
  {
   "cell_type": "code",
   "execution_count": 46,
   "source": [
    "x = [[0, 1, 2],\n",
    "     [2, 1, 0]]\n",
    "print(tf.argmax(x, axis=0))\n",
    "print(tf.argmax(x, axis=1))\n",
    "print(tf.argmax(x, axis=-1))"
   ],
   "outputs": [
    {
     "output_type": "stream",
     "name": "stdout",
     "text": [
      "tf.Tensor([1 0 0], shape=(3,), dtype=int64)\n",
      "tf.Tensor([2 0], shape=(2,), dtype=int64)\n",
      "tf.Tensor([2 0], shape=(2,), dtype=int64)\n"
     ]
    }
   ],
   "metadata": {}
  },
  {
   "cell_type": "markdown",
   "source": [
    "## reshape"
   ],
   "metadata": {}
  },
  {
   "cell_type": "code",
   "execution_count": 3,
   "source": [
    "print(\"********** Reshape ****************\")\n",
    "# reshape\n",
    "\n",
    "t = tf.constant([[[0, 1, 2],\n",
    "               [3, 4, 5]], \n",
    "              [[6, 7, 8],\n",
    "               [9, 10, 11]]])\n",
    "\n",
    "print(tf.shape(t))\n",
    "\n",
    "print(tf.reshape(t, shape=[-1]))\n",
    "print(tf.reshape(t, shape=[-1, 2]))\n",
    "print(tf.reshape(t, shape=[-1, 3]))\n",
    "print(tf.reshape(t, shape=[-1, 1, 3]))"
   ],
   "outputs": [
    {
     "output_type": "stream",
     "name": "stdout",
     "text": [
      "********** Reshape ****************\n",
      "tf.Tensor([2 2 3], shape=(3,), dtype=int32)\n",
      "tf.Tensor([ 0  1  2  3  4  5  6  7  8  9 10 11], shape=(12,), dtype=int32)\n",
      "tf.Tensor(\n",
      "[[ 0  1]\n",
      " [ 2  3]\n",
      " [ 4  5]\n",
      " [ 6  7]\n",
      " [ 8  9]\n",
      " [10 11]], shape=(6, 2), dtype=int32)\n",
      "tf.Tensor(\n",
      "[[ 0  1  2]\n",
      " [ 3  4  5]\n",
      " [ 6  7  8]\n",
      " [ 9 10 11]], shape=(4, 3), dtype=int32)\n",
      "tf.Tensor(\n",
      "[[[ 0  1  2]]\n",
      "\n",
      " [[ 3  4  5]]\n",
      "\n",
      " [[ 6  7  8]]\n",
      "\n",
      " [[ 9 10 11]]], shape=(4, 1, 3), dtype=int32)\n"
     ]
    }
   ],
   "metadata": {
    "colab": {
     "base_uri": "https://localhost:8080/",
     "height": 500
    },
    "colab_type": "code",
    "executionInfo": {
     "elapsed": 632,
     "status": "ok",
     "timestamp": 1563839357848,
     "user": {
      "displayName": "조현용",
      "photoUrl": "",
      "userId": "06121582825513881890"
     },
     "user_tz": -540
    },
    "id": "wuLS_5ESFs2Y",
    "outputId": "b18769ad-f34a-4f31-b7b3-4ed6514aef94"
   }
  },
  {
   "cell_type": "markdown",
   "source": [
    "## squeeze and expand_dims"
   ],
   "metadata": {}
  },
  {
   "cell_type": "code",
   "execution_count": 36,
   "source": [
    "print(tf.squeeze([[0], [1], [2]]))\n",
    "print(tf.expand_dims([0, 1, 2], 1))"
   ],
   "outputs": [
    {
     "output_type": "stream",
     "name": "stdout",
     "text": [
      "tf.Tensor([0 1 2], shape=(3,), dtype=int32)\n",
      "tf.Tensor(\n",
      "[[0]\n",
      " [1]\n",
      " [2]], shape=(3, 1), dtype=int32)\n"
     ]
    }
   ],
   "metadata": {}
  },
  {
   "cell_type": "markdown",
   "source": [
    "## one-hot encoding"
   ],
   "metadata": {}
  },
  {
   "cell_type": "code",
   "execution_count": 47,
   "source": [
    "print(\"********** One hot ****************\")\n",
    "label = tf.constant([0, 1, 2, 0])\n",
    "onehot1 = tf.one_hot(label, depth=3)\n",
    "onehot2 = keras.utils.to_categorical(label, num_classes=3)\n",
    "\n",
    "print(onehot1, type(onehot1))\n",
    "print(onehot2, type(onehot2))"
   ],
   "outputs": [
    {
     "output_type": "stream",
     "name": "stdout",
     "text": [
      "********** One hot ****************\n",
      "tf.Tensor(\n",
      "[[1. 0. 0.]\n",
      " [0. 1. 0.]\n",
      " [0. 0. 1.]\n",
      " [1. 0. 0.]], shape=(4, 3), dtype=float32) <class 'tensorflow.python.framework.ops.EagerTensor'>\n",
      "[[1. 0. 0.]\n",
      " [0. 1. 0.]\n",
      " [0. 0. 1.]\n",
      " [1. 0. 0.]] <class 'numpy.ndarray'>\n"
     ]
    }
   ],
   "metadata": {
    "colab": {
     "base_uri": "https://localhost:8080/",
     "height": 183
    },
    "colab_type": "code",
    "executionInfo": {
     "elapsed": 757,
     "status": "ok",
     "timestamp": 1563839363020,
     "user": {
      "displayName": "조현용",
      "photoUrl": "",
      "userId": "06121582825513881890"
     },
     "user_tz": -540
    },
    "id": "eAWnRi1nFuDV",
    "outputId": "0a530d22-6c58-43a4-fac2-8ac73da62c82"
   }
  },
  {
   "cell_type": "markdown",
   "source": [
    "## type casting"
   ],
   "metadata": {}
  },
  {
   "cell_type": "code",
   "execution_count": 49,
   "source": [
    "print(\"********** Casting ****************\")\n",
    "\n",
    "print(tf.cast([1.8, 2.2, 3.3, 4.9], tf.int32))\n",
    "print(tf.cast([True, False, 1 == 1, 0 == 1], tf.int32))"
   ],
   "outputs": [
    {
     "output_type": "stream",
     "name": "stdout",
     "text": [
      "********** Casting ****************\n",
      "tf.Tensor([1 2 3 4], shape=(4,), dtype=int32)\n",
      "tf.Tensor([1 0 1 0], shape=(4,), dtype=int32)\n"
     ]
    }
   ],
   "metadata": {
    "colab": {
     "base_uri": "https://localhost:8080/",
     "height": 83
    },
    "colab_type": "code",
    "executionInfo": {
     "elapsed": 786,
     "status": "ok",
     "timestamp": 1563839367819,
     "user": {
      "displayName": "조현용",
      "photoUrl": "",
      "userId": "06121582825513881890"
     },
     "user_tz": -540
    },
    "id": "voHPix-4FvSP",
    "outputId": "32f3692b-e962-4809-f2af-ceba574954c2"
   }
  },
  {
   "cell_type": "markdown",
   "source": [
    "## stack"
   ],
   "metadata": {}
  },
  {
   "cell_type": "code",
   "execution_count": 50,
   "source": [
    "print(\"********** Stack ****************\")\n",
    "\n",
    "x = [1, 4]\n",
    "y = [2, 5]\n",
    "z = [3, 6]\n",
    "\n",
    "print(tf.stack([x, y, z]))"
   ],
   "outputs": [
    {
     "output_type": "stream",
     "name": "stdout",
     "text": [
      "********** Stack ****************\n",
      "tf.Tensor(\n",
      "[[1 4]\n",
      " [2 5]\n",
      " [3 6]], shape=(3, 2), dtype=int32)\n"
     ]
    }
   ],
   "metadata": {
    "colab": {
     "base_uri": "https://localhost:8080/",
     "height": 116
    },
    "colab_type": "code",
    "executionInfo": {
     "elapsed": 607,
     "status": "ok",
     "timestamp": 1563839372155,
     "user": {
      "displayName": "조현용",
      "photoUrl": "",
      "userId": "06121582825513881890"
     },
     "user_tz": -540
    },
    "id": "xHCJBL3YFwcx",
    "outputId": "8322002d-bdb4-4971-ccff-ae07ad4bfa91"
   }
  },
  {
   "cell_type": "markdown",
   "source": [
    "## Ones and Zeros like"
   ],
   "metadata": {}
  },
  {
   "cell_type": "code",
   "execution_count": 22,
   "source": [
    "print(\"********** Ones and Zeros like ****************\")\n",
    "\n",
    "x = [[0, 1, 2],\n",
    "     [2, 1, 0]]\n",
    "\n",
    "print(tf.ones_like(x)) # 1로 채운\n",
    "print(tf.zeros_like(x)) # 0으로 채운"
   ],
   "outputs": [
    {
     "output_type": "stream",
     "name": "stdout",
     "text": [
      "********** Ones and Zeros like ****************\n",
      "tf.Tensor(\n",
      "[[1 1 1]\n",
      " [1 1 1]], shape=(2, 3), dtype=int32)\n",
      "tf.Tensor(\n",
      "[[0 0 0]\n",
      " [0 0 0]], shape=(2, 3), dtype=int32)\n",
      "\n"
     ]
    }
   ],
   "metadata": {
    "colab": {
     "base_uri": "https://localhost:8080/",
     "height": 150
    },
    "colab_type": "code",
    "executionInfo": {
     "elapsed": 625,
     "status": "ok",
     "timestamp": 1563839377431,
     "user": {
      "displayName": "조현용",
      "photoUrl": "",
      "userId": "06121582825513881890"
     },
     "user_tz": -540
    },
    "id": "KTg-ShqCFxjQ",
    "outputId": "432664d6-16c0-4659-dea8-cb390b63ab98"
   }
  },
  {
   "cell_type": "markdown",
   "source": [
    "## zips"
   ],
   "metadata": {}
  },
  {
   "cell_type": "code",
   "execution_count": 51,
   "source": [
    "print(\"********** Zips ****************\")\n",
    "\n",
    "for x, y in zip([1, 2, 3], [4, 5, 6]): # x와 y에 담아서 처리\n",
    "  print(x, y)\n"
   ],
   "outputs": [
    {
     "output_type": "stream",
     "name": "stdout",
     "text": [
      "********** Zips ****************\n",
      "1 4\n",
      "2 5\n",
      "3 6\n"
     ]
    }
   ],
   "metadata": {
    "colab": {
     "base_uri": "https://localhost:8080/",
     "height": 83
    },
    "colab_type": "code",
    "executionInfo": {
     "elapsed": 626,
     "status": "ok",
     "timestamp": 1563839380892,
     "user": {
      "displayName": "조현용",
      "photoUrl": "",
      "userId": "06121582825513881890"
     },
     "user_tz": -540
    },
    "id": "qRrojIx5Fy1f",
    "outputId": "71ff2b23-4e74-498b-ab63-6f5897ae52b7"
   }
  },
  {
   "cell_type": "code",
   "execution_count": null,
   "source": [],
   "outputs": [],
   "metadata": {}
  }
 ],
 "metadata": {
  "colab": {
   "collapsed_sections": [],
   "name": "tf2-01-6-tf_operations.ipynb",
   "provenance": [],
   "version": "0.3.2"
  },
  "kernelspec": {
   "name": "python3",
   "display_name": "Python 3.8.11 64-bit ('tf25': conda)"
  },
  "language_info": {
   "codemirror_mode": {
    "name": "ipython",
    "version": 3
   },
   "file_extension": ".py",
   "mimetype": "text/x-python",
   "name": "python",
   "nbconvert_exporter": "python",
   "pygments_lexer": "ipython3",
   "version": "3.8.11"
  },
  "interpreter": {
   "hash": "5f0bfe02fba3a9f333ee5973088cb3f971a7c1d19c2e60e79ea8ff7eeb2eaaee"
  }
 },
 "nbformat": 4,
 "nbformat_minor": 1
}
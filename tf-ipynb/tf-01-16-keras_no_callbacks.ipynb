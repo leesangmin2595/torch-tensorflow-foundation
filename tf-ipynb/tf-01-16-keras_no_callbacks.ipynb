{
 "cells": [
  {
   "cell_type": "markdown",
   "source": [
    "## Keras Linear Regression without callbacks"
   ],
   "metadata": {}
  },
  {
   "cell_type": "code",
   "execution_count": 16,
   "source": [
    "import tensorflow as tf\n",
    "import numpy as np\n",
    "import matplotlib.pyplot as plt"
   ],
   "outputs": [],
   "metadata": {
    "colab": {},
    "colab_type": "code",
    "id": "5uwAkV2eIG_A"
   }
  },
  {
   "cell_type": "code",
   "execution_count": 17,
   "source": [
    "np.random.seed(0)"
   ],
   "outputs": [],
   "metadata": {
    "colab": {},
    "colab_type": "code",
    "id": "Ac5LSc1mIKZ4"
   }
  },
  {
   "cell_type": "markdown",
   "source": [
    "### Step 1. Make random data"
   ],
   "metadata": {}
  },
  {
   "cell_type": "code",
   "execution_count": 18,
   "source": [
    "def make_random_data():\n",
    "    x = np.random.uniform(low=-2, high=2, size=200)\n",
    "    y = []\n",
    "    for t in x:\n",
    "        r = np.random.normal(loc=0.0, scale=(0.5 + t*t/3), size=None)\n",
    "        y.append(r)\n",
    "    return  x, 1.726*x -0.84 + np.array(y)"
   ],
   "outputs": [],
   "metadata": {
    "colab": {},
    "colab_type": "code",
    "id": "VJzrpC5CILCv"
   }
  },
  {
   "cell_type": "markdown",
   "source": [
    "### Display data"
   ],
   "metadata": {}
  },
  {
   "cell_type": "code",
   "execution_count": 19,
   "source": [
    "x, y = make_random_data() \n",
    "\n",
    "plt.plot(x, y, 'o')\n",
    "plt.show()"
   ],
   "outputs": [
    {
     "output_type": "display_data",
     "data": {
      "image/png": "[encoded data removed]",
      "text/plain": [
       "<Figure size 432x288 with 1 Axes>"
      ]
     },
     "metadata": {
      "needs_background": "light"
     }
    }
   ],
   "metadata": {
    "colab": {
     "base_uri": "https://localhost:8080/",
     "height": 268
    },
    "colab_type": "code",
    "executionInfo": {
     "elapsed": 705,
     "status": "ok",
     "timestamp": 1563840013013,
     "user": {
      "displayName": "조현용",
      "photoUrl": "",
      "userId": "06121582825513881890"
     },
     "user_tz": -540
    },
    "id": "v5RbNVPdIL5F",
    "outputId": "65a281f9-635b-488b-ff9f-ccf463d521d0"
   }
  },
  {
   "cell_type": "markdown",
   "source": [
    "### Make training and test data"
   ],
   "metadata": {}
  },
  {
   "cell_type": "code",
   "execution_count": 20,
   "source": [
    "epoch=100\n",
    "x_train, y_train = x[:150], y[:150]\n",
    "x_test, y_test = x[150:], y[150:]"
   ],
   "outputs": [],
   "metadata": {
    "colab": {},
    "colab_type": "code",
    "id": "pR4YAMnsIN_M"
   }
  },
  {
   "cell_type": "markdown",
   "source": [
    "### Step 2-3. Sequential Model, Loss, Optimizer"
   ],
   "metadata": {}
  },
  {
   "cell_type": "code",
   "execution_count": 21,
   "source": [
    "model = tf.keras.Sequential()\n",
    "model.add(tf.keras.layers.Dense(units=1, input_dim=1))\n",
    "model.summary()\n",
    "model.compile(optimizer='sgd', loss='mse')"
   ],
   "outputs": [
    {
     "output_type": "stream",
     "name": "stdout",
     "text": [
      "Model: \"sequential_2\"\n",
      "_________________________________________________________________\n",
      "Layer (type)                 Output Shape              Param #   \n",
      "=================================================================\n",
      "dense_2 (Dense)              (None, 1)                 2         \n",
      "=================================================================\n",
      "Total params: 2\n",
      "Trainable params: 2\n",
      "Non-trainable params: 0\n",
      "_________________________________________________________________\n"
     ]
    }
   ],
   "metadata": {
    "colab": {
     "base_uri": "https://localhost:8080/",
     "height": 183
    },
    "colab_type": "code",
    "executionInfo": {
     "elapsed": 626,
     "status": "ok",
     "timestamp": 1563840032185,
     "user": {
      "displayName": "조현용",
      "photoUrl": "",
      "userId": "06121582825513881890"
     },
     "user_tz": -540
    },
    "id": "F-mBCW6YIRrw",
    "outputId": "dc6b98e8-b361-4636-9b40-2d5082258ebc"
   }
  },
  {
   "cell_type": "markdown",
   "source": [
    "### Step 4. Training the Model with no callbacks"
   ],
   "metadata": {}
  },
  {
   "cell_type": "markdown",
   "source": [],
   "metadata": {}
  },
  {
   "cell_type": "code",
   "execution_count": 22,
   "source": [
    "history = model.fit(x_train, y_train, epochs=100,\n",
    "                    validation_split=0.2)"
   ],
   "outputs": [
    {
     "output_type": "stream",
     "name": "stdout",
     "text": [
      "Train on 120 samples, validate on 30 samples\n",
      "Epoch 1/100\n",
      "120/120 [==============================] - 0s 2ms/sample - loss: 2.4947 - val_loss: 1.3544\n",
      "Epoch 2/100\n",
      "120/120 [==============================] - 0s 125us/sample - loss: 2.1978 - val_loss: 1.2262\n",
      "Epoch 3/100\n",
      "120/120 [==============================] - 0s 133us/sample - loss: 1.9575 - val_loss: 1.1265\n",
      "Epoch 4/100\n",
      "120/120 [==============================] - 0s 125us/sample - loss: 1.7622 - val_loss: 1.0457\n",
      "Epoch 5/100\n",
      "120/120 [==============================] - 0s 125us/sample - loss: 1.5988 - val_loss: 0.9785\n",
      "Epoch 6/100\n",
      "120/120 [==============================] - 0s 117us/sample - loss: 1.4586 - val_loss: 0.9282\n",
      "Epoch 7/100\n",
      "120/120 [==============================] - 0s 125us/sample - loss: 1.3458 - val_loss: 0.8870\n",
      "Epoch 8/100\n",
      "120/120 [==============================] - 0s 117us/sample - loss: 1.2489 - val_loss: 0.8563\n",
      "Epoch 9/100\n",
      "120/120 [==============================] - 0s 125us/sample - loss: 1.1718 - val_loss: 0.8331\n",
      "Epoch 10/100\n",
      "120/120 [==============================] - 0s 117us/sample - loss: 1.1093 - val_loss: 0.8153\n",
      "Epoch 11/100\n",
      "120/120 [==============================] - 0s 125us/sample - loss: 1.0558 - val_loss: 0.8016\n",
      "Epoch 12/100\n",
      "120/120 [==============================] - 0s 142us/sample - loss: 1.0105 - val_loss: 0.7919\n",
      "Epoch 13/100\n",
      "120/120 [==============================] - 0s 117us/sample - loss: 0.9757 - val_loss: 0.7849\n",
      "Epoch 14/100\n",
      "120/120 [==============================] - 0s 117us/sample - loss: 0.9420 - val_loss: 0.7804\n",
      "Epoch 15/100\n",
      "120/120 [==============================] - 0s 117us/sample - loss: 0.9177 - val_loss: 0.7781\n",
      "Epoch 16/100\n",
      "120/120 [==============================] - 0s 133us/sample - loss: 0.8959 - val_loss: 0.7770\n",
      "Epoch 17/100\n",
      "120/120 [==============================] - 0s 125us/sample - loss: 0.8779 - val_loss: 0.7769\n",
      "Epoch 18/100\n",
      "120/120 [==============================] - 0s 133us/sample - loss: 0.8635 - val_loss: 0.7778\n",
      "Epoch 19/100\n",
      "120/120 [==============================] - 0s 117us/sample - loss: 0.8523 - val_loss: 0.7793\n",
      "Epoch 20/100\n",
      "120/120 [==============================] - 0s 125us/sample - loss: 0.8417 - val_loss: 0.7811\n",
      "Epoch 21/100\n",
      "120/120 [==============================] - 0s 125us/sample - loss: 0.8341 - val_loss: 0.7835\n",
      "Epoch 22/100\n",
      "120/120 [==============================] - 0s 133us/sample - loss: 0.8256 - val_loss: 0.7862\n",
      "Epoch 23/100\n",
      "120/120 [==============================] - 0s 125us/sample - loss: 0.8189 - val_loss: 0.7888\n",
      "Epoch 24/100\n",
      "120/120 [==============================] - 0s 133us/sample - loss: 0.8136 - val_loss: 0.7912\n",
      "Epoch 25/100\n",
      "120/120 [==============================] - 0s 125us/sample - loss: 0.8104 - val_loss: 0.7937\n",
      "Epoch 26/100\n",
      "120/120 [==============================] - 0s 142us/sample - loss: 0.8059 - val_loss: 0.7964\n",
      "Epoch 27/100\n",
      "120/120 [==============================] - 0s 125us/sample - loss: 0.8054 - val_loss: 0.7989\n",
      "Epoch 28/100\n",
      "120/120 [==============================] - 0s 108us/sample - loss: 0.8010 - val_loss: 0.8011\n",
      "Epoch 29/100\n",
      "120/120 [==============================] - 0s 133us/sample - loss: 0.7996 - val_loss: 0.8038\n",
      "Epoch 30/100\n",
      "120/120 [==============================] - 0s 125us/sample - loss: 0.7975 - val_loss: 0.8062\n",
      "Epoch 31/100\n",
      "120/120 [==============================] - 0s 133us/sample - loss: 0.7964 - val_loss: 0.8086\n",
      "Epoch 32/100\n",
      "120/120 [==============================] - 0s 117us/sample - loss: 0.7945 - val_loss: 0.8103\n",
      "Epoch 33/100\n",
      "120/120 [==============================] - 0s 125us/sample - loss: 0.7935 - val_loss: 0.8124\n",
      "Epoch 34/100\n",
      "120/120 [==============================] - 0s 117us/sample - loss: 0.7935 - val_loss: 0.8146\n",
      "Epoch 35/100\n",
      "120/120 [==============================] - 0s 133us/sample - loss: 0.7917 - val_loss: 0.8166\n",
      "Epoch 36/100\n",
      "120/120 [==============================] - 0s 133us/sample - loss: 0.7915 - val_loss: 0.8181\n",
      "Epoch 37/100\n",
      "120/120 [==============================] - 0s 125us/sample - loss: 0.7908 - val_loss: 0.8194\n",
      "Epoch 38/100\n",
      "120/120 [==============================] - 0s 133us/sample - loss: 0.7914 - val_loss: 0.8202\n",
      "Epoch 39/100\n",
      "120/120 [==============================] - 0s 117us/sample - loss: 0.7906 - val_loss: 0.8220\n",
      "Epoch 40/100\n",
      "120/120 [==============================] - 0s 117us/sample - loss: 0.7897 - val_loss: 0.8230\n",
      "Epoch 41/100\n",
      "120/120 [==============================] - 0s 117us/sample - loss: 0.7915 - val_loss: 0.8234\n",
      "Epoch 42/100\n",
      "120/120 [==============================] - 0s 150us/sample - loss: 0.7917 - val_loss: 0.8246\n",
      "Epoch 43/100\n",
      "120/120 [==============================] - 0s 117us/sample - loss: 0.7918 - val_loss: 0.8259\n",
      "Epoch 44/100\n",
      "120/120 [==============================] - 0s 117us/sample - loss: 0.7894 - val_loss: 0.8269\n",
      "Epoch 45/100\n",
      "120/120 [==============================] - 0s 125us/sample - loss: 0.7887 - val_loss: 0.8275\n",
      "Epoch 46/100\n",
      "120/120 [==============================] - 0s 133us/sample - loss: 0.7890 - val_loss: 0.8289\n",
      "Epoch 47/100\n",
      "120/120 [==============================] - 0s 125us/sample - loss: 0.7892 - val_loss: 0.8289\n",
      "Epoch 48/100\n",
      "120/120 [==============================] - 0s 150us/sample - loss: 0.7890 - val_loss: 0.8293\n",
      "Epoch 49/100\n",
      "120/120 [==============================] - 0s 133us/sample - loss: 0.7887 - val_loss: 0.8296\n",
      "Epoch 50/100\n",
      "120/120 [==============================] - 0s 142us/sample - loss: 0.7887 - val_loss: 0.8306\n",
      "Epoch 51/100\n",
      "120/120 [==============================] - 0s 117us/sample - loss: 0.7881 - val_loss: 0.8311\n",
      "Epoch 52/100\n",
      "120/120 [==============================] - 0s 117us/sample - loss: 0.7901 - val_loss: 0.8320\n",
      "Epoch 53/100\n",
      "120/120 [==============================] - 0s 125us/sample - loss: 0.7886 - val_loss: 0.8328\n",
      "Epoch 54/100\n",
      "120/120 [==============================] - 0s 208us/sample - loss: 0.7888 - val_loss: 0.8329\n",
      "Epoch 55/100\n",
      "120/120 [==============================] - 0s 183us/sample - loss: 0.7889 - val_loss: 0.8332\n",
      "Epoch 56/100\n",
      "120/120 [==============================] - 0s 158us/sample - loss: 0.7890 - val_loss: 0.8329\n",
      "Epoch 57/100\n",
      "120/120 [==============================] - 0s 167us/sample - loss: 0.7889 - val_loss: 0.8326\n",
      "Epoch 58/100\n",
      "120/120 [==============================] - 0s 125us/sample - loss: 0.7890 - val_loss: 0.8330\n",
      "Epoch 59/100\n",
      "120/120 [==============================] - 0s 158us/sample - loss: 0.7884 - val_loss: 0.8332\n",
      "Epoch 60/100\n",
      "120/120 [==============================] - 0s 142us/sample - loss: 0.7885 - val_loss: 0.8337\n",
      "Epoch 61/100\n",
      "120/120 [==============================] - 0s 167us/sample - loss: 0.7891 - val_loss: 0.8333\n",
      "Epoch 62/100\n",
      "120/120 [==============================] - 0s 125us/sample - loss: 0.7887 - val_loss: 0.8338\n",
      "Epoch 63/100\n",
      "120/120 [==============================] - 0s 133us/sample - loss: 0.7885 - val_loss: 0.8346\n",
      "Epoch 64/100\n",
      "120/120 [==============================] - 0s 133us/sample - loss: 0.7893 - val_loss: 0.8345\n",
      "Epoch 65/100\n",
      "120/120 [==============================] - 0s 142us/sample - loss: 0.7888 - val_loss: 0.8346\n",
      "Epoch 66/100\n",
      "120/120 [==============================] - 0s 142us/sample - loss: 0.7902 - val_loss: 0.8356\n",
      "Epoch 67/100\n",
      "120/120 [==============================] - 0s 142us/sample - loss: 0.7899 - val_loss: 0.8363\n",
      "Epoch 68/100\n",
      "120/120 [==============================] - 0s 108us/sample - loss: 0.7884 - val_loss: 0.8368\n",
      "Epoch 69/100\n",
      "120/120 [==============================] - 0s 108us/sample - loss: 0.7884 - val_loss: 0.8366\n",
      "Epoch 70/100\n",
      "120/120 [==============================] - 0s 117us/sample - loss: 0.7884 - val_loss: 0.8363\n",
      "Epoch 71/100\n",
      "120/120 [==============================] - 0s 117us/sample - loss: 0.7879 - val_loss: 0.8366\n",
      "Epoch 72/100\n",
      "120/120 [==============================] - 0s 125us/sample - loss: 0.7884 - val_loss: 0.8371\n",
      "Epoch 73/100\n",
      "120/120 [==============================] - 0s 125us/sample - loss: 0.7890 - val_loss: 0.8364\n",
      "Epoch 74/100\n",
      "120/120 [==============================] - 0s 150us/sample - loss: 0.7879 - val_loss: 0.8366\n",
      "Epoch 75/100\n",
      "120/120 [==============================] - 0s 117us/sample - loss: 0.7889 - val_loss: 0.8360\n",
      "Epoch 76/100\n",
      "120/120 [==============================] - 0s 117us/sample - loss: 0.7900 - val_loss: 0.8362\n",
      "Epoch 77/100\n",
      "120/120 [==============================] - 0s 117us/sample - loss: 0.7884 - val_loss: 0.8359\n"
     ]
    },
    {
     "output_type": "stream",
     "name": "stdout",
     "text": [
      "Epoch 78/100\n",
      "120/120 [==============================] - 0s 117us/sample - loss: 0.7887 - val_loss: 0.8356\n",
      "Epoch 79/100\n",
      "120/120 [==============================] - 0s 133us/sample - loss: 0.7891 - val_loss: 0.8366\n",
      "Epoch 80/100\n",
      "120/120 [==============================] - 0s 117us/sample - loss: 0.7888 - val_loss: 0.8368\n",
      "Epoch 81/100\n",
      "120/120 [==============================] - 0s 125us/sample - loss: 0.7885 - val_loss: 0.8362\n",
      "Epoch 82/100\n",
      "120/120 [==============================] - 0s 125us/sample - loss: 0.7889 - val_loss: 0.8365\n",
      "Epoch 83/100\n",
      "120/120 [==============================] - 0s 125us/sample - loss: 0.7887 - val_loss: 0.8362\n",
      "Epoch 84/100\n",
      "120/120 [==============================] - 0s 117us/sample - loss: 0.7881 - val_loss: 0.8368\n",
      "Epoch 85/100\n",
      "120/120 [==============================] - 0s 133us/sample - loss: 0.7888 - val_loss: 0.8374\n",
      "Epoch 86/100\n",
      "120/120 [==============================] - 0s 117us/sample - loss: 0.7882 - val_loss: 0.8375\n",
      "Epoch 87/100\n",
      "120/120 [==============================] - 0s 125us/sample - loss: 0.7883 - val_loss: 0.8379\n",
      "Epoch 88/100\n",
      "120/120 [==============================] - 0s 125us/sample - loss: 0.7894 - val_loss: 0.8374\n",
      "Epoch 89/100\n",
      "120/120 [==============================] - 0s 125us/sample - loss: 0.7892 - val_loss: 0.8378\n",
      "Epoch 90/100\n",
      "120/120 [==============================] - 0s 125us/sample - loss: 0.7892 - val_loss: 0.8378\n",
      "Epoch 91/100\n",
      "120/120 [==============================] - 0s 125us/sample - loss: 0.7879 - val_loss: 0.8379\n",
      "Epoch 92/100\n",
      "120/120 [==============================] - 0s 125us/sample - loss: 0.7884 - val_loss: 0.8384\n",
      "Epoch 93/100\n",
      "120/120 [==============================] - 0s 125us/sample - loss: 0.7886 - val_loss: 0.8385\n",
      "Epoch 94/100\n",
      "120/120 [==============================] - 0s 133us/sample - loss: 0.7881 - val_loss: 0.8380\n",
      "Epoch 95/100\n",
      "120/120 [==============================] - 0s 125us/sample - loss: 0.7891 - val_loss: 0.8389\n",
      "Epoch 96/100\n",
      "120/120 [==============================] - 0s 133us/sample - loss: 0.7903 - val_loss: 0.8377\n",
      "Epoch 97/100\n",
      "120/120 [==============================] - 0s 125us/sample - loss: 0.7879 - val_loss: 0.8372\n",
      "Epoch 98/100\n",
      "120/120 [==============================] - 0s 125us/sample - loss: 0.7883 - val_loss: 0.8368\n",
      "Epoch 99/100\n",
      "120/120 [==============================] - 0s 133us/sample - loss: 0.7886 - val_loss: 0.8366\n",
      "Epoch 100/100\n",
      "120/120 [==============================] - 0s 142us/sample - loss: 0.7887 - val_loss: 0.8365\n"
     ]
    }
   ],
   "metadata": {
    "colab": {
     "base_uri": "https://localhost:8080/",
     "height": 1000
    },
    "colab_type": "code",
    "executionInfo": {
     "elapsed": 1558,
     "status": "ok",
     "timestamp": 1563840038827,
     "user": {
      "displayName": "조현용",
      "photoUrl": "",
      "userId": "06121582825513881890"
     },
     "user_tz": -540
    },
    "id": "QBnozVLTISsA",
    "outputId": "d0735195-3eb5-4000-d6ee-7ac438378fc7"
   }
  },
  {
   "cell_type": "markdown",
   "source": [
    "### Step 5. Test the Model"
   ],
   "metadata": {}
  },
  {
   "cell_type": "code",
   "execution_count": 23,
   "source": [
    "test_loss = model.evaluate(x_test, y_test, verbose=2)\n",
    "print('test_loss = ', test_loss)"
   ],
   "outputs": [
    {
     "output_type": "stream",
     "name": "stdout",
     "text": [
      "50/1 - 0s - loss: 0.7809\n",
      "test_loss =  0.9625390601158142\n"
     ]
    }
   ],
   "metadata": {
    "colab": {
     "base_uri": "https://localhost:8080/",
     "height": 50
    },
    "colab_type": "code",
    "executionInfo": {
     "elapsed": 605,
     "status": "ok",
     "timestamp": 1563840042829,
     "user": {
      "displayName": "조현용",
      "photoUrl": "",
      "userId": "06121582825513881890"
     },
     "user_tz": -540
    },
    "id": "fyRtz55FIUFQ",
    "outputId": "f9d9985d-4119-4153-b5b0-c34f6cc250d7"
   }
  },
  {
   "cell_type": "markdown",
   "source": [
    "###  Display Training & Validataion Losses"
   ],
   "metadata": {}
  },
  {
   "cell_type": "code",
   "execution_count": 24,
   "source": [
    "epochs = np.arange(1, len(history.history['loss'])+1)\n",
    "plt.plot(epochs, history.history['loss'], label='Training loss')\n",
    "plt.plot(epochs, history.history['val_loss'], label='Validation loss')\n",
    "plt.xlabel('Epochs')\n",
    "plt.ylabel('Loss')\n",
    "plt.legend()\n",
    "plt.show()"
   ],
   "outputs": [
    {
     "output_type": "display_data",
     "data": {
      "image/png": "[encoded data removed]",
      "text/plain": [
       "<Figure size 432x288 with 1 Axes>"
      ]
     },
     "metadata": {
      "needs_background": "light"
     }
    }
   ],
   "metadata": {
    "colab": {
     "base_uri": "https://localhost:8080/",
     "height": 282
    },
    "colab_type": "code",
    "executionInfo": {
     "elapsed": 762,
     "status": "ok",
     "timestamp": 1563840048440,
     "user": {
      "displayName": "조현용",
      "photoUrl": "",
      "userId": "06121582825513881890"
     },
     "user_tz": -540
    },
    "id": "2UtlumvYIVSs",
    "outputId": "52884aa7-05c0-49fd-a7ad-8b5277ec7923"
   }
  },
  {
   "cell_type": "code",
   "execution_count": null,
   "source": [],
   "outputs": [],
   "metadata": {}
  },
  {
   "cell_type": "markdown",
   "source": [
    "### Display the Regression Result"
   ],
   "metadata": {}
  },
  {
   "cell_type": "code",
   "execution_count": 25,
   "source": [
    "x_arr = np.arange(-2, 2, 0.1)\n",
    "y_arr = model.predict(x_arr)\n",
    "\n",
    "plt.figure()\n",
    "plt.plot(x_train, y_train, 'bo')\n",
    "plt.plot(x_test, y_test, 'bo', alpha=0.3)\n",
    "plt.plot(x_arr, y_arr, '-r', lw=3)\n",
    "plt.show()"
   ],
   "outputs": [
    {
     "output_type": "display_data",
     "data": {
      "image/png": "[encoded data removed]",
      "text/plain": [
       "<Figure size 432x288 with 1 Axes>"
      ]
     },
     "metadata": {
      "needs_background": "light"
     }
    }
   ],
   "metadata": {
    "colab": {
     "base_uri": "https://localhost:8080/",
     "height": 268
    },
    "colab_type": "code",
    "executionInfo": {
     "elapsed": 906,
     "status": "ok",
     "timestamp": 1563840053654,
     "user": {
      "displayName": "조현용",
      "photoUrl": "",
      "userId": "06121582825513881890"
     },
     "user_tz": -540
    },
    "id": "J102oVmLIWnz",
    "outputId": "169568a3-2d7a-4c45-d89c-4560de31c7bd"
   }
  },
  {
   "cell_type": "code",
   "execution_count": null,
   "source": [],
   "outputs": [],
   "metadata": {}
  }
 ],
 "metadata": {
  "accelerator": "GPU",
  "colab": {
   "collapsed_sections": [],
   "name": "tf2-01-16-keras_no_callbacks.ipynb",
   "provenance": [],
   "version": "0.3.2"
  },
  "kernelspec": {
   "display_name": "Python 3",
   "language": "python",
   "name": "python3"
  },
  "language_info": {
   "codemirror_mode": {
    "name": "ipython",
    "version": 3
   },
   "file_extension": ".py",
   "mimetype": "text/x-python",
   "name": "python",
   "nbconvert_exporter": "python",
   "pygments_lexer": "ipython3",
   "version": "3.7.6"
  }
 },
 "nbformat": 4,
 "nbformat_minor": 1
}
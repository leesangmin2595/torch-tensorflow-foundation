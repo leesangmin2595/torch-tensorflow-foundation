{
 "cells": [
  {
   "cell_type": "code",
   "execution_count": 6,
   "metadata": {
    "colab": {},
    "colab_type": "code",
    "id": "vWn3eu-JGu18"
   },
   "outputs": [],
   "source": [
    "import tensorflow as tf"
   ]
  },
  {
   "cell_type": "markdown",
   "metadata": {},
   "source": [
    "### Load IMDB"
   ]
  },
  {
   "cell_type": "code",
   "execution_count": 7,
   "metadata": {
    "colab": {
     "base_uri": "https://localhost:8080/",
     "height": 150
    },
    "colab_type": "code",
    "executionInfo": {
     "elapsed": 7501,
     "status": "ok",
     "timestamp": 1563839645487,
     "user": {
      "displayName": "조현용",
      "photoUrl": "",
      "userId": "06121582825513881890"
     },
     "user_tz": -540
    },
    "id": "Y7Ua4WEVGxNK",
    "outputId": "bd15d4bd-7b20-4dd7-d4ef-e5792551df2c"
   },
   "outputs": [
    {
     "name": "stdout",
     "output_type": "stream",
     "text": [
      "(25000,) (25000,)\n",
      "- Training Data Length -\n",
      "218 189 141 ... 153\n"
     ]
    }
   ],
   "source": [
    "target = [\"negative sentiment\", \"positive sentiment\"]\n",
    "\n",
    "(X_train, y_train),(X_test,y_test)=tf.keras.datasets.imdb.load_data(num_words=20000)\n",
    "print(X_train.shape, X_test.shape)\n",
    "print(\"- Training Data Length -\")\n",
    "print(len(X_train[0]),len(X_train[1]),len(X_train[2]),\"...\",len(X_train[24999]))"
   ]
  },
  {
   "cell_type": "markdown",
   "metadata": {},
   "source": [
    "###  Decoding IMDB"
   ]
  },
  {
   "cell_type": "code",
   "execution_count": 8,
   "metadata": {},
   "outputs": [],
   "source": [
    "word_index=tf.keras.datasets.imdb.get_word_index()\n",
    "reverse_word_index = dict([(value, key) for (key, value) in word_index.items()])\n",
    "decoded_review = [reverse_word_index.get(i-3, ' ') for i in X_train[0]]"
   ]
  },
  {
   "cell_type": "markdown",
   "metadata": {},
   "source": [
    "### Training data 1 : sentence"
   ]
  },
  {
   "cell_type": "code",
   "execution_count": 9,
   "metadata": {
    "colab": {
     "base_uri": "https://localhost:8080/",
     "height": 136
    },
    "colab_type": "code",
    "executionInfo": {
     "elapsed": 3783,
     "status": "ok",
     "timestamp": 1563839645490,
     "user": {
      "displayName": "조현용",
      "photoUrl": "",
      "userId": "06121582825513881890"
     },
     "user_tz": -540
    },
    "id": "bEyR74YWGymj",
    "outputId": "9ac064e7-c5cf-44c5-eb4f-7cd2166ce131"
   },
   "outputs": [
    {
     "name": "stdout",
     "output_type": "stream",
     "text": [
      "- decoded training data 1 - : target - positive sentiment\n",
      "  this film was just brilliant casting location scenery story direction everyone's really suited the part they played and you could just imagine being there robert   is an amazing actor and now the same being director   father came from the same scottish island as myself so i \n",
      "loved the fact there was a real connection with this film the witty remarks throughout the film were great it was just brilliant so much that i bought the film as soon as it was released for retail and would recommend it to everyone to watch and the fly fishing \n",
      "was amazing really cried at the end it was so sad and you know what they say if you cry at a film it must have been good and this definitely was also congratulations to the two little boy's that played the   of norman and paul they were just \n",
      "brilliant children are often left out of the praising list i think because the stars that play them all grown up are such a big profile for the whole film but these children are amazing and should be praised for what they have done don't you think the whole story \n",
      "was so lovely because it was true and was someone's life after all that was shared with us all "
     ]
    }
   ],
   "source": [
    "print('- decoded training data 1 - : target - %s' % target[y_train[0]])\n",
    "for i in range(len(decoded_review)):\n",
    "  if (i+1)%50==0:\n",
    "    print(\"\")\n",
    "    \n",
    "  print(decoded_review[i],end=' ')"
   ]
  },
  {
   "cell_type": "markdown",
   "metadata": {},
   "source": [
    "## Training data 2 : sentence"
   ]
  },
  {
   "cell_type": "code",
   "execution_count": 11,
   "metadata": {
    "colab": {
     "base_uri": "https://localhost:8080/",
     "height": 120
    },
    "colab_type": "code",
    "executionInfo": {
     "elapsed": 662,
     "status": "ok",
     "timestamp": 1563839647203,
     "user": {
      "displayName": "조현용",
      "photoUrl": "",
      "userId": "06121582825513881890"
     },
     "user_tz": -540
    },
    "id": "I8AdhjxlGzgp",
    "outputId": "cfb48abe-14d4-451c-8dd6-be3873923453"
   },
   "outputs": [
    {
     "name": "stdout",
     "output_type": "stream",
     "text": [
      "- decoded training data 2 - : target - negative sentiment\n",
      "  big hair big boobs bad music and a giant safety pin these are the words to best describe this terrible movie i love cheesy horror movies and i've seen hundreds but this had got to be on of the worst ever made the plot is paper thin and \n",
      "ridiculous the acting is an abomination the script is completely laughable the best is the end showdown with the cop and how he worked out who the killer is it's just so damn terribly written the clothes are sickening and funny in equal measures the hair is big lots of \n",
      "boobs bounce men wear those cut tee shirts that show off their   sickening that men actually wore them and the music is just   trash that plays over and over again in almost every scene there is trashy music boobs and   taking away bodies and the gym still \n",
      "doesn't close for   all joking aside this is a truly bad film whose only charm is to look back on the disaster that was the 80's and have a good old laugh at how bad everything was back then "
     ]
    }
   ],
   "source": [
    "decoded_review1 = [reverse_word_index.get(i-3, ' ') for i in X_train[1]]\n",
    "print('- decoded training data 2 - : target - %s' % target[y_train[1]])\n",
    "for i in range(len(decoded_review1)):\n",
    "  if (i+1)%50==0:\n",
    "    print(\"\")\n",
    "    \n",
    "  print(decoded_review1[i],end=' ')"
   ]
  },
  {
   "cell_type": "code",
   "execution_count": 0,
   "metadata": {
    "colab": {},
    "colab_type": "code",
    "id": "HvcwuFkxG0sJ"
   },
   "outputs": [],
   "source": []
  }
 ],
 "metadata": {
  "colab": {
   "collapsed_sections": [],
   "name": "tf2-01-10-keras_imdb_display.ipynb",
   "provenance": [],
   "version": "0.3.2"
  },
  "kernelspec": {
   "display_name": "Python 3",
   "language": "python",
   "name": "python3"
  },
  "language_info": {
   "codemirror_mode": {
    "name": "ipython",
    "version": 3
   },
   "file_extension": ".py",
   "mimetype": "text/x-python",
   "name": "python",
   "nbconvert_exporter": "python",
   "pygments_lexer": "ipython3",
   "version": "3.7.6"
  }
 },
 "nbformat": 4,
 "nbformat_minor": 1
}
